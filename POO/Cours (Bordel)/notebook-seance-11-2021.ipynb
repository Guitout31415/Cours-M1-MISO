{
 "cells": [
  {
   "cell_type": "markdown",
   "metadata": {},
   "source": [
    "# Notebook séance 11\n",
    "\n",
    "Les [dictionnaires](https://python.sdv.univ-paris-diderot.fr/13_dictionnaires_tuples_sets/) en Python.\n",
    "\n",
    "Extension de l'exercice sur le parsing d'un fichier Genbank. Voir la section **Nouvelles questions**."
   ]
  },
  {
   "cell_type": "markdown",
   "metadata": {},
   "source": [
    "### Extraire les coordonnées des gènes à partir d'un fichier Genbank\n",
    "\n",
    "Dans une séquence stockée au format GenBank, les gènes sont donnés par les lignes du type :\n",
    "```txt\n",
    "     gene            266..21555\n",
    "```\n",
    "débutant par le mot-clé `gene` et suivi par un couple de positions, séparé par `..`.\n",
    "\n",
    "#### Q1.\n",
    "\n",
    "Ecrire une fonction `genbank2gene` qui étant donné un fichier au format GenBank retourne la liste de couples de positions de l'ensemble des gènes. \n",
    "Typiquement :\n",
    "```cython\n",
    ">>> genbank2gene(\"sars-cov-2.gb\")\n",
    "[ (266, 21555), (21563, 25384), (25393, 26220), (26245, 26472), (26523, 27191), (27202, 27387), (27394, 27759), (27756, 27887), (27894, 28259), (28274, 29533), (29558, 29674) ]\n",
    "```\n",
    "Il pourrait être utile de se créer une fonction qui étant donné une ligne (une chaîne de caractères) de type `gene` d'un fichier GenBank et retrurne le couple de positions.\n",
    "```cython\n",
    ">>> get_positions(\"     gene            266..21555\")\n",
    "(266, 21555)\n",
    "```\n",
    "\n",
    "On pourra tester sur le gène [BRCA2](https://www.ncbi.nlm.nih.gov/nuccore/NM_000059.3) qui ne contient bien sûr qu'un seul gène puis sur le génome du [SARS-CoV-2](https://www.ncbi.nlm.nih.gov/nuccore/NC_045512.2) "
   ]
  },
  {
   "cell_type": "markdown",
   "metadata": {},
   "source": [
    "#### Q2. \n",
    "\n",
    "On remarque que sous la *feature* `gene` on trouve une annotation donnant le nom du gène :\n",
    "```\n",
    "     gene            266..21555\n",
    "                     /gene=\"ORF1ab\"\n",
    "```\n",
    "\n",
    "Modifiez votre fonction pour qu'elle retourne un dictionnaire qui associe à chaque nom de gène ses positions sur la séquence (on supposera qu'il n'y a pas deux gènes de même nom dans une séquence). \n",
    "Typiquement :\n",
    "```cython\n",
    ">>> genbank2gene(\"sars-cov-2.gb\")\n",
    "{ 'ORF1ab': (190,255), 'S': (21563, 25384), ... }\n",
    "```\n",
    "Là aussi créer une fonction utilitaire qui transforme une chaîne de caractères de type `/gene` pourrait s'avérer utile."
   ]
  },
  {
   "cell_type": "markdown",
   "metadata": {},
   "source": [
    "#### Q3. \n",
    "\n",
    "En fait l'annotation `gene` est un peu plus complexe. Un gène peut être positionné sur le brin négatif. Dans ce cas l'annotation a cette forme :\n",
    "```\n",
    "     gene            complement(3575721..3577061)\n",
    "```\n",
    "et parfois un gène peut être découpé en exons :\n",
    "```\n",
    "     gene            join(3583038..3583427,3584205..3584309)\n",
    "```\n",
    "\n",
    "Modifiez votre fonction pour qu'elle prenne en compte les gènes sur le brin négatif. Le couple déterminant les positions d'une gène dans le dictionnaire sera alors constitué des deux positions dans l'ordre inverse (la plus grande avant la plus petite, afin de se souvenir qu'on est sur le brin négatif).\n",
    "\n",
    "Par exemple pour\n",
    "```\n",
    "     gene            complement(3575721..3577061)\n",
    "```\n",
    "on obtiendra le couple\n",
    "```\n",
    "(3577061, 3575721)\n",
    "```\n",
    "\n",
    "Testez sur le génome complet d'[E.Coli](https://www.ncbi.nlm.nih.gov/nuccore/NC_000913.3)"
   ]
  },
  {
   "cell_type": "markdown",
   "metadata": {},
   "source": [
    "#### Q4.\n",
    "\n",
    "Proposez une manière de stocker les gènes multiexoniques. Modifiez votre fonction pour les prendre en compte."
   ]
  },
  {
   "cell_type": "markdown",
   "metadata": {},
   "source": [
    "#### Q5.\n",
    "\n",
    "Ecrire une fonction qui prend en entrée un fichier Genbank et produit autant de fichiers qu'il y a de gènes, chaque fichier contenant la séquence du gène, i.e. la concaténation des exons. Attention que si le gène est sur le brin négatif, alors il faudra enregistrer dans le fichier la séquence complémentaire inversée."
   ]
  },
  {
   "cell_type": "markdown",
   "metadata": {},
   "source": [
    "### Nouvelles questions\n",
    "\n",
    "Dans les nouvelles questions on aborde une structuration des données différentes.\n",
    "\n",
    "Au lieu par exemple de convenir que les positions sont données sous  forme de couple on va nommer les positions. Ceci permet une écriture plus lisible du code et va permettre de glisser vers une modélisation orientée objet des données qu'on traite."
   ]
  },
  {
   "cell_type": "markdown",
   "metadata": {},
   "source": [
    "#### Q6.\n",
    "\n",
    "On change maintenant la représentation des gènes d'une séquence. Au lieu de produire un dictionnaire indexé par les noms des gènes, on va produire une liste de gènes, chaque gène étant modélisé par un dictionnaire dont les clés décriront les caractéristiques du gène.\n",
    "\n",
    "Par exemple le gène ORF1ab cité plus haut sera modélisé par :\n",
    "```python\n",
    "{ 'name' : 'ORF1ab', 'begin' : 190, 'end' : 255, strand : '+', exons : [ (190,255) ] }\n",
    "```\n",
    "et le gène yaiX de *E.Coli* sera modélisé par :\n",
    "```python\n",
    "{ 'name' : 'yaiX', 'begin' : 380844, 'end' : 382872, strand : '-', exons : [ (380844,381260), (382591,382872) ] }\n",
    "```\n",
    "\n",
    "AInsi, pour obtenir la longueur d'un gène (dans le cas monoexonique), on aurait écrit dans la précédente représentation :\n",
    "```python\n",
    "genes['ORF1ab'][1] - genes['ORF1ab'][0] + 1\n",
    "```\n",
    "on écrira maintenant :\n",
    "```python\n",
    "# en admettant que genes[0] contienne { 'name' : 'ORF1ab', 'begin' : 190, 'end' : 255, strand : '+', exons : [ (190,255) ] }\n",
    "orf1ab = genes[0] \n",
    "orf1ba['end'] - orf1ab['begin'] + 1\n",
    "```\n",
    "\n",
    "Ecrire une nouvelle version de la fonction `genbank2gene` qui produise une liste de tels dictionnaires.\n"
   ]
  },
  {
   "cell_type": "markdown",
   "metadata": {},
   "source": [
    "#### Q7.\n",
    "\n",
    "Allons encore plus loin. Maintenant que nous avons traité les gènes, nous pourrions traiter n'importe quelle annotation du fichier GenBank. L'objectif est désormais de stocker toutes les *features* dans une liste. On modélisera ces *features* comme une liste de dictionnaires. Dans un premier temps, chaque dictionnaire contiendra un type, des coordonnées de debut et de fin et le strand (on traite la partie *Location* de chaque *feature*).\n",
    "\n",
    "Par exemple, on obtiendra pour Sars-Cov-2 :\n",
    "```python\n",
    "[ { 'type' : 'source', 'begin' : 1, 'end' : 29903, 'strand' : '+' },\n",
    "  { 'type' : \"5'UTR\", 'begin' : 1, 'end' : 265, 'strand' : '+' },\n",
    "  { 'type' : 'gene', 'begin' : 266, 'end' : 21555, 'strand' : '+' },\n",
    "  { 'type' : 'CDS', 'begin' : 266, 'end' : 21555, 'strand' : '+' },\n",
    "  { 'type' : 'mat_peptide', 'begin' : 266, 'end' : 805, 'strand' : '+' },\n",
    "  ... ]\n",
    "```  \n",
    "\n",
    "Ecrire une fonction `genbank2features` capable de produire une telle liste. Une nouvelle fois, l'écrire de sous-fonctions peut permettre d'aboutir à une écriture plus claire du code."
   ]
  },
  {
   "cell_type": "code",
   "execution_count": 3,
   "metadata": {},
   "outputs": [],
   "source": [
    "def genbank2features(filename):\n",
    "    dico={}\n",
    "    list_dico=[]\n",
    "    list_final=[]\n",
    "    list_transition=[]\n",
    "    list_remove=[]\n",
    "    a = 0\n",
    "    list_type=[]\n",
    "    list_positions=[]\n",
    "    #Stockage des informations\n",
    "    with open(filename,'r') as file:\n",
    "        line=file.readline()\n",
    "        #on passe à ligne suivante jusqu'a l'endroit des gene, cds etc\n",
    "        while not line.startswith(\"FEATURES\"):\n",
    "            line=file.readline()\n",
    "        line=file.readline() #aller à la ligne après features\n",
    "        while not line.startswith(\"ORIGIN\"):\n",
    "            if line[5] !=' ':\n",
    "                list_type.append(line[5:21])\n",
    "                list_positions.append(line[21:37])\n",
    "            line = file.readline()\n",
    "#Nous ne nous occupons pas des exons sur plusieurs genes : on les retire\n",
    "        for i in range(0,len(list_type)):\n",
    "            if \"join\" in list_positions[i]:\n",
    "                list_remove.append(i)\n",
    "            list_positions[i] = list_positions[i].strip()\n",
    "            list_type[i] = list_type[i].strip()\n",
    "        for i in list_remove:\n",
    "            list_type.remove(list_type[i])\n",
    "            list_positions.remove(list_positions[i])\n",
    "#Stockage des type par couple (debut, fin)\n",
    "        for s in list_positions:\n",
    "            list_transition = s.split('..')\n",
    "            list_final.append((list_transition[0], list_transition[1]))\n",
    "        i=0\n",
    "#Présentation en liste de dictionnaires\n",
    "        while i != len(list_type):\n",
    "            dico = {'type': list_type[i], 'begin': list_final[i][0], 'end': list_final[i][1]}\n",
    "            list_dico.append(dico)\n",
    "            i+=1\n",
    "        return list_dico"
   ]
  },
  {
   "cell_type": "code",
   "execution_count": 4,
   "metadata": {},
   "outputs": [
    {
     "data": {
      "text/plain": [
       "[{'type': 'source', 'begin': '1', 'end': '29903'},\n",
       " {'type': \"5'UTR\", 'begin': '1', 'end': '265'},\n",
       " {'type': 'gene', 'begin': '266', 'end': '21555'},\n",
       " {'type': 'mat_peptide', 'begin': '266', 'end': '805'},\n",
       " {'type': 'mat_peptide', 'begin': '806', 'end': '2719'},\n",
       " {'type': 'mat_peptide', 'begin': '2720', 'end': '8554'},\n",
       " {'type': 'mat_peptide', 'begin': '8555', 'end': '10054'},\n",
       " {'type': 'mat_peptide', 'begin': '10055', 'end': '10972'},\n",
       " {'type': 'mat_peptide', 'begin': '10973', 'end': '11842'},\n",
       " {'type': 'mat_peptide', 'begin': '11843', 'end': '12091'},\n",
       " {'type': 'mat_peptide', 'begin': '12092', 'end': '12685'},\n",
       " {'type': 'mat_peptide', 'begin': '12686', 'end': '13024'},\n",
       " {'type': 'mat_peptide', 'begin': '13025', 'end': '13441'},\n",
       " {'type': 'mat_peptide', 'begin': 'join(13442', 'end': '1346'},\n",
       " {'type': 'mat_peptide', 'begin': '18040', 'end': '19620'},\n",
       " {'type': 'mat_peptide', 'begin': '19621', 'end': '20658'},\n",
       " {'type': 'mat_peptide', 'begin': '20659', 'end': '21552'},\n",
       " {'type': 'CDS', 'begin': '266', 'end': '13483'},\n",
       " {'type': 'mat_peptide', 'begin': '266', 'end': '805'},\n",
       " {'type': 'mat_peptide', 'begin': '806', 'end': '2719'},\n",
       " {'type': 'mat_peptide', 'begin': '2720', 'end': '8554'},\n",
       " {'type': 'mat_peptide', 'begin': '8555', 'end': '10054'},\n",
       " {'type': 'mat_peptide', 'begin': '10055', 'end': '10972'},\n",
       " {'type': 'mat_peptide', 'begin': '10973', 'end': '11842'},\n",
       " {'type': 'mat_peptide', 'begin': '11843', 'end': '12091'},\n",
       " {'type': 'mat_peptide', 'begin': '12092', 'end': '12685'},\n",
       " {'type': 'mat_peptide', 'begin': '12686', 'end': '13024'},\n",
       " {'type': 'mat_peptide', 'begin': '13025', 'end': '13441'},\n",
       " {'type': 'mat_peptide', 'begin': '13442', 'end': '13480'},\n",
       " {'type': 'stem_loop', 'begin': '13476', 'end': '13503'},\n",
       " {'type': 'stem_loop', 'begin': '13488', 'end': '13542'},\n",
       " {'type': 'gene', 'begin': '21563', 'end': '25384'},\n",
       " {'type': 'CDS', 'begin': '21563', 'end': '25384'},\n",
       " {'type': 'gene', 'begin': '25393', 'end': '26220'},\n",
       " {'type': 'CDS', 'begin': '25393', 'end': '26220'},\n",
       " {'type': 'gene', 'begin': '26245', 'end': '26472'},\n",
       " {'type': 'CDS', 'begin': '26245', 'end': '26472'},\n",
       " {'type': 'gene', 'begin': '26523', 'end': '27191'},\n",
       " {'type': 'CDS', 'begin': '26523', 'end': '27191'},\n",
       " {'type': 'gene', 'begin': '27202', 'end': '27387'},\n",
       " {'type': 'CDS', 'begin': '27202', 'end': '27387'},\n",
       " {'type': 'gene', 'begin': '27394', 'end': '27759'},\n",
       " {'type': 'CDS', 'begin': '27394', 'end': '27759'},\n",
       " {'type': 'gene', 'begin': '27756', 'end': '27887'},\n",
       " {'type': 'CDS', 'begin': '27756', 'end': '27887'},\n",
       " {'type': 'gene', 'begin': '27894', 'end': '28259'},\n",
       " {'type': 'CDS', 'begin': '27894', 'end': '28259'},\n",
       " {'type': 'gene', 'begin': '28274', 'end': '29533'},\n",
       " {'type': 'CDS', 'begin': '28274', 'end': '29533'},\n",
       " {'type': 'gene', 'begin': '29558', 'end': '29674'},\n",
       " {'type': 'CDS', 'begin': '29558', 'end': '29674'},\n",
       " {'type': 'stem_loop', 'begin': '29609', 'end': '29644'},\n",
       " {'type': 'stem_loop', 'begin': '29629', 'end': '29657'},\n",
       " {'type': \"3'UTR\", 'begin': '29675', 'end': '29903'},\n",
       " {'type': 'stem_loop', 'begin': '29728', 'end': '29768'}]"
      ]
     },
     "execution_count": 4,
     "metadata": {},
     "output_type": "execute_result"
    }
   ],
   "source": [
    "genbank2features('sars-cov-2.gb')"
   ]
  },
  {
   "cell_type": "markdown",
   "metadata": {},
   "source": [
    "#### Q8.\n",
    "\n",
    "Compléter la fonction précédente pour traiter la partie *Qualifiers* de chaque *feature*. \n",
    "\n",
    "Les qualifiers sont généralement de la forme `/nom=valeur`. Les informations complémentaires sont stockées dans un dictionnaire dont chaque clé est le nom du *qualifier* et la valeur ... sa valeur. Attention certains qualifiers comme `/ribosomal_slippage` n'ont pas de valeur associée, on leur associera alors la valeur `True`.\n",
    "\n",
    "On produira maintenant :\n",
    "\n",
    "```python\n",
    "[ { 'type' : 'source', 'begin' : 1, 'end' : 29903, 'strand' : '+', 'informations' : { 'organism' : \"Severe acute respiratory syndrome coronavirus 2\", 'mol_type' : \"genomic RNA\", ... } },\n",
    "  { 'type' : \"5'UTR\", 'begin' : 1, 'end' : 265, 'strand' : '+', 'informations' : None },\n",
    "  { 'type' : 'gene', 'begin' : 266, 'end' : 21555, 'strand' : '+', 'informations' : { 'gene' : \"ORF1ab\", 'locus_tag' : \"GU280_gp01\", 'db_xref' : \"GeneID:43740578\" } },\n",
    "  ... ]\n",
    "```  \n",
    "\n"
   ]
  },
  {
   "cell_type": "markdown",
   "metadata": {},
   "source": [
    "#### Q9.\n",
    "\n",
    "Ecrire des fonctions utilitaires permettant de manipuler les features. Chacune de ces fonctions prend en paramètre une *feature*, i.e. un dictionnaire  :\n",
    "- `type`\n",
    "- `length`\n",
    "- `strand` (1 ou -1 suivant le strand)\n",
    "- `sequence` (qui prend en plus en paramètre la chaîne de caractère représentant la séquence)\n",
    "- `is_gene` (vrai ou faux suivant que c'est un gène)\n",
    "- `name` (retourne None si ce n'est pas un gène, le nom du gène sinon)\n",
    "\n",
    "```shell\n",
    ">>> type({'type' : 'gene', 'begin' : 266, 'end' : 21555, 'strand' : '+', 'informations' : { 'gene' : \"ORF1ab\", 'locus_tag' : \"GU280_gp01\", 'db_xref' : \"GeneID:43740578\" })\n",
    "'gene'\n",
    ">>> length({'type' : 'gene', 'begin' : 266, 'end' : 21555, 'strand' : '+', 'informations' : { 'gene' : \"ORF1ab\", 'locus_tag' : \"GU280_gp01\", 'db_xref' : \"GeneID:43740578\" })\n",
    "21290\n",
    ">>> strand({'type' : 'gene', 'begin' : 266, 'end' : 21555, 'strand' : '+', 'informations' : { 'gene' : \"ORF1ab\", 'locus_tag' : \"GU280_gp01\", 'db_xref' : \"GeneID:43740578\" })\n",
    "1\n",
    ">>> is_gene({'type' : 'gene', 'begin' : 266, 'end' : 21555, 'strand' : '+', 'informations' : { 'gene' : \"ORF1ab\", 'locus_tag' : \"GU280_gp01\", 'db_xref' : \"GeneID:43740578\" })\n",
    "True\n",
    ">>> name({'type' : 'gene', 'begin' : 266, 'end' : 21555, 'strand' : '+', 'informations' : { 'gene' : \"ORF1ab\", 'locus_tag' : \"GU280_gp01\", 'db_xref' : \"GeneID:43740578\" })\n",
    "'ORF1ab'\n",
    ">>> name({ 'type' : \"5'UTR\", 'begin' : 1, 'end' : 265, 'strand' : '+', 'informations' : None })\n",
    "None\n",
    ">>> name({ 'type' : 'source', 'begin' : 1, 'end' : 29903, 'strand' : '+', 'informations' : { 'organism' : \"Severe acute respiratory syndrome coronavirus 2\", 'mol_type' : \"genomic RNA\", ... } })\n",
    "None\n",
    "```"
   ]
  },
  {
   "cell_type": "markdown",
   "metadata": {},
   "source": [
    "#### Q10.\n",
    "\n",
    "Ecrire une fonction `mean_length` qui prend en paramètre un type et retourne la longueur moyenne de l'ensemble des annotations de ce type."
   ]
  },
  {
   "cell_type": "markdown",
   "metadata": {},
   "source": [
    "#### Q11.\n",
    "\n",
    "Se servir des fonctions précédemment écrites pour établir si il y a une différence de distribution des 3-mers entre les régions couvertes par des gènes et les autres. Je vous laisse faire preuve d'imagination pour savoir comment comparer deux distributions de k-mers."
   ]
  },
  {
   "cell_type": "code",
   "execution_count": null,
   "metadata": {},
   "outputs": [],
   "source": []
  }
 ],
 "metadata": {
  "kernelspec": {
   "display_name": "Python 3 (ipykernel)",
   "language": "python",
   "name": "python3"
  },
  "language_info": {
   "codemirror_mode": {
    "name": "ipython",
    "version": 3
   },
   "file_extension": ".py",
   "mimetype": "text/x-python",
   "name": "python",
   "nbconvert_exporter": "python",
   "pygments_lexer": "ipython3",
   "version": "3.8.10"
  }
 },
 "nbformat": 4,
 "nbformat_minor": 4
}
