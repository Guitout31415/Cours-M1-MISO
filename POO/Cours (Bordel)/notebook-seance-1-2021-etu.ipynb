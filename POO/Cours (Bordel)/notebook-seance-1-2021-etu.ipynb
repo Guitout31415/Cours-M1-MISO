{
 "cells": [
  {
   "cell_type": "markdown",
   "metadata": {},
   "source": [
    "## Notebook séance 1"
   ]
  },
  {
   "cell_type": "markdown",
   "metadata": {},
   "source": [
    "On s'intéresse ici aux notions abordées dans les chapitres 1 et 2 de https://python.sdv.univ-paris-diderot.fr"
   ]
  },
  {
   "cell_type": "code",
   "execution_count": 1,
   "metadata": {},
   "outputs": [
    {
     "data": {
      "text/plain": [
       "3"
      ]
     },
     "execution_count": 1,
     "metadata": {},
     "output_type": "execute_result"
    }
   ],
   "source": [
    "3"
   ]
  },
  {
   "cell_type": "code",
   "execution_count": 2,
   "metadata": {},
   "outputs": [
    {
     "name": "stdout",
     "output_type": "stream",
     "text": [
      "3\n"
     ]
    }
   ],
   "source": [
    "print(3)"
   ]
  },
  {
   "cell_type": "markdown",
   "metadata": {},
   "source": [
    "### Notion de variable et opérateurs"
   ]
  },
  {
   "cell_type": "code",
   "execution_count": 3,
   "metadata": {},
   "outputs": [],
   "source": [
    "x = 3"
   ]
  },
  {
   "cell_type": "code",
   "execution_count": 4,
   "metadata": {},
   "outputs": [
    {
     "data": {
      "text/plain": [
       "3"
      ]
     },
     "execution_count": 4,
     "metadata": {},
     "output_type": "execute_result"
    }
   ],
   "source": [
    "x"
   ]
  },
  {
   "cell_type": "code",
   "execution_count": 5,
   "metadata": {},
   "outputs": [
    {
     "name": "stdout",
     "output_type": "stream",
     "text": [
      "3\n"
     ]
    }
   ],
   "source": [
    "print(x)"
   ]
  },
  {
   "cell_type": "code",
   "execution_count": 6,
   "metadata": {},
   "outputs": [],
   "source": [
    "z = 3.14"
   ]
  },
  {
   "cell_type": "code",
   "execution_count": 7,
   "metadata": {},
   "outputs": [
    {
     "data": {
      "text/plain": [
       "3.14"
      ]
     },
     "execution_count": 7,
     "metadata": {},
     "output_type": "execute_result"
    }
   ],
   "source": [
    "z"
   ]
  },
  {
   "cell_type": "code",
   "execution_count": 8,
   "metadata": {},
   "outputs": [],
   "source": [
    "y = 7"
   ]
  },
  {
   "cell_type": "code",
   "execution_count": 9,
   "metadata": {},
   "outputs": [
    {
     "data": {
      "text/plain": [
       "10"
      ]
     },
     "execution_count": 9,
     "metadata": {},
     "output_type": "execute_result"
    }
   ],
   "source": [
    "x+y"
   ]
  },
  {
   "cell_type": "code",
   "execution_count": 10,
   "metadata": {},
   "outputs": [
    {
     "data": {
      "text/plain": [
       "0.42857142857142855"
      ]
     },
     "execution_count": 10,
     "metadata": {},
     "output_type": "execute_result"
    }
   ],
   "source": [
    "x/y"
   ]
  },
  {
   "cell_type": "code",
   "execution_count": 11,
   "metadata": {},
   "outputs": [
    {
     "data": {
      "text/plain": [
       "2.3333333333333335"
      ]
     },
     "execution_count": 11,
     "metadata": {},
     "output_type": "execute_result"
    }
   ],
   "source": [
    "y/x"
   ]
  },
  {
   "cell_type": "code",
   "execution_count": 12,
   "metadata": {},
   "outputs": [
    {
     "data": {
      "text/plain": [
       "2"
      ]
     },
     "execution_count": 12,
     "metadata": {},
     "output_type": "execute_result"
    }
   ],
   "source": [
    "y // x"
   ]
  },
  {
   "cell_type": "code",
   "execution_count": 13,
   "metadata": {},
   "outputs": [],
   "source": [
    "s = \"toto\""
   ]
  },
  {
   "cell_type": "code",
   "execution_count": 14,
   "metadata": {
    "scrolled": true
   },
   "outputs": [
    {
     "data": {
      "text/plain": [
       "'toto'"
      ]
     },
     "execution_count": 14,
     "metadata": {},
     "output_type": "execute_result"
    }
   ],
   "source": [
    "s"
   ]
  },
  {
   "cell_type": "code",
   "execution_count": 15,
   "metadata": {},
   "outputs": [],
   "source": [
    "t = \"fait du vélo\""
   ]
  },
  {
   "cell_type": "code",
   "execution_count": 16,
   "metadata": {},
   "outputs": [
    {
     "data": {
      "text/plain": [
       "'totofait du vélo'"
      ]
     },
     "execution_count": 16,
     "metadata": {},
     "output_type": "execute_result"
    }
   ],
   "source": [
    "s + t"
   ]
  },
  {
   "cell_type": "code",
   "execution_count": 17,
   "metadata": {},
   "outputs": [
    {
     "data": {
      "text/plain": [
       "'toto fait du vélo'"
      ]
     },
     "execution_count": 17,
     "metadata": {},
     "output_type": "execute_result"
    }
   ],
   "source": [
    "s + \" \" + t"
   ]
  },
  {
   "cell_type": "code",
   "execution_count": 18,
   "metadata": {},
   "outputs": [
    {
     "data": {
      "text/plain": [
       "'totototototototo'"
      ]
     },
     "execution_count": 18,
     "metadata": {},
     "output_type": "execute_result"
    }
   ],
   "source": [
    "s * 4"
   ]
  },
  {
   "cell_type": "code",
   "execution_count": 19,
   "metadata": {},
   "outputs": [
    {
     "name": "stdout",
     "output_type": "stream",
     "text": [
      "x vaut 3 et y vaut 7\n"
     ]
    }
   ],
   "source": [
    "print(\"x vaut {} et y vaut {}\".format(x,y))"
   ]
  },
  {
   "cell_type": "code",
   "execution_count": 20,
   "metadata": {},
   "outputs": [],
   "source": [
    "r = \"x vaut {} et y vaut {}\".format(x,y)"
   ]
  },
  {
   "cell_type": "code",
   "execution_count": 21,
   "metadata": {},
   "outputs": [
    {
     "data": {
      "text/plain": [
       "'x vaut 3 et y vaut 7'"
      ]
     },
     "execution_count": 21,
     "metadata": {},
     "output_type": "execute_result"
    }
   ],
   "source": [
    "r"
   ]
  },
  {
   "cell_type": "code",
   "execution_count": 22,
   "metadata": {},
   "outputs": [],
   "source": [
    "x = 6"
   ]
  },
  {
   "cell_type": "code",
   "execution_count": 23,
   "metadata": {},
   "outputs": [
    {
     "data": {
      "text/plain": [
       "'x vaut 3 et y vaut 7'"
      ]
     },
     "execution_count": 23,
     "metadata": {},
     "output_type": "execute_result"
    }
   ],
   "source": [
    "r"
   ]
  },
  {
   "cell_type": "code",
   "execution_count": 24,
   "metadata": {},
   "outputs": [
    {
     "name": "stdout",
     "output_type": "stream",
     "text": [
      "x vaut 6 et y vaut 7\n"
     ]
    }
   ],
   "source": [
    "print(\"x vaut {} et y vaut {}\".format(x,y))"
   ]
  },
  {
   "cell_type": "markdown",
   "metadata": {},
   "source": [
    "## Exercices\n",
    "\n",
    "\n",
    "- (1+2)**3\n",
    "- \"Da\" * 4\n",
    "- \"Da\" + 3\n",
    "- (\"Pa\"+\"La\") * 2\n",
    "- (\"Da\"*4) / 2 \n",
    "- 5/2\n",
    "- 5 // 2\n",
    "- 5 % 2\n",
    "\n",
    "\n",
    "\n",
    "- str(4) * int(\"3\")\n",
    "- int(\"3\") + float(\"3.2\")\n",
    "- str(3) * float(\"3.2\")\n",
    "- str(3/4) * 2"
   ]
  },
  {
   "cell_type": "code",
   "execution_count": 25,
   "metadata": {},
   "outputs": [
    {
     "data": {
      "text/plain": [
       "27"
      ]
     },
     "execution_count": 25,
     "metadata": {},
     "output_type": "execute_result"
    }
   ],
   "source": [
    "(1+2)**3"
   ]
  },
  {
   "cell_type": "code",
   "execution_count": 26,
   "metadata": {},
   "outputs": [
    {
     "data": {
      "text/plain": [
       "'DaDaDaDa'"
      ]
     },
     "execution_count": 26,
     "metadata": {},
     "output_type": "execute_result"
    }
   ],
   "source": [
    "\"Da\" * 4"
   ]
  },
  {
   "cell_type": "code",
   "execution_count": 27,
   "metadata": {},
   "outputs": [
    {
     "ename": "TypeError",
     "evalue": "can only concatenate str (not \"int\") to str",
     "output_type": "error",
     "traceback": [
      "\u001b[0;31m---------------------------------------------------------------------------\u001b[0m",
      "\u001b[0;31mTypeError\u001b[0m                                 Traceback (most recent call last)",
      "\u001b[0;32m/tmp/ipykernel_147180/109284737.py\u001b[0m in \u001b[0;36m<module>\u001b[0;34m\u001b[0m\n\u001b[0;32m----> 1\u001b[0;31m \u001b[0;34m\"Da\"\u001b[0m \u001b[0;34m+\u001b[0m \u001b[0;36m3\u001b[0m\u001b[0;34m\u001b[0m\u001b[0;34m\u001b[0m\u001b[0m\n\u001b[0m",
      "\u001b[0;31mTypeError\u001b[0m: can only concatenate str (not \"int\") to str"
     ]
    }
   ],
   "source": [
    "\"Da\" + 3"
   ]
  },
  {
   "cell_type": "code",
   "execution_count": 28,
   "metadata": {},
   "outputs": [
    {
     "data": {
      "text/plain": [
       "'PaLaPaLa'"
      ]
     },
     "execution_count": 28,
     "metadata": {},
     "output_type": "execute_result"
    }
   ],
   "source": [
    "(\"Pa\"+\"La\") * 2"
   ]
  },
  {
   "cell_type": "code",
   "execution_count": 29,
   "metadata": {},
   "outputs": [
    {
     "ename": "TypeError",
     "evalue": "unsupported operand type(s) for /: 'str' and 'int'",
     "output_type": "error",
     "traceback": [
      "\u001b[0;31m---------------------------------------------------------------------------\u001b[0m",
      "\u001b[0;31mTypeError\u001b[0m                                 Traceback (most recent call last)",
      "\u001b[0;32m/tmp/ipykernel_147180/3966036889.py\u001b[0m in \u001b[0;36m<module>\u001b[0;34m\u001b[0m\n\u001b[0;32m----> 1\u001b[0;31m \u001b[0;34m(\u001b[0m\u001b[0;34m\"Da\"\u001b[0m\u001b[0;34m*\u001b[0m\u001b[0;36m4\u001b[0m\u001b[0;34m)\u001b[0m \u001b[0;34m/\u001b[0m \u001b[0;36m2\u001b[0m\u001b[0;34m\u001b[0m\u001b[0;34m\u001b[0m\u001b[0m\n\u001b[0m",
      "\u001b[0;31mTypeError\u001b[0m: unsupported operand type(s) for /: 'str' and 'int'"
     ]
    }
   ],
   "source": [
    "(\"Da\"*4) / 2"
   ]
  },
  {
   "cell_type": "code",
   "execution_count": 30,
   "metadata": {},
   "outputs": [
    {
     "data": {
      "text/plain": [
       "2.5"
      ]
     },
     "execution_count": 30,
     "metadata": {},
     "output_type": "execute_result"
    }
   ],
   "source": [
    "5/2"
   ]
  },
  {
   "cell_type": "code",
   "execution_count": 31,
   "metadata": {},
   "outputs": [
    {
     "data": {
      "text/plain": [
       "2"
      ]
     },
     "execution_count": 31,
     "metadata": {},
     "output_type": "execute_result"
    }
   ],
   "source": [
    "5 // 2"
   ]
  },
  {
   "cell_type": "code",
   "execution_count": 32,
   "metadata": {},
   "outputs": [
    {
     "data": {
      "text/plain": [
       "1"
      ]
     },
     "execution_count": 32,
     "metadata": {},
     "output_type": "execute_result"
    }
   ],
   "source": [
    "5 % 2"
   ]
  },
  {
   "cell_type": "code",
   "execution_count": 33,
   "metadata": {},
   "outputs": [
    {
     "data": {
      "text/plain": [
       "'444'"
      ]
     },
     "execution_count": 33,
     "metadata": {},
     "output_type": "execute_result"
    }
   ],
   "source": [
    "str(4) * int(\"3\")"
   ]
  },
  {
   "cell_type": "code",
   "execution_count": 34,
   "metadata": {},
   "outputs": [
    {
     "data": {
      "text/plain": [
       "6.2"
      ]
     },
     "execution_count": 34,
     "metadata": {},
     "output_type": "execute_result"
    }
   ],
   "source": [
    "int(\"3\") + float(\"3.2\")"
   ]
  },
  {
   "cell_type": "code",
   "execution_count": 35,
   "metadata": {},
   "outputs": [
    {
     "ename": "TypeError",
     "evalue": "can't multiply sequence by non-int of type 'float'",
     "output_type": "error",
     "traceback": [
      "\u001b[0;31m---------------------------------------------------------------------------\u001b[0m",
      "\u001b[0;31mTypeError\u001b[0m                                 Traceback (most recent call last)",
      "\u001b[0;32m/tmp/ipykernel_147180/2747788906.py\u001b[0m in \u001b[0;36m<module>\u001b[0;34m\u001b[0m\n\u001b[0;32m----> 1\u001b[0;31m \u001b[0mstr\u001b[0m\u001b[0;34m(\u001b[0m\u001b[0;36m3\u001b[0m\u001b[0;34m)\u001b[0m \u001b[0;34m*\u001b[0m \u001b[0mfloat\u001b[0m\u001b[0;34m(\u001b[0m\u001b[0;34m\"3.2\"\u001b[0m\u001b[0;34m)\u001b[0m\u001b[0;34m\u001b[0m\u001b[0;34m\u001b[0m\u001b[0m\n\u001b[0m",
      "\u001b[0;31mTypeError\u001b[0m: can't multiply sequence by non-int of type 'float'"
     ]
    }
   ],
   "source": [
    "str(3) * float(\"3.2\")"
   ]
  },
  {
   "cell_type": "code",
   "execution_count": 36,
   "metadata": {},
   "outputs": [
    {
     "data": {
      "text/plain": [
       "'0.750.75'"
      ]
     },
     "execution_count": 36,
     "metadata": {},
     "output_type": "execute_result"
    }
   ],
   "source": [
    "str(3/4) * 2"
   ]
  },
  {
   "cell_type": "markdown",
   "metadata": {},
   "source": [
    "### Exercices"
   ]
  },
  {
   "cell_type": "markdown",
   "metadata": {},
   "source": [
    "#### Poly-A\n",
    "Générez une chaîne de caractères représentant un brin d’ADN poly-A (c’est-à-dire qui ne contient que des bases A) de 20 bases de longueur, sans taper littéralement toutes les bases."
   ]
  },
  {
   "cell_type": "code",
   "execution_count": 37,
   "metadata": {},
   "outputs": [
    {
     "data": {
      "text/plain": [
       "'AAAAAAAAAAAAAAAAAAAA'"
      ]
     },
     "execution_count": 37,
     "metadata": {},
     "output_type": "execute_result"
    }
   ],
   "source": [
    "'A'*20"
   ]
  },
  {
   "cell_type": "markdown",
   "metadata": {},
   "source": [
    "#### Poly-A et poly-GC\n",
    "Sur le modèle de l’exercice précédent, générez en une ligne de code un brin d’ADN poly-A (AAAA...) de 20 bases suivi d’un poly-GC régulier (GCGCGC...) de 40 bases."
   ]
  },
  {
   "cell_type": "code",
   "execution_count": 38,
   "metadata": {},
   "outputs": [
    {
     "data": {
      "text/plain": [
       "'AAAAAAAAAAAAAAAAAAAAGCGCGCGCGCGCGCGCGCGCGCGCGCGCGCGCGCGCGCGC'"
      ]
     },
     "execution_count": 38,
     "metadata": {},
     "output_type": "execute_result"
    }
   ],
   "source": [
    "'A'*20+'GC'*20"
   ]
  },
  {
   "cell_type": "markdown",
   "metadata": {},
   "source": [
    "#### Écriture formatée\n",
    "En utilisant l’écriture formatée, affichez en une seule ligne les variables a, b et c dont les valeurs sont respectivement la chaîne de caractères \"salut\", le nombre entier 102 et le float 10.318. La variable c sera affichée avec 2 décimales."
   ]
  },
  {
   "cell_type": "code",
   "execution_count": 39,
   "metadata": {},
   "outputs": [
    {
     "name": "stdout",
     "output_type": "stream",
     "text": [
      "a vaut salut, b vaut 102 et c vaut 10.32\n"
     ]
    }
   ],
   "source": [
    "a=\"salut\"\n",
    "b=102\n",
    "c=10.318\n",
    "print(\"a vaut {}, b vaut {} et c vaut {:.2f}\".format(a,b,c))"
   ]
  },
  {
   "cell_type": "markdown",
   "metadata": {},
   "source": [
    "#### Écriture formatée 2\n",
    "Calculez un pourcentage de GC avec l’instruction suivante :\n",
    "perc_GC = ((4500 + 2575)/14800)*100\n",
    "\n",
    "Ensuite, affichez le contenu de la variable perc_GC à l’écran avec 0, 1, 2 puis 3 décimales sous forme arrondie en utilisant .format(). \n",
    "\n",
    "On souhaite afficher la sortie suivante : \n",
    "- Le pourcentage de GC est 48 \n",
    "- Le pourcentage de GC est 47.8 \n",
    "- Le pourcentage de GC est 47.80 \n",
    "- Le pourcentage de GC est 47.804"
   ]
  },
  {
   "cell_type": "code",
   "execution_count": 40,
   "metadata": {},
   "outputs": [
    {
     "name": "stdout",
     "output_type": "stream",
     "text": [
      "perc_G vaut 48%\n",
      "perc_G vaut 47.8%\n",
      "perc_G vaut 47.80%\n",
      "perc_G vaut 47.804%\n"
     ]
    }
   ],
   "source": [
    "perc_GC = ((4500 + 2575)/14800)*100\n",
    "print(\"perc_G vaut {:.0f}%\".format(perc_GC))\n",
    "print(\"perc_G vaut {:.1f}%\".format(perc_GC))\n",
    "print(\"perc_G vaut {:.2f}%\".format(perc_GC))\n",
    "print(\"perc_G vaut {:.3f}%\".format(perc_GC))"
   ]
  },
  {
   "cell_type": "markdown",
   "metadata": {},
   "source": [
    "## Les conditionnelles\n",
    "\n",
    "https://python.sdv.univ-paris-diderot.fr/06_tests/\n",
    "\n",
    "On oubliera rapidement la section 6.5 de ce chapitre."
   ]
  },
  {
   "cell_type": "code",
   "execution_count": 41,
   "metadata": {},
   "outputs": [],
   "source": [
    "x = 1\n",
    "y = 2\n",
    "z = 3"
   ]
  },
  {
   "cell_type": "markdown",
   "metadata": {},
   "source": [
    "Priorité des opérateurs"
   ]
  },
  {
   "cell_type": "code",
   "execution_count": 42,
   "metadata": {},
   "outputs": [
    {
     "data": {
      "text/plain": [
       "True"
      ]
     },
     "execution_count": 42,
     "metadata": {},
     "output_type": "execute_result"
    }
   ],
   "source": [
    "x == 1 and y == 2"
   ]
  },
  {
   "cell_type": "code",
   "execution_count": 43,
   "metadata": {},
   "outputs": [
    {
     "data": {
      "text/plain": [
       "True"
      ]
     },
     "execution_count": 43,
     "metadata": {},
     "output_type": "execute_result"
    }
   ],
   "source": [
    "x == 1 or y == 3 and z == 2"
   ]
  },
  {
   "cell_type": "code",
   "execution_count": 44,
   "metadata": {},
   "outputs": [
    {
     "data": {
      "text/plain": [
       "False"
      ]
     },
     "execution_count": 44,
     "metadata": {},
     "output_type": "execute_result"
    }
   ],
   "source": [
    "(x == 1 or y == 3) and z == 2"
   ]
  },
  {
   "cell_type": "code",
   "execution_count": 45,
   "metadata": {},
   "outputs": [
    {
     "data": {
      "text/plain": [
       "True"
      ]
     },
     "execution_count": 45,
     "metadata": {},
     "output_type": "execute_result"
    }
   ],
   "source": [
    "x == 1 or (y == 3 and z == 2)"
   ]
  },
  {
   "cell_type": "code",
   "execution_count": 46,
   "metadata": {},
   "outputs": [],
   "source": [
    "if x < y:\n",
    "    max = y\n",
    "else:\n",
    "    max = x"
   ]
  },
  {
   "cell_type": "code",
   "execution_count": 47,
   "metadata": {},
   "outputs": [
    {
     "data": {
      "text/plain": [
       "2"
      ]
     },
     "execution_count": 47,
     "metadata": {},
     "output_type": "execute_result"
    }
   ],
   "source": [
    "max"
   ]
  },
  {
   "cell_type": "markdown",
   "metadata": {},
   "source": [
    "Le `else`n'est pas obligatoire."
   ]
  },
  {
   "cell_type": "code",
   "execution_count": 48,
   "metadata": {},
   "outputs": [],
   "source": [
    "age = 32\n",
    "reduction = 0.5\n",
    "prix = 100\n",
    "if age < 20:\n",
    "    prix = prix * reduction"
   ]
  },
  {
   "cell_type": "code",
   "execution_count": 49,
   "metadata": {},
   "outputs": [
    {
     "data": {
      "text/plain": [
       "100"
      ]
     },
     "execution_count": 49,
     "metadata": {},
     "output_type": "execute_result"
    }
   ],
   "source": [
    "prix"
   ]
  },
  {
   "cell_type": "markdown",
   "metadata": {},
   "source": [
    "Bien sûr il peut y avoir plusieurs instructions dans chaque bloc. Et on peut enchaîner les conditions grâce à `elif`."
   ]
  },
  {
   "cell_type": "code",
   "execution_count": 50,
   "metadata": {},
   "outputs": [
    {
     "name": "stdout",
     "output_type": "stream",
     "text": [
      "age : 19, categorie : ADULTE, réduction 0%\n"
     ]
    }
   ],
   "source": [
    "age = 19\n",
    "if age <= 5:\n",
    "    taux_de_reduction = 0\n",
    "    classe = 'MOINS_DE_5ANS'\n",
    "elif age <= 18:\n",
    "    taux_de_reduction = 0.6\n",
    "    classe = 'MOINS_DE_18ANS'\n",
    "elif age >= 60:\n",
    "    taux_de_reduction = 0.8\n",
    "    classe = 'SENIOR'\n",
    "else:\n",
    "    taux_de_reduction = 1\n",
    "    classe = 'ADULTE'\n",
    "print(\"age : {}, categorie : {}, réduction {}%\".format(age, classe, 100*(1-taux_de_reduction)))"
   ]
  },
  {
   "cell_type": "code",
   "execution_count": 51,
   "metadata": {},
   "outputs": [],
   "source": [
    "if age <= 5:\n",
    "    pass\n",
    "else:\n",
    "    if age <= 18:\n",
    "        pass\n",
    "    else:\n",
    "        if age >= 60:\n",
    "            pass\n",
    "        else:\n",
    "            pass\n",
    "    "
   ]
  },
  {
   "cell_type": "markdown",
   "metadata": {},
   "source": [
    "## Les fonctions, rappel rapide"
   ]
  },
  {
   "cell_type": "code",
   "execution_count": 52,
   "metadata": {},
   "outputs": [],
   "source": [
    "def taux_de_reduction (age):\n",
    "    if age <= 5:\n",
    "        taux_de_reduction = 0\n",
    "        classe = 'MOINS_DE_5ANS'\n",
    "    elif age <= 18:\n",
    "        taux_de_reduction = 0.6\n",
    "        classe = 'MOINS_DE_18ANS'\n",
    "    elif age >= 60:\n",
    "        taux_de_reduction = 0.8\n",
    "        classe = 'SENIOR'\n",
    "    else:\n",
    "        taux_de_reduction = 1\n",
    "        classe = 'ADULTE'\n",
    "    return taux_de_reduction"
   ]
  },
  {
   "cell_type": "code",
   "execution_count": 53,
   "metadata": {},
   "outputs": [
    {
     "data": {
      "text/plain": [
       "1"
      ]
     },
     "execution_count": 53,
     "metadata": {},
     "output_type": "execute_result"
    }
   ],
   "source": [
    "taux_de_reduction(19)"
   ]
  },
  {
   "cell_type": "code",
   "execution_count": 54,
   "metadata": {},
   "outputs": [
    {
     "data": {
      "text/plain": [
       "0.6"
      ]
     },
     "execution_count": 54,
     "metadata": {},
     "output_type": "execute_result"
    }
   ],
   "source": [
    "taux_de_reduction(16)"
   ]
  },
  {
   "cell_type": "code",
   "execution_count": 55,
   "metadata": {},
   "outputs": [],
   "source": [
    "def taux_de_reduction (age):\n",
    "    \"\"\"\n",
    "    Exemples\n",
    "    >>> taux_de_reduction(19)\n",
    "    1\n",
    "    >>> taux_de_reduction(16)\n",
    "    0.6\n",
    "    >>> taux_de_reduction(5)\n",
    "    0\n",
    "    >>> taux_de_reduction(67)\n",
    "    0.8\n",
    "    \"\"\"\n",
    "    if age <= 5:\n",
    "        taux_de_reduction = 0\n",
    "        classe = 'MOINS_DE_5ANS'\n",
    "    elif age <= 18:\n",
    "        taux_de_reduction = 0.6\n",
    "        classe = 'MOINS_DE_18ANS'\n",
    "    elif age >= 60:\n",
    "        taux_de_reduction = 0.8\n",
    "        classe = 'SENIOR'\n",
    "    else:\n",
    "        taux_de_reduction = 1\n",
    "        classe = 'ADULTE'\n",
    "    return taux_de_reduction"
   ]
  },
  {
   "cell_type": "code",
   "execution_count": 56,
   "metadata": {},
   "outputs": [
    {
     "data": {
      "text/plain": [
       "TestResults(failed=0, attempted=4)"
      ]
     },
     "execution_count": 56,
     "metadata": {},
     "output_type": "execute_result"
    }
   ],
   "source": [
    "import doctest\n",
    "doctest.testmod()"
   ]
  },
  {
   "cell_type": "markdown",
   "metadata": {},
   "source": [
    "## Les boucles\n",
    "\n",
    "https://python.sdv.univ-paris-diderot.fr/05_boucles_comparaisons/"
   ]
  },
  {
   "cell_type": "markdown",
   "metadata": {},
   "source": [
    "Elements de syntaxe :\n",
    "- les `:` qui marquent l'ouverture d'un bloc de code\n",
    "- l'indentation qui permet de signifier quelles instructions sont dans le même bloc de code"
   ]
  },
  {
   "cell_type": "code",
   "execution_count": 57,
   "metadata": {},
   "outputs": [
    {
     "data": {
      "text/plain": [
       "range(1, 10)"
      ]
     },
     "execution_count": 57,
     "metadata": {},
     "output_type": "execute_result"
    }
   ],
   "source": [
    "range(1,10)"
   ]
  },
  {
   "cell_type": "code",
   "execution_count": 58,
   "metadata": {},
   "outputs": [
    {
     "data": {
      "text/plain": [
       "[1, 2, 3, 4, 5, 6, 7, 8, 9]"
      ]
     },
     "execution_count": 58,
     "metadata": {},
     "output_type": "execute_result"
    }
   ],
   "source": [
    "list(range(1,10))"
   ]
  },
  {
   "cell_type": "code",
   "execution_count": 59,
   "metadata": {},
   "outputs": [
    {
     "data": {
      "text/plain": [
       "[1, 4, 7]"
      ]
     },
     "execution_count": 59,
     "metadata": {},
     "output_type": "execute_result"
    }
   ],
   "source": [
    "list(range(1,10,3))"
   ]
  },
  {
   "cell_type": "code",
   "execution_count": 60,
   "metadata": {},
   "outputs": [
    {
     "data": {
      "text/plain": [
       "[]"
      ]
     },
     "execution_count": 60,
     "metadata": {},
     "output_type": "execute_result"
    }
   ],
   "source": [
    "list(range(1,10,-3))"
   ]
  },
  {
   "cell_type": "code",
   "execution_count": 61,
   "metadata": {
    "scrolled": true
   },
   "outputs": [
    {
     "data": {
      "text/plain": [
       "[10, 7, 4]"
      ]
     },
     "execution_count": 61,
     "metadata": {},
     "output_type": "execute_result"
    }
   ],
   "source": [
    "list(range(10,1,-3))"
   ]
  },
  {
   "cell_type": "code",
   "execution_count": 62,
   "metadata": {
    "scrolled": true
   },
   "outputs": [
    {
     "name": "stdout",
     "output_type": "stream",
     "text": [
      "1\n",
      "2\n",
      "3\n",
      "4\n",
      "5\n",
      "6\n",
      "7\n",
      "8\n",
      "9\n"
     ]
    }
   ],
   "source": [
    "for i in range (1,10):\n",
    "    print(i)"
   ]
  },
  {
   "cell_type": "markdown",
   "metadata": {},
   "source": [
    "De l'importance de l'indentation, seules les instructions indentées sous le pour appartiennent au même bloc et sont exécutées à chaque tour de boucle."
   ]
  },
  {
   "cell_type": "code",
   "execution_count": 63,
   "metadata": {},
   "outputs": [
    {
     "name": "stdout",
     "output_type": "stream",
     "text": [
      "1\n",
      "2\n",
      "3\n",
      "4\n",
      "5\n",
      "6\n",
      "7\n",
      "8\n",
      "9\n",
      "9\n"
     ]
    }
   ],
   "source": [
    "for i in range (1,10):\n",
    "    print(i)\n",
    "print(i)"
   ]
  },
  {
   "cell_type": "markdown",
   "metadata": {},
   "source": [
    "Attention, `i` existe encore après la boucle."
   ]
  },
  {
   "cell_type": "markdown",
   "metadata": {},
   "source": [
    "Python demande à ce que les indentations soient toutes les mêmes. Ici cela crée une erreur."
   ]
  },
  {
   "cell_type": "code",
   "execution_count": 65,
   "metadata": {},
   "outputs": [
    {
     "ename": "IndentationError",
     "evalue": "unindent does not match any outer indentation level (<tokenize>, line 3)",
     "output_type": "error",
     "traceback": [
      "\u001b[0;36m  File \u001b[0;32m\"<tokenize>\"\u001b[0;36m, line \u001b[0;32m3\u001b[0m\n\u001b[0;31m    print(i)\u001b[0m\n\u001b[0m    ^\u001b[0m\n\u001b[0;31mIndentationError\u001b[0m\u001b[0;31m:\u001b[0m unindent does not match any outer indentation level\n"
     ]
    }
   ],
   "source": [
    "for i in range (1,10):\n",
    "    print(i)\n",
    " print(i)"
   ]
  },
  {
   "cell_type": "markdown",
   "metadata": {},
   "source": [
    "La boucle **tant que** permet d'itérer et de s'arrêter sur une condition et non de parcourir toutes les valeurs d'un ensemble."
   ]
  },
  {
   "cell_type": "code",
   "execution_count": 66,
   "metadata": {
    "scrolled": true
   },
   "outputs": [
    {
     "name": "stdout",
     "output_type": "stream",
     "text": [
      "0\n",
      "1\n",
      "2\n",
      "3\n",
      "4\n",
      "5\n",
      "6\n",
      "7\n",
      "8\n",
      "9\n"
     ]
    }
   ],
   "source": [
    "i = 0\n",
    "while i < 10:\n",
    "    print(i)\n",
    "    i += 1"
   ]
  },
  {
   "cell_type": "markdown",
   "metadata": {},
   "source": [
    "Si on sait à l'avance le nombre de tours de boucles, on utilise la boucle pour. \n",
    "\n",
    "Si la condition d'arrêt de la boucle évolue au fur et à mesure du déroulement de celle-ci, on utilise la boucle tant que."
   ]
  },
  {
   "cell_type": "code",
   "execution_count": 67,
   "metadata": {},
   "outputs": [
    {
     "name": "stdout",
     "output_type": "stream",
     "text": [
      "La première occurrence de c dans atcgagcaagtagacagagatag est en position 2\n"
     ]
    }
   ],
   "source": [
    "p = 0\n",
    "s = 'atcgagcaagtagacagagatag'\n",
    "k = 'c'\n",
    "while p < len(s) and s[p] != k:\n",
    "    p += 1\n",
    "print(\"La première occurrence de {} dans {} est en position {}\".format(k,s,p))"
   ]
  },
  {
   "cell_type": "code",
   "execution_count": 68,
   "metadata": {},
   "outputs": [],
   "source": [
    "def indexOf (s,k,fromp=0):\n",
    "    p = fromp\n",
    "    while p < len(s) and s[p] != k:\n",
    "        p += 1\n",
    "    return p"
   ]
  },
  {
   "cell_type": "code",
   "execution_count": 69,
   "metadata": {},
   "outputs": [
    {
     "data": {
      "text/plain": [
       "2"
      ]
     },
     "execution_count": 69,
     "metadata": {},
     "output_type": "execute_result"
    }
   ],
   "source": [
    "indexOf(s,k)"
   ]
  },
  {
   "cell_type": "code",
   "execution_count": 70,
   "metadata": {},
   "outputs": [
    {
     "data": {
      "text/plain": [
       "6"
      ]
     },
     "execution_count": 70,
     "metadata": {},
     "output_type": "execute_result"
    }
   ],
   "source": [
    "indexOf(s,k,2+1)"
   ]
  },
  {
   "cell_type": "markdown",
   "metadata": {},
   "source": [
    "## Exercices"
   ]
  },
  {
   "cell_type": "markdown",
   "metadata": {},
   "source": [
    "### Recherche des occurrences \n",
    "\n",
    "Rechercher toutes les positions d'occurrence de 'c' dans 'atcgagcaagtagacagagatag'"
   ]
  },
  {
   "cell_type": "code",
   "execution_count": 71,
   "metadata": {},
   "outputs": [
    {
     "name": "stdout",
     "output_type": "stream",
     "text": [
      "Un C ce trouve en position 3\n",
      "Un C ce trouve en position 7\n",
      "Un C ce trouve en position 15\n"
     ]
    }
   ],
   "source": [
    "cpt = 1\n",
    "for b in 'atcgagcaagtagacagagatag':\n",
    "    if b == 'c':\n",
    "        print('Un C ce trouve en position {}'.format(cpt))\n",
    "    cpt += 1"
   ]
  },
  {
   "cell_type": "markdown",
   "metadata": {},
   "source": [
    "### Recherche d'ORF"
   ]
  },
  {
   "cell_type": "markdown",
   "metadata": {},
   "source": [
    "Une ORF correspond à une portion d'ADN débutant par un codon START et se terminant par un codon STOP qui représente potentiellement une protéine.\n",
    "\n",
    "Les codons START et STOP sont habituellement :\n",
    "- le codon start est 'ATG'\n",
    "- les codons sont soit 'TAA', soit 'TAG', soit 'TGA'\n",
    "\n",
    "L'algorithme de recherche et d'extraction d'une ORF proposé est le suivant :\n",
    "- chercher la position du premier codon START\n",
    "- à partir de cette position chercher la position d'un codon STOP\n",
    "- extraire la séquence entre ces deux positions\n",
    "\n",
    "On supposera la séquence d'ADN donnée dans une chaîne de caractères."
   ]
  },
  {
   "cell_type": "code",
   "execution_count": 72,
   "metadata": {},
   "outputs": [],
   "source": [
    "seq = 'ACAGGATGCAATGTCATGACTAGACGGTA'"
   ]
  },
  {
   "cell_type": "code",
   "execution_count": 73,
   "metadata": {},
   "outputs": [
    {
     "name": "stdout",
     "output_type": "stream",
     "text": [
      "ATGACTAGACGG\n"
     ]
    }
   ],
   "source": [
    "memory = ''\n",
    "codon = ''\n",
    "bp = 0\n",
    "while codon not in ('TAA','TAG','TGA') and bp <= len(seq)-1:\n",
    "    codon += seq[bp]\n",
    "    if len(codon)==3 and (codon=='ATG' or len(memory)!=0):\n",
    "        memory += codon \n",
    "        codon = ''\n",
    "    elif len(codon)==3 :\n",
    "        codon = ''\n",
    "    bp += 1\n",
    "print(memory)"
   ]
  },
  {
   "cell_type": "markdown",
   "metadata": {},
   "source": [
    "### Produit de nombres consécutifs\n",
    "\n",
    "Calculez le produit des nombres consécutifs pairs en utilisant une boucle (jusque le produit de 98 et 100). Exemple pour les premières itérations :\n",
    "\n",
    "`produit de 2 et 4 : 8\n",
    "produit de 4 et 6 : 24\n",
    "produit de 6 et 8 : 48\n",
    "[...]`\n",
    "\n",
    "Refaire la même chose mais jusqu'à ce que le produit soit plus grand qu'une valeur stockée dans une variable `x`.\n"
   ]
  },
  {
   "cell_type": "code",
   "execution_count": 74,
   "metadata": {},
   "outputs": [
    {
     "name": "stdout",
     "output_type": "stream",
     "text": [
      "produit de 2 et 4 : 8\n",
      "produit de 4 et 6 : 24\n",
      "produit de 6 et 8 : 48\n",
      "produit de 8 et 10 : 80\n",
      "produit de 10 et 12 : 120\n",
      "produit de 12 et 14 : 168\n",
      "produit de 14 et 16 : 224\n",
      "produit de 16 et 18 : 288\n",
      "produit de 18 et 20 : 360\n",
      "produit de 20 et 22 : 440\n",
      "produit de 22 et 24 : 528\n",
      "produit de 24 et 26 : 624\n",
      "produit de 26 et 28 : 728\n",
      "produit de 28 et 30 : 840\n",
      "produit de 30 et 32 : 960\n",
      "produit de 32 et 34 : 1088\n",
      "produit de 34 et 36 : 1224\n",
      "produit de 36 et 38 : 1368\n",
      "produit de 38 et 40 : 1520\n",
      "produit de 40 et 42 : 1680\n",
      "produit de 42 et 44 : 1848\n",
      "produit de 44 et 46 : 2024\n",
      "produit de 46 et 48 : 2208\n",
      "produit de 48 et 50 : 2400\n",
      "produit de 50 et 52 : 2600\n",
      "produit de 52 et 54 : 2808\n",
      "produit de 54 et 56 : 3024\n",
      "produit de 56 et 58 : 3248\n",
      "produit de 58 et 60 : 3480\n",
      "produit de 60 et 62 : 3720\n",
      "produit de 62 et 64 : 3968\n",
      "produit de 64 et 66 : 4224\n",
      "produit de 66 et 68 : 4488\n",
      "produit de 68 et 70 : 4760\n",
      "produit de 70 et 72 : 5040\n",
      "produit de 72 et 74 : 5328\n",
      "produit de 74 et 76 : 5624\n",
      "produit de 76 et 78 : 5928\n",
      "produit de 78 et 80 : 6240\n",
      "produit de 80 et 82 : 6560\n",
      "produit de 82 et 84 : 6888\n",
      "produit de 84 et 86 : 7224\n",
      "produit de 86 et 88 : 7568\n",
      "produit de 88 et 90 : 7920\n",
      "produit de 90 et 92 : 8280\n",
      "produit de 92 et 94 : 8648\n",
      "produit de 94 et 96 : 9024\n",
      "produit de 96 et 98 : 9408\n",
      "produit de 98 et 100 : 9800\n"
     ]
    }
   ],
   "source": [
    "duo = [(i,i+2) for i in range(2,99,2)]\n",
    "for t in duo:\n",
    "    print('produit de {} et {} : {}'.format(t[0],t[1],t[0]*t[1]))"
   ]
  },
  {
   "cell_type": "code",
   "execution_count": 75,
   "metadata": {},
   "outputs": [
    {
     "name": "stdout",
     "output_type": "stream",
     "text": [
      "produit de 2 et 4 : 8\n",
      "produit de 4 et 6 : 24\n",
      "produit de 6 et 8 : 48\n",
      "produit de 8 et 10 : 80\n",
      "produit de 10 et 12 : 120\n",
      "produit de 12 et 14 : 168\n",
      "produit de 14 et 16 : 224\n",
      "produit de 16 et 18 : 288\n",
      "produit de 18 et 20 : 360\n",
      "produit de 20 et 22 : 440\n",
      "produit de 22 et 24 : 528\n",
      "produit de 24 et 26 : 624\n",
      "produit de 26 et 28 : 728\n",
      "produit de 28 et 30 : 840\n",
      "produit de 30 et 32 : 960\n",
      "produit de 32 et 34 : 1088\n",
      "produit de 34 et 36 : 1224\n",
      "produit de 36 et 38 : 1368\n",
      "produit de 38 et 40 : 1520\n",
      "produit de 40 et 42 : 1680\n",
      "produit de 42 et 44 : 1848\n",
      "produit de 44 et 46 : 2024\n",
      "produit de 46 et 48 : 2208\n",
      "produit de 48 et 50 : 2400\n",
      "produit de 50 et 52 : 2600\n",
      "produit de 52 et 54 : 2808\n",
      "produit de 54 et 56 : 3024\n",
      "produit de 56 et 58 : 3248\n",
      "produit de 58 et 60 : 3480\n",
      "produit de 60 et 62 : 3720\n",
      "produit de 62 et 64 : 3968\n",
      "produit de 64 et 66 : 4224\n",
      "produit de 66 et 68 : 4488\n",
      "produit de 68 et 70 : 4760\n"
     ]
    }
   ],
   "source": [
    "duo = [(i,i+2) for i in range(2,99,2)]\n",
    "x = 4860\n",
    "i = 0\n",
    "while duo[i][0]*duo[i][1]<x:\n",
    "    print('produit de {} et {} : {}'.format(duo[i][0],duo[i][1],duo[i][0]*duo[i][1]))\n",
    "    i += 1"
   ]
  },
  {
   "cell_type": "markdown",
   "metadata": {},
   "source": [
    "### 5.4.13 Sauts de puce\n",
    "\n",
    "On imagine une puce qui se déplace aléatoirement sur une ligne, en avant ou en arrière, par pas de 1 ou -1. Par exemple, si elle est à l'emplacement 0, elle peut sauter à l'emplacement 1 ou -1; si elle est à l'emplacement 2, elle peut sauter à l'emplacement 3 ou 1, etc.\n",
    "\n",
    "Avec une boucle while, simuler le mouvement de cette puce de l'emplacement initial 0 à l'emplacement final 5 (voir le schéma de la figure 3). Combien de sauts sont nécessaires pour réaliser ce parcours ? Relancez plusieurs fois le programme. Trouvez-vous le même nombre de sauts à chaque exécution ?\n",
    "\n",
    "Conseil : vous utiliserez l'instruction random.choice([-1,1]) qui renvoie au hasard les valeurs -1 ou 1 avec la même probabilité. Avant d'utiliser cette instruction vous mettrez la ligne `import random` dans un cellule."
   ]
  },
  {
   "cell_type": "code",
   "execution_count": 76,
   "metadata": {},
   "outputs": [],
   "source": [
    "import random"
   ]
  },
  {
   "cell_type": "code",
   "execution_count": 77,
   "metadata": {},
   "outputs": [
    {
     "data": {
      "text/plain": [
       "-1"
      ]
     },
     "execution_count": 77,
     "metadata": {},
     "output_type": "execute_result"
    }
   ],
   "source": [
    "random.choice([-1,1])"
   ]
  },
  {
   "cell_type": "code",
   "execution_count": 94,
   "metadata": {},
   "outputs": [
    {
     "name": "stdout",
     "output_type": "stream",
     "text": [
      "La puce à atteint l'emplacement 5 en 47 sauts\n"
     ]
    }
   ],
   "source": [
    "pos = 0\n",
    "cpt = 0\n",
    "while pos != 5:\n",
    "    pos += random.choice([-1,1])\n",
    "    cpt +=1\n",
    "print(\"La puce à atteint l'emplacement 5 en {} sauts\".format(cpt))"
   ]
  }
 ],
 "metadata": {
  "kernelspec": {
   "display_name": "Python 3 (ipykernel)",
   "language": "python",
   "name": "python3"
  },
  "language_info": {
   "codemirror_mode": {
    "name": "ipython",
    "version": 3
   },
   "file_extension": ".py",
   "mimetype": "text/x-python",
   "name": "python",
   "nbconvert_exporter": "python",
   "pygments_lexer": "ipython3",
   "version": "3.8.10"
  }
 },
 "nbformat": 4,
 "nbformat_minor": 4
}
