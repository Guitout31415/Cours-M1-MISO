{
 "cells": [
  {
   "cell_type": "markdown",
   "metadata": {},
   "source": [
    "# Notebook séance 4\n",
    "\n",
    "Aujourd'hui la portée des variables.\n",
    "\n",
    "[Chapitre 9 Section 6](https://python.sdv.univ-paris-diderot.fr/09_fonctions/#96-variables-locales-et-variables-globales)\n",
    "\n",
    "[Chapitre 12](https://python.sdv.univ-paris-diderot.fr/12_plus_sur_les_fonctions/)\n",
    "\n",
    "Et l'utilisation de [Python Tutor](http://www.pythontutor.com/visualize.html#mode=edit)"
   ]
  },
  {
   "cell_type": "code",
   "execution_count": 3,
   "metadata": {},
   "outputs": [
    {
     "name": "stdout",
     "output_type": "stream",
     "text": [
      "25\n"
     ]
    }
   ],
   "source": [
    "# définition d'une fonction carre()\n",
    "def carre(x):\n",
    "    y = x**2\n",
    "    return y\n",
    "\n",
    "# programme principal\n",
    "z = 5\n",
    "resultat = carre(z)\n",
    "print(resultat)"
   ]
  },
  {
   "cell_type": "code",
   "execution_count": 4,
   "metadata": {},
   "outputs": [
    {
     "name": "stdout",
     "output_type": "stream",
     "text": [
      "[36, 25, 16, 9, 4, 1, 0, 1, 4, 9, 16]\n"
     ]
    }
   ],
   "source": [
    "# définition des fonctions\n",
    "def polynome(x):\n",
    "    return (x**2 - 2*x + 1)\n",
    "\n",
    "def calc_vals(debut, fin):\n",
    "    liste_vals = []\n",
    "    for x in range(debut, fin + 1):\n",
    "        liste_vals.append(polynome(x))\n",
    "    return liste_vals\n",
    "\n",
    "# programme principal\n",
    "print(calc_vals(-5, 5))"
   ]
  },
  {
   "cell_type": "code",
   "execution_count": 5,
   "metadata": {},
   "outputs": [
    {
     "name": "stdout",
     "output_type": "stream",
     "text": [
      "3\n"
     ]
    }
   ],
   "source": [
    "# définiton des fonctions\n",
    "def ma_fonction(x):\n",
    "    x = 2\n",
    "\n",
    "# programme principal\n",
    "z = 3\n",
    "ma_fonction(3)\n",
    "print(z)"
   ]
  },
  {
   "cell_type": "code",
   "execution_count": 6,
   "metadata": {},
   "outputs": [
    {
     "name": "stdout",
     "output_type": "stream",
     "text": [
      "[1, 2, 3]\n"
     ]
    }
   ],
   "source": [
    "# définiton des fonctions\n",
    "def ma_fonction(l):\n",
    "    l = [3,2,1]\n",
    "\n",
    "# programme principal\n",
    "l = [1,2,3]\n",
    "ma_fonction(l)\n",
    "print(l)"
   ]
  },
  {
   "cell_type": "code",
   "execution_count": 7,
   "metadata": {},
   "outputs": [
    {
     "name": "stdout",
     "output_type": "stream",
     "text": [
      "[0, 2, 3]\n"
     ]
    }
   ],
   "source": [
    "# définiton des fonctions\n",
    "def ma_fonction(l):\n",
    "    l[0] = 0\n",
    "\n",
    "# programme principal\n",
    "l = [1,2,3]\n",
    "ma_fonction(l)\n",
    "print(l)"
   ]
  },
  {
   "cell_type": "code",
   "execution_count": 8,
   "metadata": {},
   "outputs": [
    {
     "name": "stdout",
     "output_type": "stream",
     "text": [
      "[[5], [2, 3], [4]]\n",
      "[[1], [2, 3], [4]]\n"
     ]
    }
   ],
   "source": [
    "import copy\n",
    "\n",
    "l1 = [1]\n",
    "l2 = [2,3]\n",
    "l3 = [4]\n",
    "l = [ l1, l2, l3 ]\n",
    "\n",
    "ll = l.copy()\n",
    "# modifie seulement l[0]\n",
    "# car c'est le contenu de ll[0] qui est modifié\n",
    "l[0] = [5]\n",
    "print(l)\n",
    "print(ll)"
   ]
  },
  {
   "cell_type": "code",
   "execution_count": 9,
   "metadata": {},
   "outputs": [
    {
     "name": "stdout",
     "output_type": "stream",
     "text": [
      "[[5], [2, 3], [4]]\n",
      "[[5], [2, 3], [4]]\n"
     ]
    }
   ],
   "source": [
    "import copy\n",
    "\n",
    "l1 = [1]\n",
    "l2 = [2,3]\n",
    "l3 = [4]\n",
    "l = [ l1, l2, l3 ]\n",
    "\n",
    "ll = l.copy()\n",
    "# modifie les deux listes \n",
    "# car ll est une copie mais pas le contenu de l[0], \n",
    "# donc l[0] et ll[0] référencent la même liste\n",
    "l[0][0] = 5\n",
    "print(l)\n",
    "print(ll)"
   ]
  },
  {
   "cell_type": "code",
   "execution_count": 10,
   "metadata": {},
   "outputs": [
    {
     "name": "stdout",
     "output_type": "stream",
     "text": [
      "[[5], [2, 3], [4]]\n",
      "[[1], [2, 3], [4]]\n"
     ]
    }
   ],
   "source": [
    "import copy\n",
    "\n",
    "l1 = [1]\n",
    "l2 = [2,3]\n",
    "l3 = [4]\n",
    "l = [ l1, l2, l3 ]\n",
    "\n",
    "ll = copy.deepcopy(l)\n",
    "# modifie seulement l[0]\n",
    "# car les éléments de ll sont eux-mêmes\n",
    "# une copie des éléments de l\n",
    "l[0][0] = 5\n",
    "print(l)\n",
    "print(ll)"
   ]
  },
  {
   "cell_type": "code",
   "execution_count": 11,
   "metadata": {},
   "outputs": [
    {
     "name": "stdout",
     "output_type": "stream",
     "text": [
      "[1, 2, 3, 4]\n"
     ]
    }
   ],
   "source": [
    "# définiton des fonctions\n",
    "def ma_fonction(l):\n",
    "    l.append(4)\n",
    "\n",
    "# programme principal\n",
    "l = [1,2,3]\n",
    "ma_fonction(l)\n",
    "print(l)"
   ]
  },
  {
   "cell_type": "markdown",
   "metadata": {},
   "source": [
    "[Règle LGI](https://python.sdv.univ-paris-diderot.fr/12_plus_sur_les_fonctions/#125-regle-lgi)"
   ]
  },
  {
   "cell_type": "code",
   "execution_count": 12,
   "metadata": {},
   "outputs": [
    {
     "name": "stdout",
     "output_type": "stream",
     "text": [
      "-1\n"
     ]
    }
   ],
   "source": [
    "# définiton des fonctions\n",
    "def ma_fonction(l):\n",
    "    return len(l)\n",
    "\n",
    "def len(l):\n",
    "    return -1\n",
    "\n",
    "# programme principal\n",
    "l = [1,2,3]\n",
    "r = ma_fonction(l)\n",
    "print(r)"
   ]
  },
  {
   "cell_type": "markdown",
   "metadata": {},
   "source": [
    "## Exercices d'application"
   ]
  },
  {
   "cell_type": "markdown",
   "metadata": {},
   "source": [
    "### Exercice 1\n",
    "\n",
    "Exécuter le code suivant dans Python Tutor. Avant cela, prédire (en éxécutant le code 'à la main') ce qui sera affiché.\n",
    "\n",
    "```\n",
    "def calc_factorielle(n):\n",
    "    fact = 1\n",
    "    for i in range(2, n+1):\n",
    "        fact = fact * i\n",
    "    return fact\n",
    "\n",
    "\n",
    "# programme principal\n",
    "nb = 4\n",
    "factorielle_nb = calc_factorielle(nb)\n",
    "print(\"{}! = {}\".format(nb, factorielle_nb))\n",
    "nb2 = 10\n",
    "print(\"{}! = {}\".format(nb2, calc_factorielle(nb2)))\n",
    "```"
   ]
  },
  {
   "cell_type": "markdown",
   "metadata": {},
   "source": [
    "### Exercice 2\n",
    "\n",
    "Exercice [12.7.1](https://python.sdv.univ-paris-diderot.fr/12_plus_sur_les_fonctions/#1271-predire-la-sortie)"
   ]
  },
  {
   "cell_type": "code",
   "execution_count": null,
   "metadata": {},
   "outputs": [],
   "source": [
    "\n"
   ]
  },
  {
   "cell_type": "code",
   "execution_count": 13,
   "metadata": {},
   "outputs": [
    {
     "name": "stdout",
     "output_type": "stream",
     "text": [
      "Bonjour Patrick\n",
      "10\n"
     ]
    }
   ],
   "source": [
    "def hello(prenom):\n",
    "    print(f\"Bonjour {prenom}\")\n",
    "\n",
    "\n",
    "# Programme principal.\n",
    "x = 10\n",
    "hello(\"Patrick\")\n",
    "print(x)\n"
   ]
  },
  {
   "cell_type": "markdown",
   "metadata": {},
   "source": [
    "## Exercices "
   ]
  },
  {
   "cell_type": "markdown",
   "metadata": {},
   "source": [
    "## Complémentaire\n",
    "\n",
    "Ecrire une fonction `complement` qui, étant donnée un chaîne de caractères représentant une séquence d'ADN passée en paramètre, retourne sous forme de chaîne de caractères la séquence complémentaire."
   ]
  },
  {
   "cell_type": "code",
   "execution_count": null,
   "metadata": {},
   "outputs": [],
   "source": []
  },
  {
   "cell_type": "markdown",
   "metadata": {},
   "source": [
    "### Complémentaire inversé\n",
    "\n",
    "Ecrire une fonction `reverse_complement` qui, étant donnée un chaîne de caractères représentant une séquence d'ADN passée en paramètre, retourne sous forme de chaîne de caractères la séquence complémentaire inversée."
   ]
  },
  {
   "cell_type": "code",
   "execution_count": null,
   "metadata": {},
   "outputs": [],
   "source": []
  },
  {
   "cell_type": "markdown",
   "metadata": {},
   "source": [
    "Tester sur NM_000059."
   ]
  },
  {
   "cell_type": "code",
   "execution_count": null,
   "metadata": {},
   "outputs": [],
   "source": []
  },
  {
   "cell_type": "markdown",
   "metadata": {},
   "source": [
    "### Séquence en liste\n",
    "\n",
    "Ecrire une fonction `seq2list` qui, étant donnée un chaîne de caractères représentant une séquence d'ADN passée en paramètre, retourne la séquence sous forme de liste puis une fonction `list2seq` qui réalise le travail inverse.\n",
    "\n",
    "```\n",
    ">>> seq2list('ATCG')\n",
    "['A', 'T', 'C', 'G']\n",
    ">>> list2seq(['A', 'T', 'C', 'G'])\n",
    "'ATCG'\n",
    "```"
   ]
  },
  {
   "cell_type": "code",
   "execution_count": null,
   "metadata": {},
   "outputs": [],
   "source": [
    "    "
   ]
  },
  {
   "cell_type": "code",
   "execution_count": null,
   "metadata": {},
   "outputs": [],
   "source": []
  },
  {
   "cell_type": "markdown",
   "metadata": {},
   "source": [
    "Reprendre les deux exercices précédents mais cette fois qui prennent une liste en paramètre."
   ]
  },
  {
   "cell_type": "code",
   "execution_count": null,
   "metadata": {},
   "outputs": [],
   "source": []
  },
  {
   "cell_type": "code",
   "execution_count": null,
   "metadata": {},
   "outputs": [],
   "source": []
  },
  {
   "cell_type": "markdown",
   "metadata": {},
   "source": [
    "### Séquence aléatoire\n",
    "\n",
    "Ecrire une fonction `random_dna` qui prend en paramètre un entier et retourne une séquence d'ADN aléatoire sous la forme d'une liste. On rappelle l'existence de `ramdom.choice()` qui prend en paramètre une liste d'éléments et retourne l'un de ceux-ci aléatoirement (ne pas oublier `import random` pour pouvoir utiliser cette fonction)."
   ]
  },
  {
   "cell_type": "code",
   "execution_count": null,
   "metadata": {},
   "outputs": [],
   "source": []
  },
  {
   "cell_type": "markdown",
   "metadata": {},
   "source": [
    "Ecrire une fonction `random_dna_2` qui prend en entrée quatre flottants représentant respectivement des taux de A, C, G, T attendus dans la séquence (la somme des quatre paramètres vaut 1.0) et retourne une séquence d'ADN aléatoire sous la forme d'une liste respectant les proportions de chaque nucléotide. On pourra s'aider de la fonction `ramdom.shuffle()`."
   ]
  },
  {
   "cell_type": "code",
   "execution_count": null,
   "metadata": {},
   "outputs": [],
   "source": []
  },
  {
   "cell_type": "markdown",
   "metadata": {},
   "source": [
    "### Fichier multifasta\n",
    "\n",
    "Un fichier multifasta comprend plusieurs séquences à la suite. Ecrire une fonction `read_multifasta` qui prend en paramètre un nom de fichier, et retourne la liste de séquences contenues dans le fichier sous forme de listes. Un exemple de fichier multifasta est sur le portail.\n"
   ]
  },
  {
   "cell_type": "code",
   "execution_count": null,
   "metadata": {},
   "outputs": [],
   "source": []
  }
 ],
 "metadata": {
  "kernelspec": {
   "display_name": "Python 3 (ipykernel)",
   "language": "python",
   "name": "python3"
  },
  "language_info": {
   "codemirror_mode": {
    "name": "ipython",
    "version": 3
   },
   "file_extension": ".py",
   "mimetype": "text/x-python",
   "name": "python",
   "nbconvert_exporter": "python",
   "pygments_lexer": "ipython3",
   "version": "3.8.10"
  }
 },
 "nbformat": 4,
 "nbformat_minor": 4
}
