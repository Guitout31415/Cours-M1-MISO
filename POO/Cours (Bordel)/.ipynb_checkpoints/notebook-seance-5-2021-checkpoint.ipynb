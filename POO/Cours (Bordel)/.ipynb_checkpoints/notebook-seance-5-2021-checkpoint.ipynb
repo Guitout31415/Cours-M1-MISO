{
 "cells": [
  {
   "cell_type": "markdown",
   "metadata": {},
   "source": [
    "# Notebook séance 5\n",
    "\n",
    "Sortir des Notebook.\n",
    "\n",
    "[Chapitre 8](https://python.sdv.univ-paris-diderot.fr/08_modules/) sur les modules."
   ]
  },
  {
   "cell_type": "markdown",
   "metadata": {},
   "source": [
    "Le code Python est enregistré dans des fichiers `.py` qu'on peut exécuter en passant ce fichier en argument d'une commande `python` dans le terminal de commandes.\n",
    "\n",
    "Python exécute alors les instructions les unes à la suite des autres."
   ]
  },
  {
   "cell_type": "markdown",
   "metadata": {},
   "source": [
    "Par exemple, supposons que notre fichier Python `carre.py` contienne :\n",
    "```python\n",
    "x = 3\n",
    "y = x ** 2\n",
    "print(y)\n",
    "```\n",
    "alors l'exécution donne :\n",
    "```shell\n",
    "$ python3 carre.py\n",
    "9\n",
    "$\n",
    "```"
   ]
  },
  {
   "cell_type": "markdown",
   "metadata": {},
   "source": [
    "## print or not print"
   ]
  },
  {
   "cell_type": "markdown",
   "metadata": {},
   "source": [
    "Si par contre notre fichier Python `carre.py` contient :\n",
    "```python\n",
    "x = 3\n",
    "y = x ** 2\n",
    "y\n",
    "```\n",
    "alors l'exécution donne :\n",
    "```shell\n",
    "$ python3 carre.py\n",
    "$\n",
    "```\n",
    "Rien n'est affiché puisque le calcul de `y` n'a pas été affiché.\n",
    "\n",
    "Pour faire le lien avec les Notebook, tout ce qui est affiché dans les notebook précédé par `Out[]` écrit en rouge ne sera pas affiché dans le terminal. Seul ce qui est affiché avec `print` le sera.\n",
    "\n",
    "Comparer :"
   ]
  },
  {
   "cell_type": "code",
   "execution_count": 1,
   "metadata": {},
   "outputs": [
    {
     "name": "stdout",
     "output_type": "stream",
     "text": [
      "9\n"
     ]
    }
   ],
   "source": [
    "x = 3\n",
    "y = x ** 2\n",
    "print(y)"
   ]
  },
  {
   "cell_type": "code",
   "execution_count": 2,
   "metadata": {},
   "outputs": [
    {
     "data": {
      "text/plain": [
       "9"
      ]
     },
     "execution_count": 2,
     "metadata": {},
     "output_type": "execute_result"
    }
   ],
   "source": [
    "x = 3\n",
    "y = x ** 2\n",
    "y"
   ]
  },
  {
   "cell_type": "markdown",
   "metadata": {},
   "source": [
    "## Fonctions"
   ]
  },
  {
   "cell_type": "markdown",
   "metadata": {},
   "source": [
    "On peut bien sûr définir des fonctions dans un fichier Python.\n",
    "\n",
    "```python\n",
    "def carre(x):\n",
    "    return x ** 2\n",
    "    \n",
    "x = 3\n",
    "y = carre(x)\n",
    "print(\"Le carre de {} vaut {}\".format(x,y))\n",
    "```"
   ]
  },
  {
   "cell_type": "markdown",
   "metadata": {},
   "source": [
    "Attention, les fonctions doivent être définies avant d'être utilisées.\n",
    "\n",
    "```python\n",
    "x = 3\n",
    "y = carre(x)\n",
    "print(\"Le carre de {} vaut {}\".format(x,y))\n",
    "\n",
    "def carre(x):\n",
    "    return x ** 2\n",
    "```\n",
    "produira une erreur à l'exécution.\n",
    "\n",
    "Il en va de même pour la composition de fonctions (fonctions qui en appellent d'autres : si `a` appelle `b` alors le code de `b` doit être écrit avant le code de `a`)"
   ]
  },
  {
   "cell_type": "markdown",
   "metadata": {},
   "source": [
    "## Un exemple complet\n",
    "\n",
    "On prend l'exemple du calcul de fréquences des acides aminés dans un peptide. \n",
    "\n",
    "Le fichier `freq_aa.py` contient :\n",
    "```python\n",
    "# les constantes\n",
    "AA_ALPHABET = ['A', 'R', 'N', 'D', 'C', 'Q', 'E', 'G', 'H', 'I', 'L', 'K', 'M', 'F', 'P', 'S', 'T', 'W', 'Y', 'V', 'X', 'Z', 'J', 'U']\n",
    "\n",
    "# les fonctions\n",
    "def number_of_aa (aa, protein):\n",
    "    \"\"\"\n",
    "    Input  : a protein sequence 'protein' given as a string and an amino acid 'aa' given as a string\n",
    "    Returns: the number of aa 'aa' in 'protein'\n",
    "    \"\"\"\n",
    "    cpt = 0\n",
    "    for a in protein:\n",
    "        if a == aa:\n",
    "            cpt += 1\n",
    "    return cpt\n",
    "\n",
    "def most_frequent_aa (protein):\n",
    "    \"\"\"\n",
    "    Input  : a protein sequence 'protein' given as a string\n",
    "    Returns: the most frequent aa in 'protein'\n",
    "    \"\"\"\n",
    "    cpt = 0\n",
    "    m_f_aa = None\n",
    "    for aa in AA_ALPHABET:\n",
    "        c = number_of_aa (aa, protein)\n",
    "        if c > cpt:\n",
    "            cpt = c\n",
    "            m_f_aa = aa\n",
    "    return m_f_aa\n",
    "\n",
    "# le programme principal\n",
    "p = 'NFEYLEIRRLETHPDPTRSLLDDWQGRPGASVGRLLELLAKLGRDDVLVELGPS'\n",
    "print(most_frequent_aa(p))\n",
    "\n",
    "```"
   ]
  },
  {
   "cell_type": "markdown",
   "metadata": {},
   "source": [
    "L'exécution donne :\n",
    "\n",
    "```shell\n",
    "$ python3 freq_aa.py\n",
    "L\n",
    "$ \n",
    "```"
   ]
  },
  {
   "cell_type": "markdown",
   "metadata": {},
   "source": [
    "## Le programme principal\n",
    "\n",
    "Le programme principal est le morceau de code exécuté par Python à la lecture du fichier. Par défaut c'est tout le code qui se trouve hors des fonctions.\n",
    "\n",
    "Néanmoins, pour des raisons qu'on expliquera un peu plus tard lorsqu'on créera nos propres modules, il est conseillé de prendre l'habitude de mettre l'ensemble du code du programme principal dans une conditionnelle :\n",
    "\n",
    "```python\n",
    "if __name__ == \"__main__\":\n",
    "    p = 'NFEYLEIRRLETHPDPTRSLLDDWQGRPGASVGRLLELLAKLGRDDVLVELGPS'\n",
    "    print(most_frequent_aa(p))\n",
    "```\n",
    "\n",
    "Cela a à voir avec l'importation de modules. Si vous êtes impatients vous pouvez aller voir le [chapitre 14](https://python.sdv.univ-paris-diderot.fr/14_creation_modules/)"
   ]
  },
  {
   "cell_type": "markdown",
   "metadata": {},
   "source": [
    "Il est dommage que si on veut tester sur différents peptides il faille modifier le programme.\n",
    "\n",
    "Ce serait bien plus pratique de pouvoir écrire :\n",
    "```shell\n",
    "$ python3 freq_aa.py \"NFEYLEIRRLETHPDPTRSLLDDWQGRPGASVGRLLELLAKLGRDDVLVELGPS\"\n",
    "```"
   ]
  },
  {
   "cell_type": "markdown",
   "metadata": {},
   "source": [
    "Pour ce faire, on va utiliser le **module** Python qui s'appelle `sys` (nous avons déjà utilisé des modules : `random`).\n",
    "\n",
    "`sys`fournit une variable qui se nomme `argv`:\n",
    "```python\n",
    "import sys\n",
    "print(sys.argv)\n",
    "```"
   ]
  },
  {
   "cell_type": "markdown",
   "metadata": {},
   "source": [
    "L'exécution de ce code dans un fichier `argv.py` donne :\n",
    "```shell\n",
    "$ python3 argv.py un deux trois quatre cinq\n",
    "['argv.py', 'un', 'deux', 'trois', 'quatre', 'cinq']\n",
    "$\n",
    "```\n",
    "\n",
    "- sys.argv est la liste (au sens Python) des arguments\n",
    "- `sys.argv[0]` contient le nom du programme exécuté\n",
    "- `sys.argv[i]`, i > 0, contient le i-ème argument de la ligne de commande"
   ]
  },
  {
   "cell_type": "markdown",
   "metadata": {},
   "source": [
    "On peut donc réécrire le programme `freq_aa.py` ainsi :\n",
    "\n",
    "```python\n",
    "import sys\n",
    "\n",
    "...\n",
    "\n",
    "# le programme principal\n",
    "if __name__ == \"__main__\":\n",
    "    p = sys.argv[1]\n",
    "    print(most_frequent_aa(p))\n",
    "```"
   ]
  },
  {
   "cell_type": "markdown",
   "metadata": {},
   "source": [
    "Et l'exécution :\n",
    "```shell\n",
    "$ python3 freq_aa.py \"NFEYLEIRRLETHPDPTRSLLDDWQGRPGASVGRLLELLAKLGRDDVLVELGPS\"\n",
    "L\n",
    "```"
   ]
  },
  {
   "cell_type": "markdown",
   "metadata": {},
   "source": [
    "## Exercices"
   ]
  },
  {
   "cell_type": "markdown",
   "metadata": {},
   "source": [
    "### Exercice 1\n",
    "\n",
    "Q1. Pour s'entraîner, créer un programme `randomDNA.py` qui génère une séquence aléatoire d'ADN dont la taille est passée en argument sur la ligne de commande.\n",
    "\n",
    "\n",
    "Q2. Si l'utilisateur du programme n'indique rien sur la ligne de commande alors qu'il est attendu quelque chose cela produira une erreur puisque l'accès à `sys.argv[1]` (par exemple) produit une erreur d'accès. \n",
    "\n",
    "Modifier le programme précédent pour qu'il affiche un message à l'utilisateur si l'argument attendu n'est pas donné.\n",
    "\n",
    "Q3. On propose maintenant de pouvoir ajouter un second argument optionnel qui représente un nom de fichier. Si cet argument est présent alors la séquence aléatoire est enregistrée au format Fasta dans le fichier du nom de l'argument. Sinon il est toujours affiché dans le terminal.\n",
    "\n",
    "```shell\n",
    "$ python3 randomDNA.py 20\n",
    "GGATGCAGGTGAGAGCAGGATAGGA\n",
    "$ python3 randomDNA.py 20 ma_sequence.fasta\n",
    "$ cat ma_sequence.fasta\n",
    "> ma_sequence.fasta\n",
    "ATGCCGATGGATGTGAGACGACATT\n",
    "```\n",
    "\n",
    "Q4. Modifier enfin le programme pour que le nom de la séquence dans le fichier Fasta corresponde uniquement au nom du fichier, privé de son extension. On utilisera des fonctionalités du module `os` pour cela.\n",
    "\n",
    "```shell\n",
    "$ python3 randomDNA.py 20 /tmp/ma_sequence.fasta\n",
    "$ cat /tmp/ma_sequence.fasta\n",
    "> ma_sequence\n",
    "ATGCCGATGGATGTGAGACGACATT\n",
    "```\n"
   ]
  },
  {
   "cell_type": "markdown",
   "metadata": {},
   "source": [
    "### Exercice 2\n",
    "\n",
    "Q1. Ecrire un programme qui prend en argument deux chaînes de caractères et calcule la [distance de Hamming](https://python.sdv.univ-paris-diderot.fr/10_plus_sur_les_chaines_de_caracteres/#1075-distance-de-hamming) et l'affiche.\n",
    "\n",
    "On prendra soin de vérifier le nombre d'arguments et que les deux chaînes sont de même longueur.\n",
    "\n",
    "Q2. Reprendre le même programme mais qui cette fois prend en paramètres deux noms de fichier qui contiennent des séquences au format Fasta (on pourra utiliser l'exercice précédent pour générer des fichiers test).\n",
    "\n",
    "Dans l'écriture du programme, il sera judicieux de créer une fonction pour les différentes tâches (lecture du fichier, calcul de la distance, et plus si vous trouvez cela utile). \n"
   ]
  },
  {
   "cell_type": "markdown",
   "metadata": {},
   "source": [
    "### Exercice 3\n",
    "\n",
    "Q1. Ecrire un programme qui prend en argument une séquence d'ADN au format Fasta et une chaîne de caractères représentant un motif et calcule toutes les occurrences de ce motif dans la séquence. Le programme affichera sur la sortie standard (i.e. le terminal) la liste des positions d'occurrence.\n",
    "\n",
    "```shell\n",
    "$ python3 searchformotif.py ma_sequence.fasta ATG\n",
    "1\n",
    "7\n",
    "11\n",
    "```\n",
    "\n",
    "Q2. Reprendre le même programme mais cette fois avec un troisième argument qui indique la distance de Hamming maximale autorisée pour décider de l'occurrence du motif (si la distance maximale est 0, cela revient à la question 1). En  plus, on affichera la partie correspondante de la séquence.\n",
    "\n",
    "```shell\n",
    "$ python3 searchformotif.py ma_sequence.fasta ATG 1\n",
    "1 ATG\n",
    "7 ATG\n",
    "11 ATG\n",
    "13 GTG\n",
    "17 ACG\n",
    "```\n",
    "\n",
    "Q3. Sauriez-vous réécrire la même chose mais en utilisant le module `re` (voir la [documentation](https://docs.python.org/3/howto/regex.html))"
   ]
  },
  {
   "cell_type": "code",
   "execution_count": null,
   "metadata": {},
   "outputs": [],
   "source": []
  }
 ],
 "metadata": {
  "kernelspec": {
   "display_name": "Python 3 (ipykernel)",
   "language": "python",
   "name": "python3"
  },
  "language_info": {
   "codemirror_mode": {
    "name": "ipython",
    "version": 3
   },
   "file_extension": ".py",
   "mimetype": "text/x-python",
   "name": "python",
   "nbconvert_exporter": "python",
   "pygments_lexer": "ipython3",
   "version": "3.8.10"
  }
 },
 "nbformat": 4,
 "nbformat_minor": 4
}
