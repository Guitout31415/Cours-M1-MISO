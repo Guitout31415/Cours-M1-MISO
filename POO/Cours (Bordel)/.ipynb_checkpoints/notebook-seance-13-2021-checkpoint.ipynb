{
 "cells": [
  {
   "cell_type": "markdown",
   "metadata": {},
   "source": [
    "# Notebook séance 13\n",
    "\n",
    "[Avoir la classe avec les objets](https://python.sdv.univ-paris-diderot.fr/19_avoir_la_classe_avec_les_objets/) en Python.\n"
   ]
  },
  {
   "cell_type": "markdown",
   "metadata": {},
   "source": [
    "Une classe permet de regrouper des fonctionalités sur un objet.\n",
    "\n",
    "Le paradigme objet change le point de vue par rapport au paradigme impératif : on *invoque* des méthodes sur des objets, ces méthodes agissent sur l'*instance* de l'objet.\n",
    "\n",
    "Par exemple, la télévision de madame X et une télévision de monsieur Y sont toutes les deux des télévisions, et possèdent toutes les deux un bouton marche-arrêt. Mais lorsque j'appuie sur le bouton marche-arrêt de la télévision de madame X j'agis bien sur la télévision de madame X, pas sur celle de monsieur Y.\n",
    "\n",
    "L'ensemble des méthodes disponibles sur un objet correspond aux interactions possibles avec cet objet.\n",
    "\n",
    "Pour poursuivre sur l'exemple, je peux agir sur une télévision en l'allumant, en l'éteignant, en changeant de chaîne, en augmentant le volume ou en le diminuant, en coupant le son, etc."
   ]
  },
  {
   "cell_type": "markdown",
   "metadata": {},
   "source": [
    "## Exemple\n",
    "\n",
    "On a ci-dessous une classe `DNA` permettant de *modéliser* une séquence d'ADN. On souhaite interagir avec un objet de type `DNA` avec les méthodes suivantes : calculer le taux de GC, calculer la séquence complémentaire inversée, en obtenir la représentation sous forme de chaîne de caractères."
   ]
  },
  {
   "cell_type": "code",
   "execution_count": 1,
   "metadata": {},
   "outputs": [],
   "source": [
    "class DNA:\n",
    "    \n",
    "    # attribut de classe\n",
    "    __COMPLEMENT = { 'A': 'T', 'T': 'A', 'C': 'G', 'G': 'C' }\n",
    "    \n",
    "    # constructeur\n",
    "    def __init__(self, seq):\n",
    "        # self = l'instance actuelle de l'objet\n",
    "        \"\"\"\n",
    "        Parameters\n",
    "        ----------\n",
    "        seq : String\n",
    "            seq is a string made of letters 'A', 'C', 'G', 'T'\n",
    "        \"\"\"\n",
    "        # l'attribut __seq de moi-même devient égal à seq\n",
    "        self.__seq = seq\n",
    "        # il est préfixé par __ pour indiquer qu'il est privé : \n",
    "        # un utilisateur d'une instance de la classe DNA ne pourra\n",
    "        # pas y accéder\n",
    "    \n",
    "    # des méthodes publiques\n",
    "    def gc_rate(self):\n",
    "        \"\"\"\n",
    "        Returns\n",
    "        -------\n",
    "        double\n",
    "            GC rate of the DNA sequence\n",
    "        \"\"\"\n",
    "        n = 0\n",
    "        # self.__seq : le __seq de moi-même\n",
    "        for nuc in self.__seq:\n",
    "            if nuc in ['C','G']:\n",
    "                n += 1\n",
    "        return n / len(self.__seq)\n",
    "    \n",
    "    def revcomp(self):\n",
    "        \"\"\"\n",
    "        Returns\n",
    "        -------\n",
    "        DNA\n",
    "            a fresh DNA sequence which is the reverse complement of this object\n",
    "        \"\"\"\n",
    "        seqrevcomp = \"\"\n",
    "        for nuc in self.__seq:\n",
    "            seqrevcomp += self.__complement(nuc)\n",
    "        return DNA(seqrevcomp[::-1])\n",
    "\n",
    "    def to_string(self):\n",
    "        \"\"\"\n",
    "        Returns\n",
    "        -------\n",
    "        String\n",
    "            a string representation of the DNA sequence\n",
    "        \"\"\"\n",
    "        return self.__seq\n",
    "    \n",
    "    # des méthodes privées\n",
    "    def __complement(self,nuc):\n",
    "        \"\"\"\n",
    "        Parameters\n",
    "        ----------\n",
    "        nuc : String\n",
    "            a nucleotide given as a string of one letter (A,T,C,G) \n",
    "        Returns\n",
    "        -------\n",
    "        String\n",
    "            the base complement as a string of one letter (A,T,C,G)\n",
    "        \"\"\"\n",
    "        return self.__COMPLEMENT[nuc]"
   ]
  },
  {
   "cell_type": "code",
   "execution_count": 2,
   "metadata": {},
   "outputs": [
    {
     "name": "stdout",
     "output_type": "stream",
     "text": [
      "0.5555555555555556\n",
      "ATCGACTGC\n",
      "GCAGTCGAT\n",
      "ATCGACTGC\n",
      "<__main__.DNA object at 0x103322a60>\n",
      "<__main__.DNA object at 0x103344cd0>\n"
     ]
    }
   ],
   "source": [
    "s = \"ATCGACTGC\"\n",
    "# pour créer une instance d'un objet, \n",
    "# on donne le nom de la classe et entre parenthèses \n",
    "# les paramètres du constructeur\n",
    "seq = DNA(s)\n",
    "print(seq.gc_rate())\n",
    "print(seq.to_string())\n",
    "\n",
    "# option 2 : on crée une nouvelle instance\n",
    "rev = seq.revcomp()\n",
    "print(rev.to_string())\n",
    "print(seq.to_string())\n",
    "\n",
    "print(rev)\n",
    "print(seq)"
   ]
  },
  {
   "cell_type": "code",
   "execution_count": 3,
   "metadata": {},
   "outputs": [
    {
     "data": {
      "text/plain": [
       "True"
      ]
     },
     "execution_count": 3,
     "metadata": {},
     "output_type": "execute_result"
    }
   ],
   "source": [
    "isinstance(seq,DNA)"
   ]
  },
  {
   "cell_type": "code",
   "execution_count": 4,
   "metadata": {},
   "outputs": [
    {
     "data": {
      "text/plain": [
       "True"
      ]
     },
     "execution_count": 4,
     "metadata": {},
     "output_type": "execute_result"
    }
   ],
   "source": [
    "isinstance(rev,DNA)"
   ]
  },
  {
   "cell_type": "markdown",
   "metadata": {},
   "source": [
    "## La méthode spéciale `__init__`"
   ]
  },
  {
   "cell_type": "markdown",
   "metadata": {},
   "source": [
    "C'est le **constructeur**. Il sert à initialiser une **instance** de l'objet.\n",
    "\n",
    "Regardons ce qui se passe dans PythonTutor, pour le code suivant."
   ]
  },
  {
   "cell_type": "markdown",
   "metadata": {},
   "source": [
    "[lien vers PythonTutor](http://pythontutor.com/visualize.html#code=class%20DNA%3A%0A%20%20%20%20%0A%20%20%20%20__COMPLEMENT%20%3D%20%7B%20'A'%3A%20'T',%20'T'%3A%20'A',%20'C'%3A%20'G',%20'G'%3A%20'C'%20%7D%0A%20%20%20%20%0A%20%20%20%20def%20__init__%28self,%20seq%29%3A%0A%20%20%20%20%20%20%20%20%22%22%22%0A%20%20%20%20%20%20%20%20Parameters%3A%0A%20%20%20%20%20%20%20%20seq%20%3A%20String%0A%20%20%20%20%20%20%20%20%20%20%20%20seq%20is%20a%20string%20made%20of%20letters%20'A',%20'C',%20'G',%20'T'%0A%20%20%20%20%20%20%20%20%22%22%22%0A%20%20%20%20%20%20%20%20self.__seq%20%3D%20seq%0A%20%20%20%20%0A%20%20%20%20def%20gc_rate%28self%29%3A%0A%20%20%20%20%20%20%20%20n%20%3D%200%0A%20%20%20%20%20%20%20%20for%20nuc%20in%20self.__seq%3A%0A%20%20%20%20%20%20%20%20%20%20%20%20if%20nuc%20in%20%5B'C','G'%5D%3A%0A%20%20%20%20%20%20%20%20%20%20%20%20%20%20%20%20n%20%2B%3D%201%0A%20%20%20%20%20%20%20%20return%20n%20/%20len%28self.__seq%29%0A%20%20%20%20%0A%20%20%20%20def%20revcomp%28self%29%3A%0A%20%20%20%20%20%20%20%20seqrevcomp%20%3D%20%22%22%0A%20%20%20%20%20%20%20%20for%20nuc%20in%20self.__seq%3A%0A%20%20%20%20%20%20%20%20%20%20%20%20seqrevcomp%20%2B%3D%20self.__complement%28nuc%29%0A%20%20%20%20%20%20%20%20return%20DNA%28seqrevcomp%5B%3A%3A-1%5D%29%0A%0A%20%20%20%20def%20__complement%28self,nuc%29%3A%0A%20%20%20%20%20%20%20%20return%20self.__COMPLEMENT%5Bnuc%5D%0A%20%20%20%20%20%20%20%20%0A%20%20%20%20%20%20%20%20%0Aif%20__name__%20%3D%3D%20%22__main__%22%3A%0A%20%20%20%20s1%20%3D%20%22ATCGACTGC%22%0A%20%20%20%20seq1%20%3D%20DNA%28s1%29%0A%20%20%20%20s2%20%3D%20%22ATTTCGAGGAGC%22%0A%20%20%20%20seq2%20%3D%20DNA%28s2%29&cumulative=false&heapPrimitives=nevernest&mode=edit&origin=opt-frontend.js&py=3&rawInputLstJSON=%5B%5D&textReferences=false)"
   ]
  },
  {
   "cell_type": "code",
   "execution_count": 5,
   "metadata": {},
   "outputs": [],
   "source": [
    "s1 = \"ATCGACTGC\"\n",
    "seq1 = DNA(s1)\n",
    "s2 = \"ATTTCGAGGAGC\"\n",
    "seq2 = DNA(s2)"
   ]
  },
  {
   "cell_type": "markdown",
   "metadata": {},
   "source": [
    "A partir des instances on peut **invoquer** des méthodes."
   ]
  },
  {
   "cell_type": "markdown",
   "metadata": {},
   "source": [
    "[lien vers PythonTutor](http://pythontutor.com/visualize.html#code=class%20DNA%3A%0A%20%20%20%20%0A%20%20%20%20__COMPLEMENT%20%3D%20%7B%20'A'%3A%20'T',%20'T'%3A%20'A',%20'C'%3A%20'G',%20'G'%3A%20'C'%20%7D%0A%20%20%20%20%0A%20%20%20%20def%20__init__%28self,%20seq%29%3A%0A%20%20%20%20%20%20%20%20%22%22%22%0A%20%20%20%20%20%20%20%20Parameters%3A%0A%20%20%20%20%20%20%20%20seq%20%3A%20String%0A%20%20%20%20%20%20%20%20%20%20%20%20seq%20is%20a%20string%20made%20of%20letters%20'A',%20'C',%20'G',%20'T'%0A%20%20%20%20%20%20%20%20%22%22%22%0A%20%20%20%20%20%20%20%20self.__seq%20%3D%20seq%0A%20%20%20%20%0A%20%20%20%20def%20gc_rate%28self%29%3A%0A%20%20%20%20%20%20%20%20n%20%3D%200%0A%20%20%20%20%20%20%20%20for%20nuc%20in%20self.__seq%3A%0A%20%20%20%20%20%20%20%20%20%20%20%20if%20nuc%20in%20%5B'C','G'%5D%3A%0A%20%20%20%20%20%20%20%20%20%20%20%20%20%20%20%20n%20%2B%3D%201%0A%20%20%20%20%20%20%20%20return%20n%20/%20len%28self.__seq%29%0A%20%20%20%20%0A%20%20%20%20def%20revcomp%28self%29%3A%0A%20%20%20%20%20%20%20%20seqrevcomp%20%3D%20%22%22%0A%20%20%20%20%20%20%20%20for%20nuc%20in%20self.__seq%3A%0A%20%20%20%20%20%20%20%20%20%20%20%20seqrevcomp%20%2B%3D%20self.__complement%28nuc%29%0A%20%20%20%20%20%20%20%20return%20DNA%28seqrevcomp%5B%3A%3A-1%5D%29%0A%0A%20%20%20%20def%20__complement%28self,nuc%29%3A%0A%20%20%20%20%20%20%20%20return%20self.__COMPLEMENT%5Bnuc%5D%0A%20%20%20%20%20%20%20%20%0A%20%20%20%20%20%20%20%20%0Aif%20__name__%20%3D%3D%20%22__main__%22%3A%0A%20%20%20%20s1%20%3D%20%22ATCGACTGC%22%0A%20%20%20%20seq1%20%3D%20DNA%28s1%29%0A%20%20%20%20s2%20%3D%20%22ATTTCGAGGAGC%22%0A%20%20%20%20seq2%20%3D%20DNA%28s2%29%0A%20%20%20%20%0A%20%20%20%20print%28seq1.gc_rate%28%29%29%0A%20%20%20%20seq3%20%3D%20seq1.revcomp%28%29%0A%20%20%20%20&cumulative=false&heapPrimitives=nevernest&mode=edit&origin=opt-frontend.js&py=3&rawInputLstJSON=%5B%5D&textReferences=false)"
   ]
  },
  {
   "cell_type": "markdown",
   "metadata": {},
   "source": [
    "## Les attributs et méthodes préfixées par `__`\n",
    "\n",
    "C'est une convention Python de préfixer par `__` les attributs et méthodes qu'on ne veut pas exposer aux utilisateurs de notre classe : on appelle cela les attributs et les méthodes **privées**.\n",
    "\n",
    "Si un attribut est privé, on n'y a accès qu'à \"l'intérieur de la classe\"."
   ]
  },
  {
   "cell_type": "code",
   "execution_count": 6,
   "metadata": {},
   "outputs": [
    {
     "ename": "AttributeError",
     "evalue": "'DNA' object has no attribute '__seq'",
     "output_type": "error",
     "traceback": [
      "\u001b[0;31m---------------------------------------------------------------------------\u001b[0m",
      "\u001b[0;31mAttributeError\u001b[0m                            Traceback (most recent call last)",
      "\u001b[0;32m/var/folders/ms/6jqfpr_d6zg553c5n__mw6wc0000gn/T/ipykernel_12068/398977558.py\u001b[0m in \u001b[0;36m<module>\u001b[0;34m\u001b[0m\n\u001b[0;32m----> 1\u001b[0;31m \u001b[0mseq1\u001b[0m\u001b[0;34m.\u001b[0m\u001b[0m__seq\u001b[0m\u001b[0;34m\u001b[0m\u001b[0;34m\u001b[0m\u001b[0m\n\u001b[0m",
      "\u001b[0;31mAttributeError\u001b[0m: 'DNA' object has no attribute '__seq'"
     ]
    }
   ],
   "source": [
    "seq1.__seq"
   ]
  },
  {
   "cell_type": "markdown",
   "metadata": {},
   "source": [
    "Mais dans une méthode de la classe DNA on peut bien sûr accéder à `self.__seq`."
   ]
  },
  {
   "cell_type": "markdown",
   "metadata": {},
   "source": [
    "## Les méthodes spéciales `__len__, __str__, __repr__`\n",
    "\n",
    "Il existe des méthodes spéciales en Python qui permettent d'avoir une écriture simplifiée pour accéder à la longueur ou à l'affichage."
   ]
  },
  {
   "cell_type": "code",
   "execution_count": 7,
   "metadata": {},
   "outputs": [
    {
     "name": "stdout",
     "output_type": "stream",
     "text": [
      "<__main__.DNA object at 0x1033448b0>\n"
     ]
    }
   ],
   "source": [
    "s = \"ATCGACTGC\"\n",
    "seq = DNA(s)\n",
    "print(seq)"
   ]
  },
  {
   "cell_type": "code",
   "execution_count": 8,
   "metadata": {},
   "outputs": [
    {
     "ename": "AttributeError",
     "evalue": "'DNA' object has no attribute '__seq'",
     "output_type": "error",
     "traceback": [
      "\u001b[0;31m---------------------------------------------------------------------------\u001b[0m",
      "\u001b[0;31mAttributeError\u001b[0m                            Traceback (most recent call last)",
      "\u001b[0;32m/var/folders/ms/6jqfpr_d6zg553c5n__mw6wc0000gn/T/ipykernel_12068/2656364704.py\u001b[0m in \u001b[0;36m<module>\u001b[0;34m\u001b[0m\n\u001b[1;32m      1\u001b[0m \u001b[0ms\u001b[0m \u001b[0;34m=\u001b[0m \u001b[0;34m\"ATCGACTGC\"\u001b[0m\u001b[0;34m\u001b[0m\u001b[0;34m\u001b[0m\u001b[0m\n\u001b[1;32m      2\u001b[0m \u001b[0mseq\u001b[0m \u001b[0;34m=\u001b[0m \u001b[0mDNA\u001b[0m\u001b[0;34m(\u001b[0m\u001b[0ms\u001b[0m\u001b[0;34m)\u001b[0m\u001b[0;34m\u001b[0m\u001b[0;34m\u001b[0m\u001b[0m\n\u001b[0;32m----> 3\u001b[0;31m \u001b[0mprint\u001b[0m\u001b[0;34m(\u001b[0m\u001b[0mseq\u001b[0m\u001b[0;34m.\u001b[0m\u001b[0m__seq\u001b[0m\u001b[0;34m)\u001b[0m\u001b[0;34m\u001b[0m\u001b[0;34m\u001b[0m\u001b[0m\n\u001b[0m",
      "\u001b[0;31mAttributeError\u001b[0m: 'DNA' object has no attribute '__seq'"
     ]
    }
   ],
   "source": [
    "s = \"ATCGACTGC\"\n",
    "seq = DNA(s)\n",
    "print(seq.__seq)"
   ]
  },
  {
   "cell_type": "code",
   "execution_count": 9,
   "metadata": {},
   "outputs": [
    {
     "ename": "AttributeError",
     "evalue": "'DNA' object has no attribute '__COMPLEMENT'",
     "output_type": "error",
     "traceback": [
      "\u001b[0;31m---------------------------------------------------------------------------\u001b[0m",
      "\u001b[0;31mAttributeError\u001b[0m                            Traceback (most recent call last)",
      "\u001b[0;32m/var/folders/ms/6jqfpr_d6zg553c5n__mw6wc0000gn/T/ipykernel_12068/1581040553.py\u001b[0m in \u001b[0;36m<module>\u001b[0;34m\u001b[0m\n\u001b[1;32m      1\u001b[0m \u001b[0ms\u001b[0m \u001b[0;34m=\u001b[0m \u001b[0;34m\"ATCGACTGC\"\u001b[0m\u001b[0;34m\u001b[0m\u001b[0;34m\u001b[0m\u001b[0m\n\u001b[1;32m      2\u001b[0m \u001b[0mseq\u001b[0m \u001b[0;34m=\u001b[0m \u001b[0mDNA\u001b[0m\u001b[0;34m(\u001b[0m\u001b[0ms\u001b[0m\u001b[0;34m)\u001b[0m\u001b[0;34m\u001b[0m\u001b[0;34m\u001b[0m\u001b[0m\n\u001b[0;32m----> 3\u001b[0;31m \u001b[0mseq\u001b[0m\u001b[0;34m.\u001b[0m\u001b[0m__COMPLEMENT\u001b[0m\u001b[0;34m\u001b[0m\u001b[0;34m\u001b[0m\u001b[0m\n\u001b[0m",
      "\u001b[0;31mAttributeError\u001b[0m: 'DNA' object has no attribute '__COMPLEMENT'"
     ]
    }
   ],
   "source": [
    "s = \"ATCGACTGC\"\n",
    "seq = DNA(s)\n",
    "seq.__COMPLEMENT"
   ]
  },
  {
   "cell_type": "code",
   "execution_count": 10,
   "metadata": {},
   "outputs": [],
   "source": [
    "# les commentaires sont supprimés pour simplifier la lecture\n",
    "class DNA:\n",
    "    \n",
    "    __COMPLEMENT = { 'A': 'T', 'T': 'A', 'C': 'G', 'G': 'C' }\n",
    "    \n",
    "    def __init__(self, seq):\n",
    "        self.__seq = seq\n",
    "    \n",
    "    def gc_rate(self):\n",
    "        n = 0\n",
    "        for nuc in self.__seq:\n",
    "            if nuc in ['C','G']:\n",
    "                n += 1\n",
    "        return n / len(self.__seq)\n",
    "    \n",
    "    def revcomp(self):\n",
    "        seqrevcomp = \"\"\n",
    "        for nuc in self.__seq:\n",
    "            seqrevcomp += self.__complement(nuc)\n",
    "        return DNA(seqrevcomp[::-1])\n",
    "\n",
    "    def __complement(self,nuc):\n",
    "        return self.__COMPLEMENT[nuc]\n",
    "    \n",
    "    # vient remplacer la méthode toString() que nous avions réalisée\n",
    "    def __str__(self):\n",
    "        # attend qu'on retourne une chaîne de caractères\n",
    "        return self.__seq\n",
    "    \n",
    "    def __repr__(self):\n",
    "        # attend qu'on retourne une chaîne de caractères\n",
    "        return \"{}, {}\".format(self.__seq, self.gc_rate())"
   ]
  },
  {
   "cell_type": "markdown",
   "metadata": {},
   "source": [
    "Utilise `__str__`"
   ]
  },
  {
   "cell_type": "code",
   "execution_count": 11,
   "metadata": {},
   "outputs": [
    {
     "name": "stdout",
     "output_type": "stream",
     "text": [
      "ATCGACTGC\n"
     ]
    }
   ],
   "source": [
    "s = \"ATCGACTGC\"\n",
    "seq = DNA(s)\n",
    "print(seq)"
   ]
  },
  {
   "cell_type": "code",
   "execution_count": 12,
   "metadata": {},
   "outputs": [
    {
     "data": {
      "text/plain": [
       "'ATCGACTGC'"
      ]
     },
     "execution_count": 12,
     "metadata": {},
     "output_type": "execute_result"
    }
   ],
   "source": [
    "str(seq)"
   ]
  },
  {
   "cell_type": "markdown",
   "metadata": {},
   "source": [
    "Utilise `___repr__`"
   ]
  },
  {
   "cell_type": "code",
   "execution_count": 13,
   "metadata": {},
   "outputs": [
    {
     "data": {
      "text/plain": [
       "ATCGACTGC, 0.5555555555555556"
      ]
     },
     "execution_count": 13,
     "metadata": {},
     "output_type": "execute_result"
    }
   ],
   "source": [
    "seq"
   ]
  },
  {
   "cell_type": "code",
   "execution_count": 14,
   "metadata": {},
   "outputs": [
    {
     "data": {
      "text/plain": [
       "'ATCGACTGC, 0.5555555555555556'"
      ]
     },
     "execution_count": 14,
     "metadata": {},
     "output_type": "execute_result"
    }
   ],
   "source": [
    "repr(seq)"
   ]
  },
  {
   "cell_type": "markdown",
   "metadata": {},
   "source": [
    "C'est la même chose sur tous les objets Python."
   ]
  },
  {
   "cell_type": "code",
   "execution_count": 15,
   "metadata": {},
   "outputs": [
    {
     "data": {
      "text/plain": [
       "'[1, 2, 3]'"
      ]
     },
     "execution_count": 15,
     "metadata": {},
     "output_type": "execute_result"
    }
   ],
   "source": [
    "l = [1,2,3]\n",
    "repr(l)"
   ]
  },
  {
   "cell_type": "markdown",
   "metadata": {},
   "source": [
    "On ajoute une méthode pour obtenir la longueur d'une séquence d'ADN."
   ]
  },
  {
   "cell_type": "code",
   "execution_count": 16,
   "metadata": {},
   "outputs": [],
   "source": [
    "class DNA:\n",
    "    \n",
    "    __COMPLEMENT = { 'A': 'T', 'T': 'A', 'C': 'G', 'G': 'C' }\n",
    "    \n",
    "    def __init__(self, seq):\n",
    "        \"\"\"\n",
    "        Parameters:\n",
    "        seq : String\n",
    "            seq is a string made of letters 'A', 'C', 'G', 'T'\n",
    "        \"\"\"\n",
    "        self.__seq = seq\n",
    "    \n",
    "    def gc_rate(self):\n",
    "        n = 0\n",
    "        for nuc in self.__seq:\n",
    "            if nuc in ['C','G']:\n",
    "                n += 1\n",
    "        return n / len(self.__seq)\n",
    "    \n",
    "    def revcomp(self):\n",
    "        seqrevcomp = \"\"\n",
    "        for nuc in self.__seq:\n",
    "            seqrevcomp += self.__complement(nuc)\n",
    "        return DNA(seqrevcomp[::-1])\n",
    "    \n",
    "    def length(self):\n",
    "        return len(self.__seq)\n",
    "\n",
    "    def __complement(self,nuc):\n",
    "        return self.__COMPLEMENT[nuc]\n",
    "    \n",
    "    def __str__(self):\n",
    "        # attend qu'on retourne une chaîne de caractères\n",
    "        return self.__seq"
   ]
  },
  {
   "cell_type": "code",
   "execution_count": 17,
   "metadata": {},
   "outputs": [
    {
     "data": {
      "text/plain": [
       "9"
      ]
     },
     "execution_count": 17,
     "metadata": {},
     "output_type": "execute_result"
    }
   ],
   "source": [
    "s = \"ATCGACTGC\"\n",
    "seq = DNA(s)\n",
    "seq.length()"
   ]
  },
  {
   "cell_type": "code",
   "execution_count": 18,
   "metadata": {},
   "outputs": [
    {
     "ename": "TypeError",
     "evalue": "object of type 'DNA' has no len()",
     "output_type": "error",
     "traceback": [
      "\u001b[0;31m---------------------------------------------------------------------------\u001b[0m",
      "\u001b[0;31mTypeError\u001b[0m                                 Traceback (most recent call last)",
      "\u001b[0;32m/var/folders/ms/6jqfpr_d6zg553c5n__mw6wc0000gn/T/ipykernel_12068/1988902926.py\u001b[0m in \u001b[0;36m<module>\u001b[0;34m\u001b[0m\n\u001b[0;32m----> 1\u001b[0;31m \u001b[0mlen\u001b[0m\u001b[0;34m(\u001b[0m\u001b[0mseq\u001b[0m\u001b[0;34m)\u001b[0m\u001b[0;34m\u001b[0m\u001b[0;34m\u001b[0m\u001b[0m\n\u001b[0m",
      "\u001b[0;31mTypeError\u001b[0m: object of type 'DNA' has no len()"
     ]
    }
   ],
   "source": [
    "len(seq)"
   ]
  },
  {
   "cell_type": "markdown",
   "metadata": {},
   "source": [
    "On utilise la méthode spéciale `__len__`."
   ]
  },
  {
   "cell_type": "code",
   "execution_count": 19,
   "metadata": {},
   "outputs": [],
   "source": [
    "class DNA:\n",
    "    \n",
    "    __COMPLEMENT = { 'A': 'T', 'T': 'A', 'C': 'G', 'G': 'C' }\n",
    "    \n",
    "    def __init__(self, seq):\n",
    "        \"\"\"\n",
    "        Parameters:\n",
    "        seq : String\n",
    "            seq is a string made of letters 'A', 'C', 'G', 'T'\n",
    "        \"\"\"\n",
    "        self.__seq = seq\n",
    "    \n",
    "    def gc_rate(self):\n",
    "        n = 0\n",
    "        for nuc in self.__seq:\n",
    "            if nuc in ['C','G']:\n",
    "                n += 1\n",
    "        return n / len(self.__seq)\n",
    "    \n",
    "    def revcomp(self):\n",
    "        seqrevcomp = \"\"\n",
    "        for nuc in self.__seq:\n",
    "            seqrevcomp += self.__complement(nuc)\n",
    "        return DNA(seqrevcomp[::-1])\n",
    "    \n",
    "    def __complement(self,nuc):\n",
    "        return self.__COMPLEMENT[nuc]\n",
    "    \n",
    "    def __str__(self):\n",
    "        # attend qu'on retourne une chaîne de caractères\n",
    "        return self.__seq\n",
    "    \n",
    "    # vient remplacer length()\n",
    "    def __len__(self):\n",
    "        return len(self.__seq)"
   ]
  },
  {
   "cell_type": "code",
   "execution_count": 20,
   "metadata": {},
   "outputs": [
    {
     "data": {
      "text/plain": [
       "9"
      ]
     },
     "execution_count": 20,
     "metadata": {},
     "output_type": "execute_result"
    }
   ],
   "source": [
    "s = \"ATCGACTGC\"\n",
    "seq = DNA(s)\n",
    "len(seq)"
   ]
  },
  {
   "cell_type": "markdown",
   "metadata": {},
   "source": [
    "Bien souvent `repr` et `str` retournent la même chose. On s'attend à ce qu'on puisse faire des choses avec la chaîne de caractères retournée par `str` (par exemple l'inclure dans des affichages formatés) alors que pas nécessairement pour `repr`."
   ]
  },
  {
   "cell_type": "markdown",
   "metadata": {},
   "source": [
    "Remarquez qu'ici ma programmation n'est pas très efficace : ma séquence d'ADN ne change jamais et pourtant à chaque fois que je demande le taux de GC je le recalcule. J'aurais pu sauvegarder sa valeur dans un attribut, mais dans ce cas il faut faire attention si jamais on ajoute une méthode qui modifie la séquence."
   ]
  },
  {
   "cell_type": "markdown",
   "metadata": {},
   "source": [
    "## Exercices"
   ]
  },
  {
   "cell_type": "markdown",
   "metadata": {},
   "source": [
    "### Modélisation des protéines\n",
    "\n",
    "Ecrire une classe `Protein` dans un fichier `protein.py` qui permette de modéliser des protéines et des méthodes permettant de :\n",
    "- créer une protéine à partir d'une chaîne de caractères (c'est donc le constructeur)\n",
    "- obtenir sa longueur, une représentation sous forme de chaîne de caractères\n",
    "- une méthode `count` permettant d'obtenir le nombre d'occurrences d'un acide aminé passé en paramètre"
   ]
  },
  {
   "cell_type": "markdown",
   "metadata": {},
   "source": [
    "#### Utiliser la classe `Protein`\n",
    "\n",
    "On va maintenant utiliser la classe `Protein` dans un script Python, i.e. un programme principal, avec un main.\n",
    "\n",
    "Pour pouvoir le faire il va falloir *importer* la classe `Protein`, en Python on dit aussi importer un module. Cela se fait grâce à l'instruction \n",
    "```\n",
    "from protein import Protein\n",
    "```\n",
    "en début du script qui indique qu'on souhaite disposer le classe `Protein`qui est stockée dans le fichier `protein.py`.\n",
    "\n",
    "\n",
    "Puis reprendre la fonction de calcul des fréquences d'acides aminés qui produit un dictionnaire mais cette fois qui prendra en paramètre une `Protein`.\n",
    "\n",
    "```python\n",
    "def freq_aa (p):\n",
    "    \"\"\"\n",
    "    Parameters\n",
    "    ----------\n",
    "    p : Protein\n",
    "        a protein sequence\n",
    "        \n",
    "    Returns\n",
    "    -------\n",
    "    dict\n",
    "        frequency of each aa in `p`\n",
    "    \"\"\"\n",
    "```"
   ]
  },
  {
   "cell_type": "markdown",
   "metadata": {},
   "source": [
    "### Modélisation des annotations d'un fichier GenBank\n",
    "\n",
    "Grâce au travail que vous avez réalisé sur la lecture d'un fichier GenBank, proposer une modélisation des annotations (*features*) d'une séquence (on stockera uniquement le type d'annotation, ses coordonnées, son strand).\n",
    "\n",
    "- Proposez des méthodes qu'on aimerait fournir à l'utilisateur d'une telle classe\n",
    "- Proposez les attributs qui permettent de stocker les informations nécessaires\n",
    "- Ecrire la documention de chacune des méthodes\n",
    "- Ecrire le code de chacune des méthodes"
   ]
  },
  {
   "cell_type": "markdown",
   "metadata": {},
   "source": [
    "### Modélisation d'une fabrique d'ADN\n",
    "\n",
    "On souhaite avoir une classe `DNAFactory` qui permette par ses méthodes de créer des séquences d'ADN :\n",
    "- la méthode `readFasta` retourne un objet DNA représentant la séquence contenu dans le fichier passé en paramètre,\n",
    "- la méthode `random` retourne un objet DNA représentant une séquence aléatoire dont la longueur est passée en paramètre,\n",
    "\n",
    "Voici un exemple d'utilisation :\n",
    "```python\n",
    "f = DNAFactory()\n",
    "# lit la sequence dans le fichier et retourne\n",
    "f.readFasta('NC_000059.fasta')\n",
    "# crée une séquence aléatoire de 1000 bases\n",
    "f.random(1000)\n",
    "```\n",
    "\n",
    "Utiliser cette fabrique, et la classe `DNA`, pour écrire un script `DNAinfo.py` qui permet d'afficher dans le terminal le taux de GC et la longueur d'une séquence d'ADN contenu dans un fichier FASTA dont le nom est passé en argument de la ligne de commande.\n",
    "\n",
    "```shell\n",
    "$ python3 DNAinfo.py NC_000059.fasta\n",
    "11954 36.18\n",
    "```\n",
    "\n",
    "Modifier la méthode `random` pour qu'elle prenne un second paramètre, optionnel, qui précise le taux de GC de la séquence aléatoire."
   ]
  },
  {
   "cell_type": "code",
   "execution_count": null,
   "metadata": {},
   "outputs": [],
   "source": []
  }
 ],
 "metadata": {
  "kernelspec": {
   "display_name": "Python 3 (ipykernel)",
   "language": "python",
   "name": "python3"
  },
  "language_info": {
   "codemirror_mode": {
    "name": "ipython",
    "version": 3
   },
   "file_extension": ".py",
   "mimetype": "text/x-python",
   "name": "python",
   "nbconvert_exporter": "python",
   "pygments_lexer": "ipython3",
   "version": "3.8.10"
  }
 },
 "nbformat": 4,
 "nbformat_minor": 4
}
