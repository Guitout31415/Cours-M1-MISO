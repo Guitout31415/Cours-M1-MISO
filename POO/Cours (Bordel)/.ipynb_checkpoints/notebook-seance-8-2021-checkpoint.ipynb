{
 "cells": [
  {
   "cell_type": "markdown",
   "metadata": {},
   "source": [
    "# Notebook séance 8\n",
    "\n",
    "Les [dictionnaires](https://python.sdv.univ-paris-diderot.fr/13_dictionnaires_tuples_sets/) en Python.\n"
   ]
  },
  {
   "cell_type": "markdown",
   "metadata": {},
   "source": [
    "Jusqu'alors nous avons utilisé des listes pour stocker des valeurs, on aussi évoqué les tuples. Il existe d'autres **structures de données** permettant de stocker des valeurs (plus largement des données).\n",
    "\n",
    "Vous entendrez plus tard parler d'arbres ou de graphes ou de piles ou encore de files ou de tables de hachage, qui sont d'autres structures de données.\n",
    "\n",
    "Aujourd'hui on s'intéresse aux **dictionnaires**.\n",
    "\n",
    "Les dictionnaires sont une structure de données qui permet d'associer une donnée à une autre. Plus précisément une *clé* à une *valeur*.\n",
    "\n",
    "Par exemple, associer un nom à un numéro de téléphone pour modéliser un annuaire."
   ]
  },
  {
   "cell_type": "markdown",
   "metadata": {},
   "source": [
    "Pour reprendre l'exemple du cours modélisant des animaux, on pourra vouloir modéliser un animal par son espèce, le poids moyen observé, la taille moyenne observée.\n",
    "\n",
    "Au lieu de faire une liste `['girafe', 5.0, 1100]` qui, en plus de mixer les types dans une même liste, qu'il faut éviter, a le désavantage de ne pas savoir à quoi correspond chaque valeur. Que veut dire 1100 ?\n",
    "\n",
    "Avec un dictionnaire, on pourra procéder ainsi :"
   ]
  },
  {
   "cell_type": "code",
   "execution_count": 1,
   "metadata": {},
   "outputs": [],
   "source": [
    "animal = {'nom': 'girafe', 'taille': 5.0, 'poids': 1100}"
   ]
  },
  {
   "cell_type": "markdown",
   "metadata": {},
   "source": [
    "On remarquera les accolades pour la définition d'un dictionnaire, les associations clé / valeur réalisées avec le `:`. "
   ]
  },
  {
   "cell_type": "code",
   "execution_count": 2,
   "metadata": {},
   "outputs": [
    {
     "data": {
      "text/plain": [
       "'girafe'"
      ]
     },
     "execution_count": 2,
     "metadata": {},
     "output_type": "execute_result"
    }
   ],
   "source": [
    "animal['nom']"
   ]
  },
  {
   "cell_type": "code",
   "execution_count": 3,
   "metadata": {},
   "outputs": [
    {
     "data": {
      "text/plain": [
       "5.0"
      ]
     },
     "execution_count": 3,
     "metadata": {},
     "output_type": "execute_result"
    }
   ],
   "source": [
    "animal['taille']"
   ]
  },
  {
   "cell_type": "code",
   "execution_count": 4,
   "metadata": {},
   "outputs": [
    {
     "data": {
      "text/plain": [
       "1100"
      ]
     },
     "execution_count": 4,
     "metadata": {},
     "output_type": "execute_result"
    }
   ],
   "source": [
    "animal['poids']"
   ]
  },
  {
   "cell_type": "markdown",
   "metadata": {},
   "source": [
    "Pour définir un autre animal, on gardera les mêmes noms pour les clés."
   ]
  },
  {
   "cell_type": "code",
   "execution_count": 5,
   "metadata": {},
   "outputs": [],
   "source": [
    "autre = {'nom': 'singe', 'poids': 70, 'taille': 1.75}"
   ]
  },
  {
   "cell_type": "markdown",
   "metadata": {},
   "source": [
    "On peut construire une liste des mes animaux :"
   ]
  },
  {
   "cell_type": "code",
   "execution_count": 6,
   "metadata": {},
   "outputs": [],
   "source": [
    "zoo = [ animal, autre ]"
   ]
  },
  {
   "cell_type": "markdown",
   "metadata": {},
   "source": [
    "Et on pourra alors faire un affichage des animaux de mon zoo :"
   ]
  },
  {
   "cell_type": "code",
   "execution_count": 7,
   "metadata": {},
   "outputs": [
    {
     "name": "stdout",
     "output_type": "stream",
     "text": [
      "Les animaux de mon zoo :\n",
      "  - girafe (poids moyen : 1100, taille moyenne : 5.0)\n",
      "  - singe (poids moyen : 70, taille moyenne : 1.75)\n"
     ]
    }
   ],
   "source": [
    "print(\"Les animaux de mon zoo :\")\n",
    "for animal in zoo:\n",
    "    print(\"  - {} (poids moyen : {}, taille moyenne : {})\".format(animal['nom'],animal['poids'],animal['taille']))"
   ]
  },
  {
   "cell_type": "markdown",
   "metadata": {},
   "source": [
    "On peut aussi lister les éléments d'un dictionnaire sans connaître le nom des clés :"
   ]
  },
  {
   "cell_type": "code",
   "execution_count": 8,
   "metadata": {},
   "outputs": [
    {
     "name": "stdout",
     "output_type": "stream",
     "text": [
      "nom : singe\n",
      "poids : 70\n",
      "taille : 1.75\n"
     ]
    }
   ],
   "source": [
    "for cle in animal:\n",
    "    print(\"{} : {}\".format(cle,animal[cle]))"
   ]
  },
  {
   "cell_type": "code",
   "execution_count": 9,
   "metadata": {},
   "outputs": [
    {
     "name": "stdout",
     "output_type": "stream",
     "text": [
      "{'nom': 'singe', 'poids': 70, 'taille': 1.75}\n"
     ]
    }
   ],
   "source": [
    "print(animal)"
   ]
  },
  {
   "cell_type": "markdown",
   "metadata": {},
   "source": [
    "D'autres méthodes sont aussi disponibles :"
   ]
  },
  {
   "cell_type": "code",
   "execution_count": 10,
   "metadata": {},
   "outputs": [
    {
     "data": {
      "text/plain": [
       "dict_keys(['nom', 'poids', 'taille'])"
      ]
     },
     "execution_count": 10,
     "metadata": {},
     "output_type": "execute_result"
    }
   ],
   "source": [
    "animal.keys()"
   ]
  },
  {
   "cell_type": "code",
   "execution_count": 11,
   "metadata": {},
   "outputs": [
    {
     "data": {
      "text/plain": [
       "dict_values(['singe', 70, 1.75])"
      ]
     },
     "execution_count": 11,
     "metadata": {},
     "output_type": "execute_result"
    }
   ],
   "source": [
    "animal.values()"
   ]
  },
  {
   "cell_type": "code",
   "execution_count": 12,
   "metadata": {},
   "outputs": [
    {
     "data": {
      "text/plain": [
       "dict_items([('nom', 'singe'), ('poids', 70), ('taille', 1.75)])"
      ]
     },
     "execution_count": 12,
     "metadata": {},
     "output_type": "execute_result"
    }
   ],
   "source": [
    "animal.items()"
   ]
  },
  {
   "cell_type": "code",
   "execution_count": 13,
   "metadata": {},
   "outputs": [
    {
     "name": "stdout",
     "output_type": "stream",
     "text": [
      "nom : singe\n",
      "poids : 70\n",
      "taille : 1.75\n"
     ]
    }
   ],
   "source": [
    "for cle,valeur in animal.items():\n",
    "    print(\"{} : {}\".format(cle,valeur))"
   ]
  },
  {
   "cell_type": "markdown",
   "metadata": {},
   "source": [
    "## Retour sur les fréquences d'acides aminés des protéines "
   ]
  },
  {
   "cell_type": "code",
   "execution_count": 14,
   "metadata": {},
   "outputs": [],
   "source": [
    "AA_ALPHABET = ['A', 'R', 'N', 'D', 'C', 'Q', 'E', 'G', 'H', 'I', 'L', 'K', 'M', 'F', 'P', 'S', 'T', 'W', 'Y', 'V', 'X', 'Z', 'J', 'U']"
   ]
  },
  {
   "cell_type": "code",
   "execution_count": 15,
   "metadata": {},
   "outputs": [],
   "source": [
    "def number_of_aa(aa, protein):\n",
    "    cpt = 0\n",
    "    for a in protein:\n",
    "        if a == aa:\n",
    "            cpt += 1\n",
    "    return cpt"
   ]
  },
  {
   "cell_type": "code",
   "execution_count": 16,
   "metadata": {},
   "outputs": [],
   "source": [
    "def aa_frequency(protein):\n",
    "    \"\"\"\n",
    "    Returns\n",
    "    -------\n",
    "    dict\n",
    "        Un dictionnaire qui associe à chaque acide aminé sa fréquence dans la protéine donnée en paramètre.\n",
    "    \"\"\"\n",
    "    freq = {}\n",
    "    l = len(protein)\n",
    "    for aa in AA_ALPHABET:\n",
    "        freq[aa] = number_of_aa(aa,protein) / l\n",
    "    return freq"
   ]
  },
  {
   "cell_type": "code",
   "execution_count": 17,
   "metadata": {},
   "outputs": [
    {
     "data": {
      "text/plain": [
       "{'A': 0.037037037037037035,\n",
       " 'R': 0.1111111111111111,\n",
       " 'N': 0.018518518518518517,\n",
       " 'D': 0.09259259259259259,\n",
       " 'C': 0.0,\n",
       " 'Q': 0.018518518518518517,\n",
       " 'E': 0.09259259259259259,\n",
       " 'G': 0.09259259259259259,\n",
       " 'H': 0.018518518518518517,\n",
       " 'I': 0.018518518518518517,\n",
       " 'L': 0.2037037037037037,\n",
       " 'K': 0.018518518518518517,\n",
       " 'M': 0.0,\n",
       " 'F': 0.018518518518518517,\n",
       " 'P': 0.07407407407407407,\n",
       " 'S': 0.05555555555555555,\n",
       " 'T': 0.037037037037037035,\n",
       " 'W': 0.018518518518518517,\n",
       " 'Y': 0.018518518518518517,\n",
       " 'V': 0.05555555555555555,\n",
       " 'X': 0.0,\n",
       " 'Z': 0.0,\n",
       " 'J': 0.0,\n",
       " 'U': 0.0}"
      ]
     },
     "execution_count": 17,
     "metadata": {},
     "output_type": "execute_result"
    }
   ],
   "source": [
    "p = 'NFEYLEIRRLETHPDPTRSLLDDWQGRPGASVGRLLELLAKLGRDDVLVELGPS'\n",
    "aa_frequency(p)"
   ]
  },
  {
   "cell_type": "code",
   "execution_count": 18,
   "metadata": {},
   "outputs": [],
   "source": [
    "import numpy as np\n",
    "\n",
    "def most_frequent_aa (protein):\n",
    "    m_f_aa = None\n",
    "    f = -np.inf\n",
    "    for aa, freq in aa_frequency(protein).items():\n",
    "        if freq >= f:\n",
    "            f = freq\n",
    "            m_f_aa = aa\n",
    "    return m_f_aa"
   ]
  },
  {
   "cell_type": "code",
   "execution_count": 19,
   "metadata": {},
   "outputs": [
    {
     "name": "stdout",
     "output_type": "stream",
     "text": [
      "L\n"
     ]
    }
   ],
   "source": [
    "p = 'NFEYLEIRRLETHPDPTRSLLDDWQGRPGASVGRLLELLAKLGRDDVLVELGPS'\n",
    "print(most_frequent_aa(p))"
   ]
  },
  {
   "cell_type": "markdown",
   "metadata": {},
   "source": [
    "## Exercices"
   ]
  },
  {
   "cell_type": "markdown",
   "metadata": {},
   "source": [
    "### Mots de 2 et 3 lettres dans une séquence d'ADN\n",
    "\n",
    "[Enoncé dans le cours](https://python.sdv.univ-paris-diderot.fr/13_dictionnaires_tuples_sets/#1362-mots-de-2-et-3-lettres-dans-une-sequence-dadn)"
   ]
  },
  {
   "cell_type": "code",
   "execution_count": 20,
   "metadata": {},
   "outputs": [],
   "source": [
    "def compte_mots_2_lettres(seq):\n",
    "    \"\"\"\n",
    "    Renvoie tous les mots de 2 lettres qui existent dans la séquence \n",
    "    sous la forme d'un dictionnaire.\n",
    "    \"\"\"\n",
    "    all_mots = dict()\n",
    "    for i in range(len(seq)-1):\n",
    "        mot = seq[i:i+2]\n",
    "        if mot not in all_mots:\n",
    "            all_mots[mot] = 1\n",
    "        else:\n",
    "            all_mots[mot] += 1\n",
    "    return all_mots\n",
    "\n",
    "def compte_mots_3_lettres(seq):\n",
    "    \"\"\"\n",
    "    Renvoie tous les mots de 3 lettres qui existent dans la séquence \n",
    "    sous la forme d'un dictionnaire.\n",
    "    \"\"\"\n",
    "    all_mots = dict()\n",
    "    for i in range(len(seq)-2):\n",
    "        mot = seq[i:i+3]\n",
    "        if mot not in all_mots:\n",
    "            all_mots[mot] = 1\n",
    "        else:\n",
    "            all_mots[mot] += 1\n",
    "    return all_mots"
   ]
  },
  {
   "cell_type": "code",
   "execution_count": 21,
   "metadata": {},
   "outputs": [
    {
     "data": {
      "text/plain": [
       "{'AB': 2, 'BC': 1, 'CD': 1, 'DE': 1, 'EF': 1, 'FG': 1, 'GA': 1}"
      ]
     },
     "execution_count": 21,
     "metadata": {},
     "output_type": "execute_result"
    }
   ],
   "source": [
    "compte_mots_2_lettres('ABCDEFGAB')"
   ]
  },
  {
   "cell_type": "code",
   "execution_count": 22,
   "metadata": {},
   "outputs": [
    {
     "data": {
      "text/plain": [
       "{'ABC': 2, 'BCD': 1, 'CDE': 1, 'DEF': 1, 'EFG': 1, 'FGA': 1, 'GAB': 1}"
      ]
     },
     "execution_count": 22,
     "metadata": {},
     "output_type": "execute_result"
    }
   ],
   "source": [
    "compte_mots_3_lettres('ABCDEFGABC')"
   ]
  },
  {
   "cell_type": "markdown",
   "metadata": {},
   "source": [
    "### Mots de 2 et 3 lettres dans un fichier FASTA\n",
    "\n",
    "Combinez la fonction de l'exercice précédent avec celle de lecture d'un fichier au format FASTA pour écrire un script permettant d'afficher la fréquence des mots de 3 lettres dans une séquence contenue dans un fichier FASTA passé en argument sur la ligne de commande. Le script affichera également à la fin le nombre de mots de 3 lettres présents."
   ]
  },
  {
   "cell_type": "code",
   "execution_count": 23,
   "metadata": {},
   "outputs": [],
   "source": [
    "def lire_fasta(file):\n",
    "    assert '.fasta' in file, \"fichier fasta stp !\"\n",
    "    with open(file,'r') as fileIn:\n",
    "        return ''.join(fileIn.read().split('\\n')[1:])"
   ]
  },
  {
   "cell_type": "code",
   "execution_count": 24,
   "metadata": {},
   "outputs": [
    {
     "data": {
      "text/plain": [
       "{'ACC': 1,\n",
       " 'CCT': 2,\n",
       " 'CTA': 5,\n",
       " 'TAG': 7,\n",
       " 'AGC': 5,\n",
       " 'GCC': 2,\n",
       " 'CCA': 1,\n",
       " 'CAT': 1,\n",
       " 'ATG': 1,\n",
       " 'TGT': 1,\n",
       " 'GTA': 1,\n",
       " 'AGA': 1,\n",
       " 'GAA': 1,\n",
       " 'AAT': 1,\n",
       " 'ATC': 1,\n",
       " 'TCG': 1,\n",
       " 'CGC': 1,\n",
       " 'AGG': 1,\n",
       " 'GGC': 1,\n",
       " 'GCT': 5,\n",
       " 'CTT': 1,\n",
       " 'TTT': 1,\n",
       " 'TTA': 1,\n",
       " 'CTC': 1,\n",
       " 'TCT': 1,\n",
       " 'CTG': 1}"
      ]
     },
     "execution_count": 24,
     "metadata": {},
     "output_type": "execute_result"
    }
   ],
   "source": [
    "compte_mots_3_lettres(lire_fasta('trucc.fasta'))"
   ]
  },
  {
   "cell_type": "markdown",
   "metadata": {},
   "source": [
    "### $k$-mer\n",
    "\n",
    "Ce qu'on a calculé ci-dessus c'est la fréquence des 3-mers. On appelle $k$-mer un mot de $k$ lettres dans une séquence.\n",
    "$k$ étant fixé, combien existe-t-il de $k$-mers possibles ? Combien peut-on au maximum en trouver dans une séquence de longueur $l$ ?\n",
    "\n",
    "Modifiez le script écrit avant pour qu'il prenne en argument la taille $k$ de la fréquence des mots recherchés. \n",
    "\n",
    "Utilisez ce script pour trouver la valeur de $k$ la plus petite telle que le nombre de $k$-mers dans la séquence NM_000059 est inférieur au nombre possible de $k$-mers."
   ]
  },
  {
   "cell_type": "markdown",
   "metadata": {},
   "source": [
    "Pour une séquence de longueur $l$ et $k$ fixé, il existe $4^k$ $k$-mer possibles, avec un maximum de $l-(k-1)$ $k$-mer trouvables"
   ]
  },
  {
   "cell_type": "code",
   "execution_count": 25,
   "metadata": {},
   "outputs": [],
   "source": [
    "def compte_mots_k_lettres(file,k):\n",
    "    \"\"\"\n",
    "    Renvoie tous les mots de k lettres qui existent dans la séquence contenue \n",
    "    dans le fichier filesous la forme d'un dictionnaire.\n",
    "    \"\"\"\n",
    "    seq = lire_fasta(file)\n",
    "    assert type(k) == int and 1 <= k <= len(seq), 'attention à k'\n",
    "    all_mots = dict()\n",
    "    for i in range(len(seq)-(k-1)):\n",
    "        mot = seq[i:i+k]\n",
    "        if mot not in all_mots:\n",
    "            all_mots[mot] = 1\n",
    "        else:\n",
    "            all_mots[mot] += 1\n",
    "    return all_mots"
   ]
  },
  {
   "cell_type": "code",
   "execution_count": 26,
   "metadata": {},
   "outputs": [
    {
     "data": {
      "text/plain": [
       "{'ACC': 1,\n",
       " 'CCT': 2,\n",
       " 'CTA': 5,\n",
       " 'TAG': 7,\n",
       " 'AGC': 5,\n",
       " 'GCC': 2,\n",
       " 'CCA': 1,\n",
       " 'CAT': 1,\n",
       " 'ATG': 1,\n",
       " 'TGT': 1,\n",
       " 'GTA': 1,\n",
       " 'AGA': 1,\n",
       " 'GAA': 1,\n",
       " 'AAT': 1,\n",
       " 'ATC': 1,\n",
       " 'TCG': 1,\n",
       " 'CGC': 1,\n",
       " 'AGG': 1,\n",
       " 'GGC': 1,\n",
       " 'GCT': 5,\n",
       " 'CTT': 1,\n",
       " 'TTT': 1,\n",
       " 'TTA': 1,\n",
       " 'CTC': 1,\n",
       " 'TCT': 1,\n",
       " 'CTG': 1}"
      ]
     },
     "execution_count": 26,
     "metadata": {},
     "output_type": "execute_result"
    }
   ],
   "source": [
    "compte_mots_k_lettres('trucc.fasta',3)"
   ]
  },
  {
   "cell_type": "code",
   "execution_count": 27,
   "metadata": {},
   "outputs": [
    {
     "data": {
      "text/plain": [
       "5"
      ]
     },
     "execution_count": 27,
     "metadata": {},
     "output_type": "execute_result"
    }
   ],
   "source": [
    "k = 2\n",
    "while len(compte_mots_k_lettres('NM_000059.fasta',k)) == 4**k:\n",
    "    k += 1\n",
    "k"
   ]
  },
  {
   "cell_type": "code",
   "execution_count": 28,
   "metadata": {},
   "outputs": [
    {
     "data": {
      "text/plain": [
       "1"
      ]
     },
     "execution_count": 28,
     "metadata": {},
     "output_type": "execute_result"
    }
   ],
   "source": [
    "d={\"a\":1}\n",
    "len(d.keys())\n",
    "len(d)"
   ]
  },
  {
   "cell_type": "markdown",
   "metadata": {},
   "source": [
    "### Extraire les coordonnées des gènes à partir d'un fichier Genbank\n",
    "\n",
    "Dans une séquence stockée au format GenBank, les gènes sont donnés par les lignes du type :\n",
    "```txt\n",
    "     gene            266..21555\n",
    "```\n",
    "débutant par le mot-clé `gene` et suivi par un couple de positions, séparé par `..`.\n",
    "\n",
    "#### Q1.\n",
    "\n",
    "Ecrire une fonction `genbank2gene` qui étant donné un fichier au format GenBank retourne la liste de couples de positions de l'ensemble des gènes. \n",
    "Typiquement :\n",
    "```cython\n",
    ">>> genbank2gene(\"sars-cov-2.gb\")\n",
    "[ (266, 21555), (21563, 25384), (25393, 26220), (26245, 26472), (26523, 27191), (27202, 27387), (27394, 27759), (27756, 27887), (27894, 28259), (28274, 29533), (29558, 29674) ]\n",
    "```\n",
    "Il pourrait être utile de se créer une fonction qui étant donné une ligne (une chaîne de caractères) de type `gene` d'un fichier GenBank et retrurne le couple de positions.\n",
    "```cython\n",
    ">>> get_positions(\"     gene            266..21555\")\n",
    "(266, 21555)\n",
    "```\n",
    "\n",
    "On pourra tester sur le gène [BRCA2](https://www.ncbi.nlm.nih.gov/nuccore/NM_000059.3) qui ne contient bien sûr qu'un seul gène puis sur le génome du [SARS-CoV-2](https://www.ncbi.nlm.nih.gov/nuccore/NC_045512.2) "
   ]
  },
  {
   "cell_type": "code",
   "execution_count": 29,
   "metadata": {},
   "outputs": [],
   "source": [
    "def get_positions(s):\n",
    "    if ' gene ' not in s:\n",
    "        return False\n",
    "    else:\n",
    "        split = s.split(' ')\n",
    "        while '' in split:\n",
    "            split.remove('')\n",
    "        split2 = split[-1].split('..')\n",
    "        return (int(split2[0]),int(split2[1]))\n",
    "\n",
    "def genbank2gene(file):\n",
    "    assert '.gb' in file, \"format GenBank !\"\n",
    "    with open(file, 'r') as fileIn:\n",
    "        l = fileIn.read().split('\\n')\n",
    "    res = []\n",
    "    for s in l:\n",
    "        posi = get_positions(s)\n",
    "        if posi != False:\n",
    "            res.append((posi[0],posi[1]))\n",
    "    return res\n",
    "        "
   ]
  },
  {
   "cell_type": "code",
   "execution_count": 30,
   "metadata": {},
   "outputs": [
    {
     "name": "stdout",
     "output_type": "stream",
     "text": [
      "[(266, 21555), (21563, 25384), (25393, 26220), (26245, 26472), (26523, 27191), (27202, 27387), (27394, 27759), (27756, 27887), (27894, 28259), (28274, 29533), (29558, 29674)]\n"
     ]
    }
   ],
   "source": [
    "print(genbank2gene(\"sars-cov-2.gb\"))"
   ]
  },
  {
   "cell_type": "markdown",
   "metadata": {},
   "source": [
    "#### Q2. \n",
    "\n",
    "On remarque que sous la *feature* `gene` on trouve une annotation donnant le nom du gène :\n",
    "```\n",
    "     gene            266..21555\n",
    "                     /gene=\"ORF1ab\"\n",
    "```\n",
    "\n",
    "Modifiez votre fonction pour qu'elle retourne un dictionnaire qui associe à chaque nom de gène ses positions sur la séquence (on supposera qu'il n'y a pas deux gènes de même nom dans une séquence). \n",
    "Typiquement :\n",
    "```cython\n",
    ">>> genbank2gene(\"sars-cov-2.gb\")\n",
    "{ 'ORF1ab': (190,255), 'S': (21563, 25384), ... }\n",
    "```\n",
    "Là aussi créer une fonction utilitaire qui transforme une chaîne de caractères de type `/gene` pourrait s'avérer utile."
   ]
  },
  {
   "cell_type": "code",
   "execution_count": 51,
   "metadata": {},
   "outputs": [],
   "source": [
    "def get_name(s):\n",
    "    if ' /gene=' not in s:\n",
    "        return False\n",
    "    else:\n",
    "        split = s.split('=')\n",
    "        return split[1][1:-1]\n",
    "    \n",
    "def genbank2gene(file):\n",
    "    assert '.gb' in file, \"format GenBank !\"\n",
    "    with open(file, 'r') as fileIn:\n",
    "        l = fileIn.read().split('\\n')\n",
    "    res = dict()\n",
    "    for i in range(len(l)-1):\n",
    "        posi = get_positions(l[i])\n",
    "        name = get_name(l[i+1])\n",
    "        if posi != False:\n",
    "            res[name]=(posi[0],posi[1])\n",
    "    return res"
   ]
  },
  {
   "cell_type": "code",
   "execution_count": 52,
   "metadata": {},
   "outputs": [
    {
     "name": "stdout",
     "output_type": "stream",
     "text": [
      "['266', '21555']\n",
      "['21563', '25384']\n",
      "['25393', '26220']\n",
      "['26245', '26472']\n",
      "['26523', '27191']\n",
      "['27202', '27387']\n",
      "['27394', '27759']\n",
      "['27756', '27887']\n",
      "['27894', '28259']\n",
      "['28274', '29533']\n",
      "['29558', '29674']\n"
     ]
    },
    {
     "data": {
      "text/plain": [
       "{'ORF1ab': (266, 21555),\n",
       " 'S': (21563, 25384),\n",
       " 'ORF3a': (25393, 26220),\n",
       " 'E': (26245, 26472),\n",
       " 'M': (26523, 27191),\n",
       " 'ORF6': (27202, 27387),\n",
       " 'ORF7a': (27394, 27759),\n",
       " 'ORF7b': (27756, 27887),\n",
       " 'ORF8': (27894, 28259),\n",
       " 'N': (28274, 29533),\n",
       " 'ORF10': (29558, 29674)}"
      ]
     },
     "execution_count": 52,
     "metadata": {},
     "output_type": "execute_result"
    }
   ],
   "source": [
    "genbank2gene(\"sars-cov-2.gb\")"
   ]
  },
  {
   "cell_type": "markdown",
   "metadata": {},
   "source": [
    "#### Q3. \n",
    "\n",
    "En fait l'annotation `gene` est un peu plus complexe. Un gène peut être positionné sur le brin négatif. Dans ce cas l'annotation a cette forme :\n",
    "```\n",
    "     gene            complement(3575721..3577061)\n",
    "```\n",
    "et parfois un gène peut être découpé en exons :\n",
    "```\n",
    "     gene            join(3583038..3583427,3584205..3584309)\n",
    "```\n",
    "\n",
    "Modifiez votre fonction pour qu'elle prenne en compte les gènes sur le brin négatif. Le couple déterminant les positions d'une gène dans le dictionnaire sera alors constitué des deux positions dans l'ordre inverse (la plus grande avant la plus petite, afin de se souvenir qu'on est sur le brin négatif).\n",
    "\n",
    "Par exemple pour\n",
    "```\n",
    "     gene            complement(3575721..3577061)\n",
    "```\n",
    "on obtiendra le couple\n",
    "```\n",
    "(3577061, 3575721)\n",
    "```\n",
    "\n",
    "Testez sur le génome complet d'[E.Coli](https://www.ncbi.nlm.nih.gov/nuccore/NC_000913.3)"
   ]
  },
  {
   "cell_type": "code",
   "execution_count": 59,
   "metadata": {},
   "outputs": [],
   "source": [
    "def get_positions(s):\n",
    "    if ' gene ' not in s:\n",
    "        return False\n",
    "    else:    \n",
    "        split = s.split(' ')\n",
    "        while '' in split:\n",
    "            split.remove('')\n",
    "        split2 = split[-1].split('..')\n",
    "        print(type(split2))\n",
    "        i = 0\n",
    "        for j in split2:\n",
    "            if 'complement(' in j:\n",
    "                split2[i][0] = split2[i][0][12:]\n",
    "            i += 1\n",
    "        print(split2)\n",
    "        if ' complement(' in s:\n",
    "            return (int(split2[1][:-1]),int(split2[0][11:]))\n",
    "        elif ' join(' in s:\n",
    "            return [(int(split2[z][0]),int(split2[z][1])) for z in range(len(split2))]\n",
    "        else:\n",
    "            return (int(split2[0]),int(split2[1]))\n",
    "\n",
    "def genbank2gene(file):\n",
    "    assert '.gb' in file, \"format GenBank !\"\n",
    "    with open(file, 'r') as fileIn:\n",
    "        l = fileIn.read().split('\\n')\n",
    "    res = dict()\n",
    "    for i in range(len(l)-1):\n",
    "        posi = get_positions(l[i])\n",
    "        name = get_name(l[i+1])\n",
    "        if posi != False:\n",
    "            res[name]=(posi[0],posi[1])\n",
    "    return res\n",
    "\n"
   ]
  },
  {
   "cell_type": "code",
   "execution_count": 60,
   "metadata": {},
   "outputs": [
    {
     "name": "stdout",
     "output_type": "stream",
     "text": [
      "<class 'list'>\n",
      "['190', '255']\n",
      "<class 'list'>\n",
      "['337', '2799']\n",
      "<class 'list'>\n",
      "['2801', '3733']\n",
      "<class 'list'>\n",
      "['3734', '5020']\n",
      "<class 'list'>\n",
      "['5234', '5530']\n",
      "<class 'list'>\n",
      "['complement(5683', '6459)']\n",
      "<class 'list'>\n",
      "['complement(6529', '7959)']\n",
      "<class 'list'>\n",
      "['8238', '9191']\n",
      "<class 'list'>\n",
      "['9306', '9893']\n",
      "<class 'list'>\n",
      "['complement(9928', '10494)']\n",
      "<class 'list'>\n",
      "['complement(10643', '11356)']\n",
      "<class 'list'>\n",
      "['10830', '11315']\n",
      "<class 'list'>\n",
      "['complement(11382', '11786)']\n",
      "<class 'list'>\n",
      "['12163', '14079']\n",
      "<class 'list'>\n",
      "['14168', '15298']\n",
      "<class 'list'>\n",
      "['15445', '16557']\n",
      "<class 'list'>\n",
      "['complement(16751', '16960)']\n",
      "<class 'list'>\n",
      "['complement(16751', '16903)']\n",
      "<class 'list'>\n",
      "['16952', '17006']\n",
      "<class 'list'>\n",
      "['17489', '18655']\n",
      "<class 'list'>\n",
      "['18715', '19620']\n",
      "<class 'list'>\n",
      "['complement(19811', '20314)']\n",
      "<class 'list'>\n",
      "['complement(20233', '20508)']\n",
      "<class 'list'>\n",
      "['complement(20815', '21078)']\n",
      "<class 'list'>\n",
      "['21181', '21399']\n",
      "<class 'list'>\n",
      "['21407', '22348']\n",
      "<class 'list'>\n",
      "['22391', '25207']\n",
      "<class 'list'>\n",
      "['25207', '25701']\n",
      "<class 'list'>\n",
      "['25826', '26275']\n",
      "<class 'list'>\n",
      "['26277', '27227']\n",
      "<class 'list'>\n",
      "['27293', '28207']\n",
      "<class 'list'>\n",
      "['28374', '29195']\n",
      "<class 'list'>\n",
      "['29651', '30799']\n",
      "<class 'list'>\n",
      "['30817', '34038']\n",
      "<class 'list'>\n",
      "['34300', '34695']\n",
      "<class 'list'>\n",
      "['complement(34781', '35371)']\n",
      "<class 'list'>\n",
      "['complement(35377', '36162)']\n",
      "<class 'list'>\n",
      "['complement(36271', '37824)']\n",
      "<class 'list'>\n",
      "['complement(37898', '39115)']\n",
      "<class 'list'>\n",
      "['complement(39244', '40386)']\n",
      "<class 'list'>\n",
      "['complement(40417', '41931)']\n",
      "<class 'list'>\n",
      "['42403', '43173']\n",
      "<class 'list'>\n",
      "['43188', '44129']\n",
      "<class 'list'>\n",
      "['44180', '45466']\n",
      "<class 'list'>\n",
      "['45463', '45750']\n",
      "<class 'list'>\n",
      "['45807', '47138']\n",
      "<class 'list'>\n",
      "['47246', '47776']\n",
      "<class 'list'>\n",
      "['47769', '49631']\n",
      "<class 'list'>\n",
      "['49823', '50302']\n",
      "<class 'list'>\n",
      "['complement(50380', '51222)']\n",
      "<class 'list'>\n",
      "['complement(51229', '51606)']\n",
      "<class 'list'>\n",
      "['complement(51609', '52430)']\n",
      "<class 'list'>\n",
      "['complement(52427', '53416)']\n",
      "<class 'list'>\n",
      "['complement(53416', '54702)']\n",
      "<class 'list'>\n",
      "['complement(54755', '57109)']\n",
      "<class 'list'>\n",
      "['57364', '58179']\n",
      "<class 'list'>\n",
      "['58474', '59124']\n",
      "<class 'list'>\n",
      "['59121', '59279']\n",
      "<class 'list'>\n",
      "['complement(59687', '60346)']\n",
      "<class 'list'>\n",
      "['complement(60358', '63264)']\n",
      "<class 'list'>\n",
      "['complement(63429', '65780)']\n",
      "<class 'list'>\n",
      "['complement(65855', '66550)']\n",
      "<class 'list'>\n",
      "['complement(66835', '68337)']\n",
      "<class 'list'>\n",
      "['complement(68348', '70048)']\n",
      "<class 'list'>\n",
      "['70387', '71265']\n",
      "<class 'list'>\n",
      "['71351', '72115']\n",
      "<class 'list'>\n",
      "['complement(72229', '72927)']\n",
      "<class 'list'>\n",
      "['complement(72911', '74521)']\n",
      "<class 'list'>\n",
      "['complement(74497', '75480)']\n",
      "<class 'list'>\n",
      "['complement(75516', '75608)']\n",
      "<class 'list'>\n",
      "['complement(75644', '77299)']\n",
      "<class 'list'>\n",
      "['77367', '77593']\n",
      "<class 'list'>\n",
      "['77388', '77519']\n",
      "<class 'list'>\n",
      "['77621', '78799']\n",
      "<class 'list'>\n",
      "['complement(78848', '79453)']\n",
      "<class 'list'>\n",
      "['complement(79464', '80864)']\n",
      "<class 'list'>\n",
      "['complement(80867', '81958)']\n",
      "<class 'list'>\n",
      "['complement(81958', '83529)']\n",
      "<class 'list'>\n",
      "['complement(83622', '83708)']\n",
      "<class 'list'>\n",
      "['84368', '85312']\n",
      "<class 'list'>\n",
      "['complement(85467', '85511)']\n",
      "<class 'list'>\n",
      "['85630', '87354']\n",
      "<class 'list'>\n",
      "['87357', '87848']\n",
      "<class 'list'>\n",
      "['88028', '89032']\n",
      "<class 'list'>\n",
      "['89634', '90092']\n",
      "<class 'list'>\n",
      "['90094', '91035']\n",
      "<class 'list'>\n",
      "['91032', '91397']\n",
      "<class 'list'>\n",
      "['91413', '93179']\n",
      "<class 'list'>\n",
      "['93166', '94653']\n",
      "<class 'list'>\n",
      "['94650', '96008']\n",
      "<class 'list'>\n",
      "['96002', '97084']\n",
      "<class 'list'>\n",
      "['97087', '98403']\n",
      "<class 'list'>\n",
      "['98403', '99647']\n",
      "<class 'list'>\n",
      "['99644', '100711']\n",
      "<class 'list'>\n",
      "['100765', '102240']\n",
      "<class 'list'>\n",
      "['102233', '103153']\n",
      "<class 'list'>\n",
      "['103155', '103985']\n",
      "<class 'list'>\n",
      "['103982', '105244']\n",
      "<class 'list'>\n",
      "['105305', '106456']\n",
      "<class 'list'>\n",
      "['106557', '107474']\n",
      "<class 'list'>\n",
      "['107705', '108217']\n",
      "<class 'list'>\n",
      "['108279', '110984']\n",
      "<class 'list'>\n",
      "['111044', '111433']\n",
      "<class 'list'>\n",
      "['complement(111649', '111846)']\n",
      "<class 'list'>\n",
      "['complement(111856', '112599)']\n",
      "<class 'list'>\n",
      "['complement(112599', '113219)']\n",
      "<class 'list'>\n",
      "['113244', '113288']\n",
      "<class 'list'>\n",
      "['113444', '114487']\n",
      "<class 'list'>\n",
      "['complement(114522', '115724)']\n",
      "<class 'list'>\n",
      "['complement(115714', '117099)']\n",
      "<class 'list'>\n",
      "['complement(117109', '117549)']\n",
      "<class 'list'>\n",
      "['complement(117752', '118645)']\n",
      "<class 'list'>\n",
      "['118733', '119284']\n",
      "<class 'list'>\n",
      "['119281', '120135']\n",
      "<class 'list'>\n",
      "['complement(120178', '121551)']\n",
      "<class 'list'>\n",
      "['122092', '122856']\n",
      "<class 'list'>\n",
      "['123017', '125680']\n",
      "<class 'list'>\n",
      "['125695', '127587']\n",
      "<class 'list'>\n",
      "['127912', '129336']\n",
      "<class 'list'>\n",
      "['complement(129407', '131260)']\n",
      "<class 'list'>\n",
      "['131615', '134212']\n",
      "<class 'list'>\n",
      "['134388', '134750']\n",
      "<class 'list'>\n",
      "['complement(134788', '135582)']\n",
      "<class 'list'>\n",
      "['complement(135598', '136464)']\n",
      "<class 'list'>\n",
      "['complement(136570', '136917)']\n",
      "<class 'list'>\n",
      "['137083', '138633']\n",
      "<class 'list'>\n",
      "['complement(138835', '141225)']\n",
      "<class 'list'>\n",
      "['141431', '141967']\n",
      "<class 'list'>\n",
      "['complement(142008', '142670)']\n",
      "<class 'list'>\n",
      "['142779', '143705']\n",
      "<class 'list'>\n",
      "['143702', '144472']\n",
      "<class 'list'>\n",
      "['144577', '145017']\n",
      "<class 'list'>\n",
      "['145081', '146310']\n",
      "<class 'list'>\n",
      "['complement(146314', '146694)']\n",
      "<class 'list'>\n",
      "['146968', '147870']\n",
      "<class 'list'>\n",
      "['complement(147944', '148795)']\n",
      "<class 'list'>\n",
      "['complement(148807', '149601)']\n",
      "<class 'list'>\n",
      "['complement(149715', '150953)']\n",
      "<class 'list'>\n",
      "['complement(151003', '151599)']\n",
      "<class 'list'>\n",
      "['complement(151626', '152231)']\n",
      "<class 'list'>\n",
      "['complement(152243', '152812)']\n",
      "<class 'list'>\n",
      "['complement(152829', '155426)']\n",
      "<class 'list'>\n",
      "['complement(155461', '156201)']\n",
      "<class 'list'>\n",
      "['complement(156299', '156883)']\n",
      "<class 'list'>\n",
      "['complement(157253', '157732)']\n",
      "<class 'list'>\n",
      "['complement(157729', '159126)']\n",
      "<class 'list'>\n",
      "['complement(159186', '160112)']\n",
      "<class 'list'>\n",
      "['complement(160149', '160604)']\n",
      "<class 'list'>\n",
      "['complement(160782', '161486)']\n",
      "<class 'list'>\n",
      "['complement(161501', '162031)']\n",
      "<class 'list'>\n",
      "['162105', '164534']\n",
      "<class 'list'>\n",
      "['164730', '167264']\n",
      "<class 'list'>\n",
      "['167484', '169727']\n",
      "<class 'list'>\n",
      "['169778', '170575']\n",
      "<class 'list'>\n",
      "['170575', '171465']\n",
      "<class 'list'>\n",
      "['171462', '173444']\n",
      "<class 'list'>\n",
      "['complement(173602', '174882)']\n",
      "<class 'list'>\n",
      "['175048', '175095']\n",
      "<class 'list'>\n",
      "['175107', '176528']\n",
      "<class 'list'>\n",
      "['176552', '176617']\n",
      "<class 'list'>\n",
      "['176610', '176954']\n",
      "<class 'list'>\n",
      "['complement(177001', '177624)']\n",
      "<class 'list'>\n",
      "['complement(177662', '178462)']\n",
      "<class 'list'>\n",
      "['complement(178455', '179153)']\n",
      "<class 'list'>\n",
      "['179237', '180754']\n",
      "<class 'list'>\n",
      "['180884', '182308']\n",
      "<class 'list'>\n",
      "['182463', '183620']\n",
      "<class 'list'>\n",
      "['complement(183709', '184095)']\n",
      "<class 'list'>\n",
      "['complement(184257', '185069)']\n",
      "<class 'list'>\n",
      "['complement(185123', '185947)']\n",
      "<class 'list'>\n",
      "['complement(185978', '188650)']\n",
      "<class 'list'>\n",
      "['complement(188712', '189506)']\n",
      "<class 'list'>\n",
      "['189712', '189847']\n",
      "<class 'list'>\n",
      "['189874', '190599']\n",
      "<class 'list'>\n",
      "['190857', '191708']\n",
      "<class 'list'>\n",
      "['191855', '192580']\n",
      "<class 'list'>\n",
      "['192872', '193429']\n",
      "<class 'list'>\n",
      "['193521', '194717']\n",
      "<class 'list'>\n",
      "['194903', '195664']\n",
      "<class 'list'>\n",
      "['195677', '196534']\n",
      "<class 'list'>\n",
      "['196546', '197898']\n",
      "<class 'list'>\n",
      "['197928', '200360']\n",
      "<class 'list'>\n",
      "['200482', '200967']\n",
      "<class 'list'>\n",
      "['200971', '201996']\n",
      "<class 'list'>\n",
      "['202101', '202556']\n",
      "<class 'list'>\n",
      "['202560', '203348']\n",
      "<class 'list'>\n",
      "['203348', '204496']\n",
      "<class 'list'>\n",
      "['204493', '205089']\n",
      "<class 'list'>\n",
      "['205126', '208608']\n",
      "<class 'list'>\n",
      "['208621', '209580']\n",
      "<class 'list'>\n",
      "['209679', '211820']\n",
      "<class 'list'>\n",
      "['211877', '212266']\n",
      "<class 'list'>\n",
      "['212331', '213629']\n",
      "<class 'list'>\n",
      "['complement(213678', '213932)']\n",
      "<class 'list'>\n",
      "['complement(213925', '214125)']\n",
      "<class 'list'>\n",
      "['214291', '214836']\n",
      "<class 'list'>\n",
      "['214833', '215255']\n",
      "<class 'list'>\n",
      "['215269', '215979']\n",
      "<class 'list'>\n",
      "['complement(216179', '217003)']\n",
      "<class 'list'>\n",
      "['complement(217057', '218775)']\n",
      "<class 'list'>\n",
      "['complement(218887', '219594)']\n",
      "<class 'list'>\n",
      "['complement(219591', '219995)']\n",
      "<class 'list'>\n",
      "['complement(220113', '220928)']\n",
      "<class 'list'>\n",
      "['complement(220968', '221621)']\n",
      "<class 'list'>\n",
      "['complement(221614', '222645)']\n",
      "<class 'list'>\n",
      "['222833', '223408']\n",
      "<class 'list'>\n",
      "['223771', '225312']\n",
      "<class 'list'>\n",
      "['225381', '225457']\n",
      "<class 'list'>\n",
      "['225500', '225575']\n",
      "<class 'list'>\n",
      "['225759', '228662']\n",
      "<class 'list'>\n",
      "['228756', '228875']\n",
      "<class 'list'>\n",
      "['228928', '229004']\n",
      "<class 'list'>\n",
      "['229167', '229970']\n",
      "<class 'list'>\n",
      "['complement(229967', '230881)']\n",
      "<class 'list'>\n",
      "['231122', '231922']\n",
      "<class 'list'>\n",
      "['231926', '232549']\n",
      "<class 'list'>\n",
      "['complement(232597', '233955)']\n",
      "<class 'list'>\n",
      "['complement(234027', '234782)']\n",
      "<class 'list'>\n",
      "['234816', '235538']\n",
      "<class 'list'>\n",
      "['complement(235535', '236002)']\n",
      "<class 'list'>\n",
      "['236067', '236798']\n",
      "<class 'list'>\n",
      "['236931', '237007']\n",
      "<class 'list'>\n",
      "['237335', '238120']\n",
      "<class 'list'>\n",
      "['complement(238257', '238736)']\n",
      "<class 'list'>\n",
      "['complement(238746', '239084)']\n",
      "<class 'list'>\n",
      "['239190', '239378']\n",
      "<class 'list'>\n",
      "['complement(239419', '240189)']\n",
      "<class 'list'>\n",
      "['240343', '240816']\n",
      "<class 'list'>\n",
      "['complement(240859', '243303)']\n",
      "<class 'list'>\n",
      "['243543', '244121']\n",
      "<class 'list'>\n",
      "['244327', '245094']\n",
      "<class 'list'>\n",
      "['complement(245065', '245805)']\n",
      "<class 'list'>\n",
      "['complement(245961', '246239)']\n",
      "<class 'list'>\n",
      "['complement(246242', '246502)']\n",
      "<class 'list'>\n",
      "['246712', '247461']\n",
      "<class 'list'>\n",
      "['247637', '248134']\n",
      "<class 'list'>\n",
      "['complement(248358', '250070)']\n",
      "<class 'list'>\n",
      "['250072', '250827']\n",
      "<class 'list'>\n",
      "['250898', '251953']\n",
      "<class 'list'>\n",
      "['252005', '252298']\n",
      "<class 'list'>\n",
      "['252301', '252699']\n",
      "<class 'list'>\n",
      "['252709', '253161']\n",
      "<class 'list'>\n",
      "['253467', '253733']\n",
      "<class 'list'>\n",
      "['253702', '254202']\n",
      "<class 'list'>\n",
      "['complement(254259', '255716)']\n",
      "<class 'list'>\n",
      "['255977', '256435']\n",
      "<class 'list'>\n",
      "['256527', '257771']\n",
      "<class 'list'>\n",
      "['join(257829', '257899,258676', '259006)']\n"
     ]
    },
    {
     "ename": "ValueError",
     "evalue": "invalid literal for int() with base 10: 'j'",
     "output_type": "error",
     "traceback": [
      "\u001b[0;31m---------------------------------------------------------------------------\u001b[0m",
      "\u001b[0;31mValueError\u001b[0m                                Traceback (most recent call last)",
      "\u001b[0;32m/tmp/ipykernel_78916/3548951559.py\u001b[0m in \u001b[0;36m<module>\u001b[0;34m\u001b[0m\n\u001b[0;32m----> 1\u001b[0;31m \u001b[0mgenbank2gene\u001b[0m\u001b[0;34m(\u001b[0m\u001b[0;34m'E_Coli.gb'\u001b[0m\u001b[0;34m)\u001b[0m\u001b[0;34m\u001b[0m\u001b[0;34m\u001b[0m\u001b[0m\n\u001b[0m",
      "\u001b[0;32m/tmp/ipykernel_78916/3329927579.py\u001b[0m in \u001b[0;36mgenbank2gene\u001b[0;34m(file)\u001b[0m\n\u001b[1;32m     28\u001b[0m     \u001b[0mres\u001b[0m \u001b[0;34m=\u001b[0m \u001b[0mdict\u001b[0m\u001b[0;34m(\u001b[0m\u001b[0;34m)\u001b[0m\u001b[0;34m\u001b[0m\u001b[0;34m\u001b[0m\u001b[0m\n\u001b[1;32m     29\u001b[0m     \u001b[0;32mfor\u001b[0m \u001b[0mi\u001b[0m \u001b[0;32min\u001b[0m \u001b[0mrange\u001b[0m\u001b[0;34m(\u001b[0m\u001b[0mlen\u001b[0m\u001b[0;34m(\u001b[0m\u001b[0ml\u001b[0m\u001b[0;34m)\u001b[0m\u001b[0;34m-\u001b[0m\u001b[0;36m1\u001b[0m\u001b[0;34m)\u001b[0m\u001b[0;34m:\u001b[0m\u001b[0;34m\u001b[0m\u001b[0;34m\u001b[0m\u001b[0m\n\u001b[0;32m---> 30\u001b[0;31m         \u001b[0mposi\u001b[0m \u001b[0;34m=\u001b[0m \u001b[0mget_positions\u001b[0m\u001b[0;34m(\u001b[0m\u001b[0ml\u001b[0m\u001b[0;34m[\u001b[0m\u001b[0mi\u001b[0m\u001b[0;34m]\u001b[0m\u001b[0;34m)\u001b[0m\u001b[0;34m\u001b[0m\u001b[0;34m\u001b[0m\u001b[0m\n\u001b[0m\u001b[1;32m     31\u001b[0m         \u001b[0mname\u001b[0m \u001b[0;34m=\u001b[0m \u001b[0mget_name\u001b[0m\u001b[0;34m(\u001b[0m\u001b[0ml\u001b[0m\u001b[0;34m[\u001b[0m\u001b[0mi\u001b[0m\u001b[0;34m+\u001b[0m\u001b[0;36m1\u001b[0m\u001b[0;34m]\u001b[0m\u001b[0;34m)\u001b[0m\u001b[0;34m\u001b[0m\u001b[0;34m\u001b[0m\u001b[0m\n\u001b[1;32m     32\u001b[0m         \u001b[0;32mif\u001b[0m \u001b[0mposi\u001b[0m \u001b[0;34m!=\u001b[0m \u001b[0;32mFalse\u001b[0m\u001b[0;34m:\u001b[0m\u001b[0;34m\u001b[0m\u001b[0;34m\u001b[0m\u001b[0m\n",
      "\u001b[0;32m/tmp/ipykernel_78916/3329927579.py\u001b[0m in \u001b[0;36mget_positions\u001b[0;34m(s)\u001b[0m\n\u001b[1;32m     18\u001b[0m             \u001b[0;32mreturn\u001b[0m \u001b[0;34m(\u001b[0m\u001b[0mint\u001b[0m\u001b[0;34m(\u001b[0m\u001b[0msplit2\u001b[0m\u001b[0;34m[\u001b[0m\u001b[0;36m1\u001b[0m\u001b[0;34m]\u001b[0m\u001b[0;34m[\u001b[0m\u001b[0;34m:\u001b[0m\u001b[0;34m-\u001b[0m\u001b[0;36m1\u001b[0m\u001b[0;34m]\u001b[0m\u001b[0;34m)\u001b[0m\u001b[0;34m,\u001b[0m\u001b[0mint\u001b[0m\u001b[0;34m(\u001b[0m\u001b[0msplit2\u001b[0m\u001b[0;34m[\u001b[0m\u001b[0;36m0\u001b[0m\u001b[0;34m]\u001b[0m\u001b[0;34m[\u001b[0m\u001b[0;36m11\u001b[0m\u001b[0;34m:\u001b[0m\u001b[0;34m]\u001b[0m\u001b[0;34m)\u001b[0m\u001b[0;34m)\u001b[0m\u001b[0;34m\u001b[0m\u001b[0;34m\u001b[0m\u001b[0m\n\u001b[1;32m     19\u001b[0m         \u001b[0;32melif\u001b[0m \u001b[0;34m' join('\u001b[0m \u001b[0;32min\u001b[0m \u001b[0ms\u001b[0m\u001b[0;34m:\u001b[0m\u001b[0;34m\u001b[0m\u001b[0;34m\u001b[0m\u001b[0m\n\u001b[0;32m---> 20\u001b[0;31m             \u001b[0;32mreturn\u001b[0m \u001b[0;34m[\u001b[0m\u001b[0;34m(\u001b[0m\u001b[0mint\u001b[0m\u001b[0;34m(\u001b[0m\u001b[0msplit2\u001b[0m\u001b[0;34m[\u001b[0m\u001b[0mz\u001b[0m\u001b[0;34m]\u001b[0m\u001b[0;34m[\u001b[0m\u001b[0;36m0\u001b[0m\u001b[0;34m]\u001b[0m\u001b[0;34m)\u001b[0m\u001b[0;34m,\u001b[0m\u001b[0mint\u001b[0m\u001b[0;34m(\u001b[0m\u001b[0msplit2\u001b[0m\u001b[0;34m[\u001b[0m\u001b[0mz\u001b[0m\u001b[0;34m]\u001b[0m\u001b[0;34m[\u001b[0m\u001b[0;36m1\u001b[0m\u001b[0;34m]\u001b[0m\u001b[0;34m)\u001b[0m\u001b[0;34m)\u001b[0m \u001b[0;32mfor\u001b[0m \u001b[0mz\u001b[0m \u001b[0;32min\u001b[0m \u001b[0mrange\u001b[0m\u001b[0;34m(\u001b[0m\u001b[0mlen\u001b[0m\u001b[0;34m(\u001b[0m\u001b[0msplit2\u001b[0m\u001b[0;34m)\u001b[0m\u001b[0;34m)\u001b[0m\u001b[0;34m]\u001b[0m\u001b[0;34m\u001b[0m\u001b[0;34m\u001b[0m\u001b[0m\n\u001b[0m\u001b[1;32m     21\u001b[0m         \u001b[0;32melse\u001b[0m\u001b[0;34m:\u001b[0m\u001b[0;34m\u001b[0m\u001b[0;34m\u001b[0m\u001b[0m\n\u001b[1;32m     22\u001b[0m             \u001b[0;32mreturn\u001b[0m \u001b[0;34m(\u001b[0m\u001b[0mint\u001b[0m\u001b[0;34m(\u001b[0m\u001b[0msplit2\u001b[0m\u001b[0;34m[\u001b[0m\u001b[0;36m0\u001b[0m\u001b[0;34m]\u001b[0m\u001b[0;34m)\u001b[0m\u001b[0;34m,\u001b[0m\u001b[0mint\u001b[0m\u001b[0;34m(\u001b[0m\u001b[0msplit2\u001b[0m\u001b[0;34m[\u001b[0m\u001b[0;36m1\u001b[0m\u001b[0;34m]\u001b[0m\u001b[0;34m)\u001b[0m\u001b[0;34m)\u001b[0m\u001b[0;34m\u001b[0m\u001b[0;34m\u001b[0m\u001b[0m\n",
      "\u001b[0;32m/tmp/ipykernel_78916/3329927579.py\u001b[0m in \u001b[0;36m<listcomp>\u001b[0;34m(.0)\u001b[0m\n\u001b[1;32m     18\u001b[0m             \u001b[0;32mreturn\u001b[0m \u001b[0;34m(\u001b[0m\u001b[0mint\u001b[0m\u001b[0;34m(\u001b[0m\u001b[0msplit2\u001b[0m\u001b[0;34m[\u001b[0m\u001b[0;36m1\u001b[0m\u001b[0;34m]\u001b[0m\u001b[0;34m[\u001b[0m\u001b[0;34m:\u001b[0m\u001b[0;34m-\u001b[0m\u001b[0;36m1\u001b[0m\u001b[0;34m]\u001b[0m\u001b[0;34m)\u001b[0m\u001b[0;34m,\u001b[0m\u001b[0mint\u001b[0m\u001b[0;34m(\u001b[0m\u001b[0msplit2\u001b[0m\u001b[0;34m[\u001b[0m\u001b[0;36m0\u001b[0m\u001b[0;34m]\u001b[0m\u001b[0;34m[\u001b[0m\u001b[0;36m11\u001b[0m\u001b[0;34m:\u001b[0m\u001b[0;34m]\u001b[0m\u001b[0;34m)\u001b[0m\u001b[0;34m)\u001b[0m\u001b[0;34m\u001b[0m\u001b[0;34m\u001b[0m\u001b[0m\n\u001b[1;32m     19\u001b[0m         \u001b[0;32melif\u001b[0m \u001b[0;34m' join('\u001b[0m \u001b[0;32min\u001b[0m \u001b[0ms\u001b[0m\u001b[0;34m:\u001b[0m\u001b[0;34m\u001b[0m\u001b[0;34m\u001b[0m\u001b[0m\n\u001b[0;32m---> 20\u001b[0;31m             \u001b[0;32mreturn\u001b[0m \u001b[0;34m[\u001b[0m\u001b[0;34m(\u001b[0m\u001b[0mint\u001b[0m\u001b[0;34m(\u001b[0m\u001b[0msplit2\u001b[0m\u001b[0;34m[\u001b[0m\u001b[0mz\u001b[0m\u001b[0;34m]\u001b[0m\u001b[0;34m[\u001b[0m\u001b[0;36m0\u001b[0m\u001b[0;34m]\u001b[0m\u001b[0;34m)\u001b[0m\u001b[0;34m,\u001b[0m\u001b[0mint\u001b[0m\u001b[0;34m(\u001b[0m\u001b[0msplit2\u001b[0m\u001b[0;34m[\u001b[0m\u001b[0mz\u001b[0m\u001b[0;34m]\u001b[0m\u001b[0;34m[\u001b[0m\u001b[0;36m1\u001b[0m\u001b[0;34m]\u001b[0m\u001b[0;34m)\u001b[0m\u001b[0;34m)\u001b[0m \u001b[0;32mfor\u001b[0m \u001b[0mz\u001b[0m \u001b[0;32min\u001b[0m \u001b[0mrange\u001b[0m\u001b[0;34m(\u001b[0m\u001b[0mlen\u001b[0m\u001b[0;34m(\u001b[0m\u001b[0msplit2\u001b[0m\u001b[0;34m)\u001b[0m\u001b[0;34m)\u001b[0m\u001b[0;34m]\u001b[0m\u001b[0;34m\u001b[0m\u001b[0;34m\u001b[0m\u001b[0m\n\u001b[0m\u001b[1;32m     21\u001b[0m         \u001b[0;32melse\u001b[0m\u001b[0;34m:\u001b[0m\u001b[0;34m\u001b[0m\u001b[0;34m\u001b[0m\u001b[0m\n\u001b[1;32m     22\u001b[0m             \u001b[0;32mreturn\u001b[0m \u001b[0;34m(\u001b[0m\u001b[0mint\u001b[0m\u001b[0;34m(\u001b[0m\u001b[0msplit2\u001b[0m\u001b[0;34m[\u001b[0m\u001b[0;36m0\u001b[0m\u001b[0;34m]\u001b[0m\u001b[0;34m)\u001b[0m\u001b[0;34m,\u001b[0m\u001b[0mint\u001b[0m\u001b[0;34m(\u001b[0m\u001b[0msplit2\u001b[0m\u001b[0;34m[\u001b[0m\u001b[0;36m1\u001b[0m\u001b[0;34m]\u001b[0m\u001b[0;34m)\u001b[0m\u001b[0;34m)\u001b[0m\u001b[0;34m\u001b[0m\u001b[0;34m\u001b[0m\u001b[0m\n",
      "\u001b[0;31mValueError\u001b[0m: invalid literal for int() with base 10: 'j'"
     ]
    }
   ],
   "source": [
    "genbank2gene('E_Coli.gb')"
   ]
  },
  {
   "cell_type": "markdown",
   "metadata": {},
   "source": [
    "#### Q4.\n",
    "\n",
    "Proposez une manière de stocker les gènes multiexoniques. Modifiez votre fonction pour les prendre en compte."
   ]
  },
  {
   "cell_type": "code",
   "execution_count": null,
   "metadata": {},
   "outputs": [],
   "source": []
  }
 ],
 "metadata": {
  "kernelspec": {
   "display_name": "Python 3 (ipykernel)",
   "language": "python",
   "name": "python3"
  },
  "language_info": {
   "codemirror_mode": {
    "name": "ipython",
    "version": 3
   },
   "file_extension": ".py",
   "mimetype": "text/x-python",
   "name": "python",
   "nbconvert_exporter": "python",
   "pygments_lexer": "ipython3",
   "version": "3.8.10"
  }
 },
 "nbformat": 4,
 "nbformat_minor": 4
}
