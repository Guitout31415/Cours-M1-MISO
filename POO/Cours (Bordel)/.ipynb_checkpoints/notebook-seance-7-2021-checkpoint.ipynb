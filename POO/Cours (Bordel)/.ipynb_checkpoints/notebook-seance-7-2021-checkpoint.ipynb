{
 "cells": [
  {
   "cell_type": "markdown",
   "metadata": {},
   "source": [
    "# Notebook séance 6\n",
    "\n",
    "Commenter son code et autres [bonnes pratiques](https://python.sdv.univ-paris-diderot.fr/15_bonnes_pratiques/)"
   ]
  },
  {
   "cell_type": "markdown",
   "metadata": {},
   "source": [
    "## Mettre des commentaires pour expliquer ce qu'on fait"
   ]
  },
  {
   "cell_type": "markdown",
   "metadata": {},
   "source": [
    "Comparer :"
   ]
  },
  {
   "cell_type": "code",
   "execution_count": 24,
   "metadata": {},
   "outputs": [],
   "source": [
    "def orf(seq):\n",
    "    debut = 0\n",
    "    orf = None\n",
    "    while debut < len(seq) and seq[debut:debut+3] != 'ATG':\n",
    "        debut += 1\n",
    "    fin = debut+3\n",
    "    while fin < len(seq) and seq[fin:fin+3] not in ['TAA', 'TAG', 'TGA']:\n",
    "        fin += 3\n",
    "    if fin < len(seq):\n",
    "        orf = seq[debut:fin+3]\n",
    "    return orf"
   ]
  },
  {
   "cell_type": "markdown",
   "metadata": {},
   "source": [
    "Et :"
   ]
  },
  {
   "cell_type": "code",
   "execution_count": 25,
   "metadata": {},
   "outputs": [],
   "source": [
    "def orf(seq):\n",
    "    # orf contiendra l'ORF extraite si elle existe, None sinon\n",
    "    orf = None\n",
    "    # on recherche la position du codon start\n",
    "    debut = 0\n",
    "    while debut < len(seq) and seq[debut:debut+3] != 'ATG':\n",
    "        debut += 1\n",
    "    # on recherche la position du codon stop qui doit débuter après le codon start        \n",
    "    fin = debut+3\n",
    "    while fin < len(seq) and seq[fin:fin+3] not in ['TAA', 'TAG', 'TGA']:\n",
    "        # le codon STOP est en phase avec le codon start donc on avance de 3 en 3\n",
    "        fin += 3\n",
    "    # si on a trouvé un STOP en phase avant la fin de la séquence, on a trouvé une ORF\n",
    "    if fin < len(seq):\n",
    "        orf = seq[debut:fin+3]\n",
    "    return orf"
   ]
  },
  {
   "cell_type": "markdown",
   "metadata": {},
   "source": [
    "## Ecrire du code lisible\n",
    "\n",
    "En Python l'indentation est obligatoire et permet de bien visualiser les blocs de code. Ainsi on repère facilement les blocs de code exécutés dans une boucle ou une conditionnelle. Comme il n'y a pas de séparateur d'instruction, on a aussi une seule instruction par ligne, ce qui facilite la lecture.\n",
    "\n",
    "Néanmoins, il y a d'autres éléments auxquels faire attention, comme les espaces, les parenthèses et les noms de variables."
   ]
  },
  {
   "cell_type": "code",
   "execution_count": 1,
   "metadata": {},
   "outputs": [],
   "source": [
    "def orf(seq):\n",
    "    orf = None\n",
    "    debut = 0\n",
    "    while debut < len(seq) and seq[debut:debut+3] != 'ATG':\n",
    "        debut += 1\n",
    "    fin = debut+3\n",
    "    while fin < len(seq) and seq[fin:fin+3] not in ['TAA', 'TAG', 'TGA']:\n",
    "        fin += 3\n",
    "    if fin < len(seq):\n",
    "        orf = seq[debut:fin+3]\n",
    "    return orf"
   ]
  },
  {
   "cell_type": "code",
   "execution_count": 26,
   "metadata": {},
   "outputs": [],
   "source": [
    "def orf(seq):\n",
    "    orf=None\n",
    "    debut=0\n",
    "    while debut<len(seq) and seq[debut:debut+3]!='ATG':\n",
    "        debut+=1\n",
    "    fin=debut+3\n",
    "    while fin<len(seq) and seq[fin:fin+3] not in ['TAA','TAG','TGA']:\n",
    "        fin+=3\n",
    "    if fin<len(seq):\n",
    "        orf=seq[debut:fin+3]\n",
    "    return orf"
   ]
  },
  {
   "cell_type": "code",
   "execution_count": 27,
   "metadata": {},
   "outputs": [],
   "source": [
    "def orf(s):\n",
    "    o=None\n",
    "    d=0\n",
    "    while d<len(s) and s[d:d+3]!='ATG':\n",
    "        d+=1\n",
    "    f=d+3\n",
    "    while f<len(s) and s[f:f+3] not in ['TAA','TAG','TGA']:\n",
    "        f+=3\n",
    "    if f<len(s):\n",
    "        o=s[d:f+3]\n",
    "    return o"
   ]
  },
  {
   "cell_type": "code",
   "execution_count": 28,
   "metadata": {},
   "outputs": [],
   "source": [
    "def orf(s):\n",
    "    o=None\n",
    "    d=0\n",
    "    while ((d<len(s)) and (s[d:d+3]!='ATG')):\n",
    "        d+=1\n",
    "    f=d+3\n",
    "    while ((f<len(s)) and (s[f:f+3] not in ['TAA','TAG','TGA'])):\n",
    "        f+=3\n",
    "    if (f<len(s)):\n",
    "        o=s[d:f+3]\n",
    "    return o"
   ]
  },
  {
   "cell_type": "code",
   "execution_count": 2,
   "metadata": {},
   "outputs": [],
   "source": [
    "def toto(x):\n",
    "    y=None\n",
    "    z=0\n",
    "    while ((y<len(x)) and (x[z:z+3]!='ATG')):\n",
    "        z+=1\n",
    "    t=z+3\n",
    "    while ((t<len(s)) and (x[t:t+3] not in ['TAA','TAG','TGA'])):\n",
    "        t+=3\n",
    "    if (t<len(s)):\n",
    "        y=x[z:t+3]\n",
    "    return y"
   ]
  },
  {
   "cell_type": "markdown",
   "metadata": {},
   "source": [
    "## Docstrings\n",
    "\n",
    "Les commentaires avec `\"\"\"` se nomment les docstrings et sont donc à réserver à l'usage des commentaires de fonction (et de modules), et pas pour commenter le code qu'on est en train d'écrire. Les docstrings sont interprétées par la fonction `help` de python."
   ]
  },
  {
   "cell_type": "code",
   "execution_count": 3,
   "metadata": {},
   "outputs": [],
   "source": [
    "def multiplie_nombres(nombre1, nombre2):\n",
    "    \"\"\"Multiplication de deux nombres entiers.\n",
    "\n",
    "    Cette fonction ne sert pas à grand chose.\n",
    "\n",
    "    Parameters\n",
    "    ----------\n",
    "    nombre1 : int\n",
    "        Le premier nombre entier.\n",
    "    nombre2 : int\n",
    "        Le second nombre entier.\n",
    "\n",
    "        Avec une description plus longue.\n",
    "        Sur plusieurs lignes.\n",
    "\n",
    "    Returns\n",
    "    -------\n",
    "    int\n",
    "        Le produit des deux nombres.\n",
    "    \"\"\"\n",
    "    return nombre1 * nombre2"
   ]
  },
  {
   "cell_type": "code",
   "execution_count": 4,
   "metadata": {},
   "outputs": [
    {
     "name": "stdout",
     "output_type": "stream",
     "text": [
      "Help on function multiplie_nombres in module __main__:\n",
      "\n",
      "multiplie_nombres(nombre1, nombre2)\n",
      "    Multiplication de deux nombres entiers.\n",
      "    \n",
      "    Cette fonction ne sert pas à grand chose.\n",
      "    \n",
      "    Parameters\n",
      "    ----------\n",
      "    nombre1 : int\n",
      "        Le premier nombre entier.\n",
      "    nombre2 : int\n",
      "        Le second nombre entier.\n",
      "    \n",
      "        Avec une description plus longue.\n",
      "        Sur plusieurs lignes.\n",
      "    \n",
      "    Returns\n",
      "    -------\n",
      "    int\n",
      "        Le produit des deux nombres.\n",
      "\n"
     ]
    }
   ],
   "source": [
    "help(multiplie_nombres)"
   ]
  },
  {
   "cell_type": "code",
   "execution_count": 8,
   "metadata": {},
   "outputs": [
    {
     "name": "stdout",
     "output_type": "stream",
     "text": [
      "Help on built-in function len in module builtins:\n",
      "\n",
      "len(obj, /)\n",
      "    Return the number of items in a container.\n",
      "\n"
     ]
    }
   ],
   "source": [
    "help(len)"
   ]
  },
  {
   "cell_type": "code",
   "execution_count": 9,
   "metadata": {},
   "outputs": [
    {
     "name": "stdout",
     "output_type": "stream",
     "text": [
      "Help on built-in function sorted in module builtins:\n",
      "\n",
      "sorted(iterable, /, *, key=None, reverse=False)\n",
      "    Return a new list containing all items from the iterable in ascending order.\n",
      "    \n",
      "    A custom key function can be supplied to customize the sort order, and the\n",
      "    reverse flag can be set to request the result in descending order.\n",
      "\n"
     ]
    }
   ],
   "source": [
    "help(sorted)"
   ]
  },
  {
   "cell_type": "code",
   "execution_count": 16,
   "metadata": {},
   "outputs": [],
   "source": [
    "import random\n",
    "\n",
    "def random_dna(length):\n",
    "    \"\"\"\n",
    "    Returns a random DNA sequence.\n",
    "    \n",
    "    Parameters\n",
    "    ----------\n",
    "    length : int\n",
    "        Length of the DNA sequence.\n",
    "        \n",
    "    Returns\n",
    "    -------\n",
    "    string\n",
    "        A random DNA sequence. Empty if length <= 0.\n",
    "    \"\"\"\n",
    "    return ''.join([random.choice(['A','C','T','G']) for _ in range (length)])"
   ]
  },
  {
   "cell_type": "code",
   "execution_count": 17,
   "metadata": {},
   "outputs": [
    {
     "name": "stdout",
     "output_type": "stream",
     "text": [
      "Help on function random_dna in module __main__:\n",
      "\n",
      "random_dna(length)\n",
      "    Returns a random DNA sequence.\n",
      "    \n",
      "    Parameters\n",
      "    ----------\n",
      "    length : int\n",
      "        Length of the DNA sequence.\n",
      "        \n",
      "    Returns\n",
      "    -------\n",
      "    string\n",
      "        A random DNA sequence. Empty if length <= 0.\n",
      "\n"
     ]
    }
   ],
   "source": [
    "help(random_dna)"
   ]
  },
  {
   "cell_type": "code",
   "execution_count": 18,
   "metadata": {},
   "outputs": [
    {
     "data": {
      "text/plain": [
       "''"
      ]
     },
     "execution_count": 18,
     "metadata": {},
     "output_type": "execute_result"
    }
   ],
   "source": [
    "random_dna(-3)"
   ]
  },
  {
   "cell_type": "markdown",
   "metadata": {},
   "source": [
    "Les commentaires existent aussi dans les scripts `.py` qu'on va exécuter en ligne de commande."
   ]
  },
  {
   "cell_type": "code",
   "execution_count": 5,
   "metadata": {},
   "outputs": [
    {
     "name": "stdout",
     "output_type": "stream",
     "text": [
      "None\n",
      "L\n"
     ]
    }
   ],
   "source": [
    "\"\"\"Ce programme calcule les fréquences de chaque acide aminé d'une protéine donnée en argument.\n",
    "\n",
    "Usage:\n",
    "======\n",
    "    python freq_aa.py argument\n",
    "\n",
    "    argument: une chaîne de caractères correspondant à une séquence protéique\n",
    "\"\"\"\n",
    "\n",
    "__authors__ = (\"Etudiants du master MISO\")\n",
    "__contact__ = (\"miso@univ-lille.fr\")\n",
    "__version__ = \"1.0.0\"\n",
    "__copyright__ = \"copyleft\"\n",
    "__date__ = \"2021/10\"\n",
    "__version__= \"0.0.2\"\n",
    "\n",
    "import sys\n",
    "\n",
    "\n",
    "# les constantes\n",
    "AA_ALPHABET = ['A', 'R', 'N', 'D', 'C', 'Q', 'E', 'G', 'H', 'I', 'L', 'K', 'M', 'F', 'P', 'S', 'T', 'W', 'Y', 'V', 'X', 'Z', 'J', 'U']\n",
    "\n",
    "\n",
    "# les fonctions\n",
    "def number_of_aa (aa, protein):\n",
    "    \"\"\"\n",
    "    Computes the number of given amino acid in a protein sequence.\n",
    "    \n",
    "    Parameters\n",
    "    ----------\n",
    "    aa : string\n",
    "        an amino acid (should be one char)\n",
    "    protein : string\n",
    "        a protein sequence\n",
    "        \n",
    "    Returns\n",
    "    -------\n",
    "    int\n",
    "        the number of aa 'aa' in 'protein'\n",
    "    \"\"\"\n",
    "    cpt = 0\n",
    "    for a in protein:\n",
    "        if a == aa:\n",
    "            cpt += 1\n",
    "    return cpt\n",
    "\n",
    "\n",
    "def most_frequent_aa (protein):\n",
    "    \"\"\"\n",
    "    Computes the most frequent amino acid in a protein sequence.\n",
    "    \n",
    "    Parameters\n",
    "    ----------\n",
    "    protein : string\n",
    "        a protein sequence\n",
    "        \n",
    "    Returns\n",
    "    -------\n",
    "    string\n",
    "        the most frequent aa in 'protein'\n",
    "    \"\"\"\n",
    "    cpt = 0\n",
    "    m_f_aa = None\n",
    "    for aa in AA_ALPHABET:\n",
    "        c = number_of_aa (aa, protein)\n",
    "        if c > cpt:\n",
    "            cpt = c\n",
    "            m_f_aa = aa\n",
    "    return m_f_aa\n",
    "\n",
    "\n",
    "# le programme principal\n",
    "if __name__ == \"__main__\":\n",
    "    for i in range(1,len(sys.argv)):\n",
    "        p = sys.argv[i]\n",
    "        print(most_frequent_aa(p))"
   ]
  },
  {
   "cell_type": "markdown",
   "metadata": {},
   "source": [
    "## Hamming"
   ]
  },
  {
   "cell_type": "code",
   "execution_count": 6,
   "metadata": {},
   "outputs": [
    {
     "name": "stdout",
     "output_type": "stream",
     "text": [
      "Both sequences must have the same length\n"
     ]
    }
   ],
   "source": [
    "\"\"\"This script computes the Hamming distance between two protein sequences. Both sequences must have the same length.\n",
    "\n",
    "Usage:\n",
    "======\n",
    "    python hamming.py argument1 argument2\n",
    "\n",
    "    argument1: a protein sequence as a string\n",
    "    argument2: a protein sequence as a string\n",
    "\"\"\"\n",
    "\n",
    "__authors__ = \"Etudiants du master MISO\"\n",
    "__contact__ = \"miso@univ-lille.fr\"\n",
    "__version__ = \"1.0.0\"\n",
    "__copyright__ = \"copyleft\"\n",
    "__date__ = \"2021/10\"\n",
    "\n",
    "import sys\n",
    "\n",
    "\n",
    "# functions\n",
    "def hamming(p1, p2):\n",
    "    \"\"\"\n",
    "    Computes the Hamming distance between two protein sequences.\n",
    "    Both sequences must have the same length.\n",
    "\n",
    "    Parameters\n",
    "    ----------\n",
    "    p1 : string\n",
    "        a protein sequence\n",
    "    p2 : string\n",
    "        a protein sequence\n",
    "\n",
    "    Returns\n",
    "    -------\n",
    "    int\n",
    "        the Hamming distance\n",
    "    \"\"\"\n",
    "    distance = 0\n",
    "    # to compute the hamming distance we compare letters at each position and add one to 'distance' when letters differ\n",
    "    for i in range(len(p1)):\n",
    "        if p1[i] != p2[i]:\n",
    "            distance += 1\n",
    "    return distance\n",
    "\n",
    "\n",
    "# main program\n",
    "if __name__ == \"__main__\":\n",
    "    if len(sys.argv) != 3:\n",
    "        print(\"Usage : python hamming.py argument1 argument2\")\n",
    "    else:\n",
    "        p = sys.argv[1]\n",
    "        q = sys.argv[2]\n",
    "        if len(p) != len(q):\n",
    "            print(\"Both sequences must have the same length\")\n",
    "        else:\n",
    "            print(hamming(p, q))\n"
   ]
  },
  {
   "cell_type": "markdown",
   "metadata": {},
   "source": [
    "## Vérifier la qualité d'écriture"
   ]
  },
  {
   "cell_type": "markdown",
   "metadata": {},
   "source": [
    "`pycodestyle` permet de tester l'écriture de son code"
   ]
  },
  {
   "cell_type": "markdown",
   "metadata": {},
   "source": [
    "`pydoctyle` permet de tester l'écriture de la documentation"
   ]
  },
  {
   "cell_type": "code",
   "execution_count": null,
   "metadata": {},
   "outputs": [],
   "source": []
  }
 ],
 "metadata": {
  "kernelspec": {
   "display_name": "Python 3 (ipykernel)",
   "language": "python",
   "name": "python3"
  },
  "language_info": {
   "codemirror_mode": {
    "name": "ipython",
    "version": 3
   },
   "file_extension": ".py",
   "mimetype": "text/x-python",
   "name": "python",
   "nbconvert_exporter": "python",
   "pygments_lexer": "ipython3",
   "version": "3.8.10"
  }
 },
 "nbformat": 4,
 "nbformat_minor": 4
}
